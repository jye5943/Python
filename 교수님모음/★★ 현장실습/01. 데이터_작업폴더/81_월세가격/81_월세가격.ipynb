{
 "cells": [
  {
   "cell_type": "code",
   "execution_count": 1,
   "metadata": {},
   "outputs": [],
   "source": [
    "import pandas as pd\n",
    "import requests\n",
    "from pandas.io.json import json_normalize"
   ]
  },
  {
   "cell_type": "code",
   "execution_count": 8,
   "metadata": {},
   "outputs": [],
   "source": [
    "url = \"http://kosis.kr/openapi/Param/statisticsParameterData.do?method=getList&apiKey=NzFiMDQ2NWU0ZmIzODJlZDFmNWFhMmM1ODQ4ZDE0NTE=&itmId=T001+T002+T003+T004+&objL1=ALL&objL2=ALL&objL3=&objL4=&objL5=&objL6=&objL7=&objL8=&format=json&jsonVD=Y&prdSe=M&newEstPrdCnt=1&loadGubun=2&orgId=408&tblId=DT_08002_06\""
   ]
  },
  {
   "cell_type": "code",
   "execution_count": 9,
   "metadata": {},
   "outputs": [
    {
     "data": {
      "text/plain": [
       "<Response [200]>"
      ]
     },
     "execution_count": 9,
     "metadata": {},
     "output_type": "execute_result"
    }
   ],
   "source": [
    "response = requests.get(url)\n",
    "response"
   ]
  },
  {
   "cell_type": "code",
   "execution_count": 10,
   "metadata": {},
   "outputs": [],
   "source": [
    "json = response.json()"
   ]
  },
  {
   "cell_type": "code",
   "execution_count": 11,
   "metadata": {},
   "outputs": [],
   "source": [
    "df = json_normalize(json)"
   ]
  },
  {
   "cell_type": "code",
   "execution_count": 12,
   "metadata": {},
   "outputs": [
    {
     "data": {
      "text/html": [
       "<div>\n",
       "<style scoped>\n",
       "    .dataframe tbody tr th:only-of-type {\n",
       "        vertical-align: middle;\n",
       "    }\n",
       "\n",
       "    .dataframe tbody tr th {\n",
       "        vertical-align: top;\n",
       "    }\n",
       "\n",
       "    .dataframe thead th {\n",
       "        text-align: right;\n",
       "    }\n",
       "</style>\n",
       "<table border=\"1\" class=\"dataframe\">\n",
       "  <thead>\n",
       "    <tr style=\"text-align: right;\">\n",
       "      <th></th>\n",
       "      <th>C1</th>\n",
       "      <th>C1_NM</th>\n",
       "      <th>C1_OBJ_NM</th>\n",
       "      <th>C2</th>\n",
       "      <th>C2_NM</th>\n",
       "      <th>C2_OBJ_NM</th>\n",
       "      <th>DT</th>\n",
       "      <th>ITM_ID</th>\n",
       "      <th>ITM_NM</th>\n",
       "      <th>ORG_ID</th>\n",
       "      <th>PRD_DE</th>\n",
       "      <th>PRD_SE</th>\n",
       "      <th>TBL_ID</th>\n",
       "      <th>TBL_NM</th>\n",
       "      <th>UNIT_NM</th>\n",
       "      <th>UNIT_NM_ENG</th>\n",
       "    </tr>\n",
       "  </thead>\n",
       "  <tbody>\n",
       "    <tr>\n",
       "      <th>0</th>\n",
       "      <td>0001</td>\n",
       "      <td>전국</td>\n",
       "      <td>지역별</td>\n",
       "      <td>0001</td>\n",
       "      <td>전체</td>\n",
       "      <td>규모별</td>\n",
       "      <td>14330.1299</td>\n",
       "      <td>T001</td>\n",
       "      <td>평균월세보증금</td>\n",
       "      <td>408</td>\n",
       "      <td>201903</td>\n",
       "      <td>M</td>\n",
       "      <td>DT_08002_06</td>\n",
       "      <td>월세가격</td>\n",
       "      <td>천원</td>\n",
       "      <td>1000 won</td>\n",
       "    </tr>\n",
       "    <tr>\n",
       "      <th>1</th>\n",
       "      <td>0001</td>\n",
       "      <td>전국</td>\n",
       "      <td>지역별</td>\n",
       "      <td>0001</td>\n",
       "      <td>전체</td>\n",
       "      <td>규모별</td>\n",
       "      <td>649.1362938</td>\n",
       "      <td>T002</td>\n",
       "      <td>평균월세가격</td>\n",
       "      <td>408</td>\n",
       "      <td>201903</td>\n",
       "      <td>M</td>\n",
       "      <td>DT_08002_06</td>\n",
       "      <td>월세가격</td>\n",
       "      <td>천원</td>\n",
       "      <td>1000 won</td>\n",
       "    </tr>\n",
       "    <tr>\n",
       "      <th>2</th>\n",
       "      <td>0001</td>\n",
       "      <td>전국</td>\n",
       "      <td>지역별</td>\n",
       "      <td>0001</td>\n",
       "      <td>전체</td>\n",
       "      <td>규모별</td>\n",
       "      <td>10643.09182</td>\n",
       "      <td>T003</td>\n",
       "      <td>중위월세보증금</td>\n",
       "      <td>408</td>\n",
       "      <td>201903</td>\n",
       "      <td>M</td>\n",
       "      <td>DT_08002_06</td>\n",
       "      <td>월세가격</td>\n",
       "      <td>천원</td>\n",
       "      <td>1000 won</td>\n",
       "    </tr>\n",
       "    <tr>\n",
       "      <th>3</th>\n",
       "      <td>0001</td>\n",
       "      <td>전국</td>\n",
       "      <td>지역별</td>\n",
       "      <td>0001</td>\n",
       "      <td>전체</td>\n",
       "      <td>규모별</td>\n",
       "      <td>609.2527558</td>\n",
       "      <td>T004</td>\n",
       "      <td>중위월세가격</td>\n",
       "      <td>408</td>\n",
       "      <td>201903</td>\n",
       "      <td>M</td>\n",
       "      <td>DT_08002_06</td>\n",
       "      <td>월세가격</td>\n",
       "      <td>천원</td>\n",
       "      <td>1000 won</td>\n",
       "    </tr>\n",
       "    <tr>\n",
       "      <th>4</th>\n",
       "      <td>0001</td>\n",
       "      <td>전국</td>\n",
       "      <td>지역별</td>\n",
       "      <td>0002</td>\n",
       "      <td>40㎡이하</td>\n",
       "      <td>규모별</td>\n",
       "      <td>7574.270755</td>\n",
       "      <td>T001</td>\n",
       "      <td>평균월세보증금</td>\n",
       "      <td>408</td>\n",
       "      <td>201903</td>\n",
       "      <td>M</td>\n",
       "      <td>DT_08002_06</td>\n",
       "      <td>월세가격</td>\n",
       "      <td>천원</td>\n",
       "      <td>1000 won</td>\n",
       "    </tr>\n",
       "  </tbody>\n",
       "</table>\n",
       "</div>"
      ],
      "text/plain": [
       "     C1 C1_NM C1_OBJ_NM    C2  C2_NM C2_OBJ_NM           DT ITM_ID   ITM_NM  \\\n",
       "0  0001    전국       지역별  0001     전체       규모별   14330.1299   T001  평균월세보증금   \n",
       "1  0001    전국       지역별  0001     전체       규모별  649.1362938   T002   평균월세가격   \n",
       "2  0001    전국       지역별  0001     전체       규모별  10643.09182   T003  중위월세보증금   \n",
       "3  0001    전국       지역별  0001     전체       규모별  609.2527558   T004   중위월세가격   \n",
       "4  0001    전국       지역별  0002  40㎡이하       규모별  7574.270755   T001  평균월세보증금   \n",
       "\n",
       "  ORG_ID  PRD_DE PRD_SE       TBL_ID TBL_NM UNIT_NM UNIT_NM_ENG  \n",
       "0    408  201903      M  DT_08002_06   월세가격      천원    1000 won  \n",
       "1    408  201903      M  DT_08002_06   월세가격      천원    1000 won  \n",
       "2    408  201903      M  DT_08002_06   월세가격      천원    1000 won  \n",
       "3    408  201903      M  DT_08002_06   월세가격      천원    1000 won  \n",
       "4    408  201903      M  DT_08002_06   월세가격      천원    1000 won  "
      ]
     },
     "execution_count": 12,
     "metadata": {},
     "output_type": "execute_result"
    }
   ],
   "source": [
    "df.head()"
   ]
  },
  {
   "cell_type": "code",
   "execution_count": 7,
   "metadata": {},
   "outputs": [],
   "source": [
    "df.to_csv(\"./leasePrice.csv\", index=False, encoding=\"ms949\")"
   ]
  },
  {
   "cell_type": "code",
   "execution_count": null,
   "metadata": {},
   "outputs": [],
   "source": []
  }
 ],
 "metadata": {
  "kernelspec": {
   "display_name": "Python 3",
   "language": "python",
   "name": "python3"
  },
  "language_info": {
   "codemirror_mode": {
    "name": "ipython",
    "version": 3
   },
   "file_extension": ".py",
   "mimetype": "text/x-python",
   "name": "python",
   "nbconvert_exporter": "python",
   "pygments_lexer": "ipython3",
   "version": "3.7.1"
  }
 },
 "nbformat": 4,
 "nbformat_minor": 2
}
