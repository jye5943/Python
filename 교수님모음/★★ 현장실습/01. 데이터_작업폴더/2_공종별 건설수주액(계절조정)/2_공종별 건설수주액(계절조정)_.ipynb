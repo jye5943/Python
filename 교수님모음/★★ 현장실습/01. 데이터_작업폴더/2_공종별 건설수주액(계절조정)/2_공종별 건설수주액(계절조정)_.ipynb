{
 "cells": [
  {
   "cell_type": "code",
   "execution_count": null,
   "metadata": {},
   "outputs": [],
   "source": [
    "import pandas as pd\n",
    "import requests\n",
    "from pandas.io.json import json_normalize\n",
    "\n",
    "ur2 = 'http://kosis.kr/openapi/statisticsData.do?method=getList&apiKey=ZjU4ZmIzNGIyYjIzZWRmOTY0NGZlZWEwOTUxYTE1YTM=&format=json&jsonVD=Y&userStatsId=dlgudtjq333/101/DT_1G1B045/2/1/20190418172409&prdSe=M&newEstPrdCnt=1'\n",
    "response = requests.get(url2)\n",
    "json = response.json()\n",
    "\n",
    "df2 = json_normalize(json)\n",
    "df2.head()\n",
    "\n",
    "df2.to_csv('./DataProject/2_공종별 건설수주액(계절조정)_.csv', encoding = \"ms949\")"
   ]
  }
 ],
 "metadata": {
  "kernelspec": {
   "display_name": "Python 3",
   "language": "python",
   "name": "python3"
  },
  "language_info": {
   "codemirror_mode": {
    "name": "ipython",
    "version": 3
   },
   "file_extension": ".py",
   "mimetype": "text/x-python",
   "name": "python",
   "nbconvert_exporter": "python",
   "pygments_lexer": "ipython3",
   "version": "3.6.4"
  }
 },
 "nbformat": 4,
 "nbformat_minor": 2
}
