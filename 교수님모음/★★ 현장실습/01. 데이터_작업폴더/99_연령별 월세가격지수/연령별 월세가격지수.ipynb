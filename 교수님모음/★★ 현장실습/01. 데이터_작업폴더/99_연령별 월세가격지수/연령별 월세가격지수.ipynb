{
 "cells": [
  {
   "cell_type": "code",
   "execution_count": 1,
   "metadata": {},
   "outputs": [],
   "source": [
    "import pandas as pd"
   ]
  },
  {
   "cell_type": "code",
   "execution_count": 2,
   "metadata": {},
   "outputs": [],
   "source": [
    "import requests\n",
    "from pandas.io.json import json_normalize"
   ]
  },
  {
   "cell_type": "code",
   "execution_count": 3,
   "metadata": {},
   "outputs": [],
   "source": [
    "url = 'http://kosis.kr/openapi/statisticsData.do?method=getList&apiKey=NThlOGM4MTg3YTM0ZWYxMWZmYTQzY2QxY2E0ODI0N2E=&format=json&jsonVD=Y&userStatsId=tjs0810/408/DT_30404_N0008/2/1/20190418172304&prdSe=M&newEstPrdCnt=1'"
   ]
  },
  {
   "cell_type": "code",
   "execution_count": 4,
   "metadata": {},
   "outputs": [
    {
     "data": {
      "text/plain": [
       "<Response [200]>"
      ]
     },
     "execution_count": 4,
     "metadata": {},
     "output_type": "execute_result"
    }
   ],
   "source": [
    "response = requests.get(url)\n",
    "response"
   ]
  },
  {
   "cell_type": "code",
   "execution_count": 5,
   "metadata": {},
   "outputs": [],
   "source": [
    "json = response.json()"
   ]
  },
  {
   "cell_type": "code",
   "execution_count": 6,
   "metadata": {
    "scrolled": true
   },
   "outputs": [
    {
     "data": {
      "text/html": [
       "<div>\n",
       "<style scoped>\n",
       "    .dataframe tbody tr th:only-of-type {\n",
       "        vertical-align: middle;\n",
       "    }\n",
       "\n",
       "    .dataframe tbody tr th {\n",
       "        vertical-align: top;\n",
       "    }\n",
       "\n",
       "    .dataframe thead th {\n",
       "        text-align: right;\n",
       "    }\n",
       "</style>\n",
       "<table border=\"1\" class=\"dataframe\">\n",
       "  <thead>\n",
       "    <tr style=\"text-align: right;\">\n",
       "      <th></th>\n",
       "      <th>C1</th>\n",
       "      <th>C1_NM</th>\n",
       "      <th>C1_NM_ENG</th>\n",
       "      <th>C1_OBJ_NM</th>\n",
       "      <th>C1_OBJ_NM_ENG</th>\n",
       "      <th>C2</th>\n",
       "      <th>C2_NM</th>\n",
       "      <th>C2_NM_ENG</th>\n",
       "      <th>C2_OBJ_NM</th>\n",
       "      <th>C2_OBJ_NM_ENG</th>\n",
       "      <th>...</th>\n",
       "      <th>DT</th>\n",
       "      <th>ITM_ID</th>\n",
       "      <th>ITM_NM</th>\n",
       "      <th>ORG_ID</th>\n",
       "      <th>PRD_DE</th>\n",
       "      <th>PRD_SE</th>\n",
       "      <th>TBL_ID</th>\n",
       "      <th>TBL_NM</th>\n",
       "      <th>UNIT_NM</th>\n",
       "      <th>UNIT_NM_ENG</th>\n",
       "    </tr>\n",
       "  </thead>\n",
       "  <tbody>\n",
       "    <tr>\n",
       "      <th>0</th>\n",
       "      <td>01</td>\n",
       "      <td>아파트</td>\n",
       "      <td>Apartments</td>\n",
       "      <td>주택유형</td>\n",
       "      <td>Type</td>\n",
       "      <td>a0</td>\n",
       "      <td>전국</td>\n",
       "      <td>TheWholeCountry</td>\n",
       "      <td>지역</td>\n",
       "      <td>Region</td>\n",
       "      <td>...</td>\n",
       "      <td>98.45486925</td>\n",
       "      <td>rent</td>\n",
       "      <td>월세가격</td>\n",
       "      <td>408</td>\n",
       "      <td>201903</td>\n",
       "      <td>M</td>\n",
       "      <td>DT_30404_N0008</td>\n",
       "      <td>연령별 월세가격지수</td>\n",
       "      <td>2017.11 ＝ 100.0</td>\n",
       "      <td>2017.11 ＝ 100.0</td>\n",
       "    </tr>\n",
       "    <tr>\n",
       "      <th>1</th>\n",
       "      <td>01</td>\n",
       "      <td>아파트</td>\n",
       "      <td>Apartments</td>\n",
       "      <td>주택유형</td>\n",
       "      <td>Type</td>\n",
       "      <td>a0</td>\n",
       "      <td>전국</td>\n",
       "      <td>TheWholeCountry</td>\n",
       "      <td>지역</td>\n",
       "      <td>Region</td>\n",
       "      <td>...</td>\n",
       "      <td>98.03958323</td>\n",
       "      <td>rent</td>\n",
       "      <td>월세가격</td>\n",
       "      <td>408</td>\n",
       "      <td>201903</td>\n",
       "      <td>M</td>\n",
       "      <td>DT_30404_N0008</td>\n",
       "      <td>연령별 월세가격지수</td>\n",
       "      <td>2017.11 ＝ 100.0</td>\n",
       "      <td>2017.11 ＝ 100.0</td>\n",
       "    </tr>\n",
       "    <tr>\n",
       "      <th>2</th>\n",
       "      <td>01</td>\n",
       "      <td>아파트</td>\n",
       "      <td>Apartments</td>\n",
       "      <td>주택유형</td>\n",
       "      <td>Type</td>\n",
       "      <td>a0</td>\n",
       "      <td>전국</td>\n",
       "      <td>TheWholeCountry</td>\n",
       "      <td>지역</td>\n",
       "      <td>Region</td>\n",
       "      <td>...</td>\n",
       "      <td>98.01302861</td>\n",
       "      <td>rent</td>\n",
       "      <td>월세가격</td>\n",
       "      <td>408</td>\n",
       "      <td>201903</td>\n",
       "      <td>M</td>\n",
       "      <td>DT_30404_N0008</td>\n",
       "      <td>연령별 월세가격지수</td>\n",
       "      <td>2017.11 ＝ 100.0</td>\n",
       "      <td>2017.11 ＝ 100.0</td>\n",
       "    </tr>\n",
       "    <tr>\n",
       "      <th>3</th>\n",
       "      <td>01</td>\n",
       "      <td>아파트</td>\n",
       "      <td>Apartments</td>\n",
       "      <td>주택유형</td>\n",
       "      <td>Type</td>\n",
       "      <td>a0</td>\n",
       "      <td>전국</td>\n",
       "      <td>TheWholeCountry</td>\n",
       "      <td>지역</td>\n",
       "      <td>Region</td>\n",
       "      <td>...</td>\n",
       "      <td>97.98746362</td>\n",
       "      <td>rent</td>\n",
       "      <td>월세가격</td>\n",
       "      <td>408</td>\n",
       "      <td>201903</td>\n",
       "      <td>M</td>\n",
       "      <td>DT_30404_N0008</td>\n",
       "      <td>연령별 월세가격지수</td>\n",
       "      <td>2017.11 ＝ 100.0</td>\n",
       "      <td>2017.11 ＝ 100.0</td>\n",
       "    </tr>\n",
       "    <tr>\n",
       "      <th>4</th>\n",
       "      <td>01</td>\n",
       "      <td>아파트</td>\n",
       "      <td>Apartments</td>\n",
       "      <td>주택유형</td>\n",
       "      <td>Type</td>\n",
       "      <td>a0</td>\n",
       "      <td>전국</td>\n",
       "      <td>TheWholeCountry</td>\n",
       "      <td>지역</td>\n",
       "      <td>Region</td>\n",
       "      <td>...</td>\n",
       "      <td>97.94173405</td>\n",
       "      <td>rent</td>\n",
       "      <td>월세가격</td>\n",
       "      <td>408</td>\n",
       "      <td>201903</td>\n",
       "      <td>M</td>\n",
       "      <td>DT_30404_N0008</td>\n",
       "      <td>연령별 월세가격지수</td>\n",
       "      <td>2017.11 ＝ 100.0</td>\n",
       "      <td>2017.11 ＝ 100.0</td>\n",
       "    </tr>\n",
       "  </tbody>\n",
       "</table>\n",
       "<p>5 rows × 25 columns</p>\n",
       "</div>"
      ],
      "text/plain": [
       "   C1 C1_NM   C1_NM_ENG C1_OBJ_NM C1_OBJ_NM_ENG  C2 C2_NM        C2_NM_ENG  \\\n",
       "0  01   아파트  Apartments      주택유형          Type  a0    전국  TheWholeCountry   \n",
       "1  01   아파트  Apartments      주택유형          Type  a0    전국  TheWholeCountry   \n",
       "2  01   아파트  Apartments      주택유형          Type  a0    전국  TheWholeCountry   \n",
       "3  01   아파트  Apartments      주택유형          Type  a0    전국  TheWholeCountry   \n",
       "4  01   아파트  Apartments      주택유형          Type  a0    전국  TheWholeCountry   \n",
       "\n",
       "  C2_OBJ_NM C2_OBJ_NM_ENG       ...                  DT ITM_ID ITM_NM ORG_ID  \\\n",
       "0        지역        Region       ...         98.45486925   rent   월세가격    408   \n",
       "1        지역        Region       ...         98.03958323   rent   월세가격    408   \n",
       "2        지역        Region       ...         98.01302861   rent   월세가격    408   \n",
       "3        지역        Region       ...         97.98746362   rent   월세가격    408   \n",
       "4        지역        Region       ...         97.94173405   rent   월세가격    408   \n",
       "\n",
       "   PRD_DE PRD_SE          TBL_ID      TBL_NM          UNIT_NM      UNIT_NM_ENG  \n",
       "0  201903      M  DT_30404_N0008  연령별 월세가격지수  2017.11 ＝ 100.0  2017.11 ＝ 100.0  \n",
       "1  201903      M  DT_30404_N0008  연령별 월세가격지수  2017.11 ＝ 100.0  2017.11 ＝ 100.0  \n",
       "2  201903      M  DT_30404_N0008  연령별 월세가격지수  2017.11 ＝ 100.0  2017.11 ＝ 100.0  \n",
       "3  201903      M  DT_30404_N0008  연령별 월세가격지수  2017.11 ＝ 100.0  2017.11 ＝ 100.0  \n",
       "4  201903      M  DT_30404_N0008  연령별 월세가격지수  2017.11 ＝ 100.0  2017.11 ＝ 100.0  \n",
       "\n",
       "[5 rows x 25 columns]"
      ]
     },
     "execution_count": 6,
     "metadata": {},
     "output_type": "execute_result"
    }
   ],
   "source": [
    "df = json_normalize(json)\n",
    "df.head()"
   ]
  },
  {
   "cell_type": "code",
   "execution_count": 7,
   "metadata": {},
   "outputs": [],
   "source": [
    "df.to_csv(\"./연령별 월세가격지수.csv\",encoding=\"ms949\")"
   ]
  },
  {
   "cell_type": "code",
   "execution_count": 8,
   "metadata": {},
   "outputs": [
    {
     "data": {
      "text/plain": [
       "'C:\\\\Users\\\\SMART-06\\\\Python_Fintech\\\\Data type and load\\\\Data load\\\\Pivot'"
      ]
     },
     "execution_count": 8,
     "metadata": {},
     "output_type": "execute_result"
    }
   ],
   "source": [
    "pwd"
   ]
  }
 ],
 "metadata": {
  "kernelspec": {
   "display_name": "Python 3",
   "language": "python",
   "name": "python3"
  },
  "language_info": {
   "codemirror_mode": {
    "name": "ipython",
    "version": 3
   },
   "file_extension": ".py",
   "mimetype": "text/x-python",
   "name": "python",
   "nbconvert_exporter": "python",
   "pygments_lexer": "ipython3",
   "version": "3.6.4"
  }
 },
 "nbformat": 4,
 "nbformat_minor": 2
}
