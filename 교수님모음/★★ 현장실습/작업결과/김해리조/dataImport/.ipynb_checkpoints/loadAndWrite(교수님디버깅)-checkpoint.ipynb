{
 "cells": [
  {
   "cell_type": "markdown",
   "metadata": {},
   "source": [
    "## 웹크롤링"
   ]
  },
  {
   "cell_type": "code",
   "execution_count": 45,
   "metadata": {},
   "outputs": [],
   "source": [
    "import requests, bs4, pandas as pd, numpy as np\n",
    " \n",
    "#웹페이지 html 소스 가져오기\n",
    "resp = requests.get(\"http://fsc.go.kr/info/trd_list.jsp?menu=7230000&bbsid=BBS0069\")\n",
    "resp.encoding='utf-8'\n",
    "html = resp.text\n",
    "\n",
    "bs = bs4.BeautifulSoup(html, 'html.parser')"
   ]
  },
  {
   "cell_type": "code",
   "execution_count": 48,
   "metadata": {},
   "outputs": [
    {
     "data": {
      "text/plain": [
       "[<tbody>\n",
       " <tr>\n",
       " <td scope=\"row\">3634</td>\n",
       " <td><a href=\"/info/trd_view.jsp?bbsid=BBS0069&amp;page=1&amp;sch1=&amp;sch2=&amp;sch3=&amp;sword=&amp;r_url=&amp;menu=7230000&amp;no=36110\" title=\"새창열기\">금융시장동향(19.4.23)</a></td>\n",
       " <td>2019-04-24</td>\n",
       " <td>26</td>\n",
       " <td><a href=\"/downManager?bbsid=BBS0069&amp;no=137532\" target=\"invisible\" title=\"새창열기\"><img alt=\"아래아한글 문서\" src=\"/images/common/ico_file_hangul.gif\"/> </a><a href=\"/downManager?bbsid=BBS0069&amp;no=137533\" target=\"invisible\" title=\"새창열기\"><img alt=\"PDF 문서\" src=\"/images/common/ico_file_pdf.gif\"/> </a></td>\n",
       " </tr>\n",
       " <tr>\n",
       " <td scope=\"row\">3633</td>\n",
       " <td><a href=\"/info/trd_view.jsp?bbsid=BBS0069&amp;page=1&amp;sch1=&amp;sch2=&amp;sch3=&amp;sword=&amp;r_url=&amp;menu=7230000&amp;no=36100\" title=\"새창열기\">금융시장동향(19.4.22)</a></td>\n",
       " <td>2019-04-22</td>\n",
       " <td>57</td>\n",
       " <td><a href=\"/downManager?bbsid=BBS0069&amp;no=137468\" target=\"invisible\" title=\"새창열기\"><img alt=\"아래아한글 문서\" src=\"/images/common/ico_file_hangul.gif\"/> </a><a href=\"/downManager?bbsid=BBS0069&amp;no=137469\" target=\"invisible\" title=\"새창열기\"><img alt=\"PDF 문서\" src=\"/images/common/ico_file_pdf.gif\"/> </a></td>\n",
       " </tr>\n",
       " <tr>\n",
       " <td scope=\"row\">3632</td>\n",
       " <td><a href=\"/info/trd_view.jsp?bbsid=BBS0069&amp;page=1&amp;sch1=&amp;sch2=&amp;sch3=&amp;sword=&amp;r_url=&amp;menu=7230000&amp;no=36097\" title=\"새창열기\">금융시장동향(19.4.19)</a></td>\n",
       " <td>2019-04-19</td>\n",
       " <td>46</td>\n",
       " <td><a href=\"/downManager?bbsid=BBS0069&amp;no=137438\" target=\"invisible\" title=\"새창열기\"><img alt=\"아래아한글 문서\" src=\"/images/common/ico_file_hangul.gif\"/> </a><a href=\"/downManager?bbsid=BBS0069&amp;no=137439\" target=\"invisible\" title=\"새창열기\"><img alt=\"PDF 문서\" src=\"/images/common/ico_file_pdf.gif\"/> </a></td>\n",
       " </tr>\n",
       " <tr>\n",
       " <td scope=\"row\">3631</td>\n",
       " <td><a href=\"/info/trd_view.jsp?bbsid=BBS0069&amp;page=1&amp;sch1=&amp;sch2=&amp;sch3=&amp;sword=&amp;r_url=&amp;menu=7230000&amp;no=36090\" title=\"새창열기\">금융시장동향(19.4.18)</a></td>\n",
       " <td>2019-04-18</td>\n",
       " <td>54</td>\n",
       " <td><a href=\"/downManager?bbsid=BBS0069&amp;no=137402\" target=\"invisible\" title=\"새창열기\"><img alt=\"아래아한글 문서\" src=\"/images/common/ico_file_hangul.gif\"/> </a><a href=\"/downManager?bbsid=BBS0069&amp;no=137403\" target=\"invisible\" title=\"새창열기\"><img alt=\"PDF 문서\" src=\"/images/common/ico_file_pdf.gif\"/> </a></td>\n",
       " </tr>\n",
       " <tr>\n",
       " <td scope=\"row\">3630</td>\n",
       " <td><a href=\"/info/trd_view.jsp?bbsid=BBS0069&amp;page=1&amp;sch1=&amp;sch2=&amp;sch3=&amp;sword=&amp;r_url=&amp;menu=7230000&amp;no=36075\" title=\"새창열기\">금융시장동향(19.4.17)</a></td>\n",
       " <td>2019-04-17</td>\n",
       " <td>1785</td>\n",
       " <td><a href=\"/downManager?bbsid=BBS0069&amp;no=137260\" target=\"invisible\" title=\"새창열기\"><img alt=\"아래아한글 문서\" src=\"/images/common/ico_file_hangul.gif\"/> </a><a href=\"/downManager?bbsid=BBS0069&amp;no=137261\" target=\"invisible\" title=\"새창열기\"><img alt=\"PDF 문서\" src=\"/images/common/ico_file_pdf.gif\"/> </a></td>\n",
       " </tr>\n",
       " <tr>\n",
       " <td scope=\"row\">3629</td>\n",
       " <td><a href=\"/info/trd_view.jsp?bbsid=BBS0069&amp;page=1&amp;sch1=&amp;sch2=&amp;sch3=&amp;sword=&amp;r_url=&amp;menu=7230000&amp;no=36067\" title=\"새창열기\">금융시장동향(19.4.16)</a></td>\n",
       " <td>2019-04-16</td>\n",
       " <td>2793</td>\n",
       " <td><a href=\"/downManager?bbsid=BBS0069&amp;no=137124\" target=\"invisible\" title=\"새창열기\"><img alt=\"아래아한글 문서\" src=\"/images/common/ico_file_hangul.gif\"/> </a><a href=\"/downManager?bbsid=BBS0069&amp;no=137125\" target=\"invisible\" title=\"새창열기\"><img alt=\"PDF 문서\" src=\"/images/common/ico_file_pdf.gif\"/> </a></td>\n",
       " </tr>\n",
       " <tr>\n",
       " <td scope=\"row\">3628</td>\n",
       " <td><a href=\"/info/trd_view.jsp?bbsid=BBS0069&amp;page=1&amp;sch1=&amp;sch2=&amp;sch3=&amp;sword=&amp;r_url=&amp;menu=7230000&amp;no=36066\" title=\"새창열기\">금융시장동향(19.4.15)</a></td>\n",
       " <td>2019-04-15</td>\n",
       " <td>2537</td>\n",
       " <td><a href=\"/downManager?bbsid=BBS0069&amp;no=137122\" target=\"invisible\" title=\"새창열기\"><img alt=\"아래아한글 문서\" src=\"/images/common/ico_file_hangul.gif\"/> </a><a href=\"/downManager?bbsid=BBS0069&amp;no=137123\" target=\"invisible\" title=\"새창열기\"><img alt=\"PDF 문서\" src=\"/images/common/ico_file_pdf.gif\"/> </a></td>\n",
       " </tr>\n",
       " <tr>\n",
       " <td scope=\"row\">3627</td>\n",
       " <td><a href=\"/info/trd_view.jsp?bbsid=BBS0069&amp;page=1&amp;sch1=&amp;sch2=&amp;sch3=&amp;sword=&amp;r_url=&amp;menu=7230000&amp;no=36061\" title=\"새창열기\">금융시장동향(19.4.12)</a></td>\n",
       " <td>2019-04-12</td>\n",
       " <td>5325</td>\n",
       " <td><a href=\"/downManager?bbsid=BBS0069&amp;no=136991\" target=\"invisible\" title=\"새창열기\"><img alt=\"아래아한글 문서\" src=\"/images/common/ico_file_hangul.gif\"/> </a><a href=\"/downManager?bbsid=BBS0069&amp;no=136992\" target=\"invisible\" title=\"새창열기\"><img alt=\"PDF 문서\" src=\"/images/common/ico_file_pdf.gif\"/> </a></td>\n",
       " </tr>\n",
       " <tr>\n",
       " <td scope=\"row\">3626</td>\n",
       " <td><a href=\"/info/trd_view.jsp?bbsid=BBS0069&amp;page=1&amp;sch1=&amp;sch2=&amp;sch3=&amp;sword=&amp;r_url=&amp;menu=7230000&amp;no=36055\" title=\"새창열기\">금융시장동향(19.4.11)</a></td>\n",
       " <td>2019-04-11</td>\n",
       " <td>2390</td>\n",
       " <td><a href=\"/downManager?bbsid=BBS0069&amp;no=136894\" target=\"invisible\" title=\"새창열기\"><img alt=\"아래아한글 문서\" src=\"/images/common/ico_file_hangul.gif\"/> </a><a href=\"/downManager?bbsid=BBS0069&amp;no=136895\" target=\"invisible\" title=\"새창열기\"><img alt=\"PDF 문서\" src=\"/images/common/ico_file_pdf.gif\"/> </a></td>\n",
       " </tr>\n",
       " <tr>\n",
       " <td scope=\"row\">3625</td>\n",
       " <td><a href=\"/info/trd_view.jsp?bbsid=BBS0069&amp;page=1&amp;sch1=&amp;sch2=&amp;sch3=&amp;sword=&amp;r_url=&amp;menu=7230000&amp;no=36052\" title=\"새창열기\">금융시장동향(19.4.10)</a></td>\n",
       " <td>2019-04-10</td>\n",
       " <td>2606</td>\n",
       " <td><a href=\"/downManager?bbsid=BBS0069&amp;no=136852\" target=\"invisible\" title=\"새창열기\"><img alt=\"아래아한글 문서\" src=\"/images/common/ico_file_hangul.gif\"/> </a><a href=\"/downManager?bbsid=BBS0069&amp;no=136853\" target=\"invisible\" title=\"새창열기\"><img alt=\"PDF 문서\" src=\"/images/common/ico_file_pdf.gif\"/> </a></td>\n",
       " </tr>\n",
       " <tr>\n",
       " <td scope=\"row\">3624</td>\n",
       " <td><a href=\"/info/trd_view.jsp?bbsid=BBS0069&amp;page=1&amp;sch1=&amp;sch2=&amp;sch3=&amp;sword=&amp;r_url=&amp;menu=7230000&amp;no=36042\" title=\"새창열기\">금융시장동향(19.4.9)</a></td>\n",
       " <td>2019-04-09</td>\n",
       " <td>2410</td>\n",
       " <td><a href=\"/downManager?bbsid=BBS0069&amp;no=136781\" target=\"invisible\" title=\"새창열기\"><img alt=\"아래아한글 문서\" src=\"/images/common/ico_file_hangul.gif\"/> </a><a href=\"/downManager?bbsid=BBS0069&amp;no=136782\" target=\"invisible\" title=\"새창열기\"><img alt=\"PDF 문서\" src=\"/images/common/ico_file_pdf.gif\"/> </a></td>\n",
       " </tr>\n",
       " <tr>\n",
       " <td scope=\"row\">3623</td>\n",
       " <td><a href=\"/info/trd_view.jsp?bbsid=BBS0069&amp;page=1&amp;sch1=&amp;sch2=&amp;sch3=&amp;sword=&amp;r_url=&amp;menu=7230000&amp;no=36035\" title=\"새창열기\">금융시장동향(19.4.8)</a></td>\n",
       " <td>2019-04-08</td>\n",
       " <td>2477</td>\n",
       " <td><a href=\"/downManager?bbsid=BBS0069&amp;no=136725\" target=\"invisible\" title=\"새창열기\"><img alt=\"아래아한글 문서\" src=\"/images/common/ico_file_hangul.gif\"/> </a><a href=\"/downManager?bbsid=BBS0069&amp;no=136726\" target=\"invisible\" title=\"새창열기\"><img alt=\"PDF 문서\" src=\"/images/common/ico_file_pdf.gif\"/> </a></td>\n",
       " </tr>\n",
       " <tr>\n",
       " <td scope=\"row\">3622</td>\n",
       " <td><a href=\"/info/trd_view.jsp?bbsid=BBS0069&amp;page=1&amp;sch1=&amp;sch2=&amp;sch3=&amp;sword=&amp;r_url=&amp;menu=7230000&amp;no=36029\" title=\"새창열기\">금융시장동향(19.4.5)</a></td>\n",
       " <td>2019-04-05</td>\n",
       " <td>6715</td>\n",
       " <td><a href=\"/downManager?bbsid=BBS0069&amp;no=136667\" target=\"invisible\" title=\"새창열기\"><img alt=\"아래아한글 문서\" src=\"/images/common/ico_file_hangul.gif\"/> </a><a href=\"/downManager?bbsid=BBS0069&amp;no=136668\" target=\"invisible\" title=\"새창열기\"><img alt=\"PDF 문서\" src=\"/images/common/ico_file_pdf.gif\"/> </a></td>\n",
       " </tr>\n",
       " <tr>\n",
       " <td scope=\"row\">3621</td>\n",
       " <td><a href=\"/info/trd_view.jsp?bbsid=BBS0069&amp;page=1&amp;sch1=&amp;sch2=&amp;sch3=&amp;sword=&amp;r_url=&amp;menu=7230000&amp;no=36023\" title=\"새창열기\">금융시장동향(19.4.4)</a></td>\n",
       " <td>2019-04-04</td>\n",
       " <td>2626</td>\n",
       " <td><a href=\"/downManager?bbsid=BBS0069&amp;no=136645\" target=\"invisible\" title=\"새창열기\"><img alt=\"아래아한글 문서\" src=\"/images/common/ico_file_hangul.gif\"/> </a><a href=\"/downManager?bbsid=BBS0069&amp;no=136646\" target=\"invisible\" title=\"새창열기\"><img alt=\"PDF 문서\" src=\"/images/common/ico_file_pdf.gif\"/> </a></td>\n",
       " </tr>\n",
       " <tr>\n",
       " <td scope=\"row\">3620</td>\n",
       " <td><a href=\"/info/trd_view.jsp?bbsid=BBS0069&amp;page=1&amp;sch1=&amp;sch2=&amp;sch3=&amp;sword=&amp;r_url=&amp;menu=7230000&amp;no=36014\" title=\"새창열기\">금융시장동향(19.4.3)</a></td>\n",
       " <td>2019-04-03</td>\n",
       " <td>2645</td>\n",
       " <td><a href=\"/downManager?bbsid=BBS0069&amp;no=136586\" target=\"invisible\" title=\"새창열기\"><img alt=\"아래아한글 문서\" src=\"/images/common/ico_file_hangul.gif\"/> </a><a href=\"/downManager?bbsid=BBS0069&amp;no=136587\" target=\"invisible\" title=\"새창열기\"><img alt=\"PDF 문서\" src=\"/images/common/ico_file_pdf.gif\"/> </a></td>\n",
       " </tr>\n",
       " </tbody>]"
      ]
     },
     "execution_count": 48,
     "metadata": {},
     "output_type": "execute_result"
    }
   ],
   "source": [
    "# 데이터 추출하기\n",
    "price = bs.select(\"#contents > div.board > table > tbody\")\n",
    "price"
   ]
  },
  {
   "cell_type": "code",
   "execution_count": 42,
   "metadata": {},
   "outputs": [
    {
     "ename": "FeatureNotFound",
     "evalue": "Couldn't find a tree builder with the features you requested: html-parser. Do you need to install a parser library?",
     "output_type": "error",
     "traceback": [
      "\u001b[1;31m---------------------------------------------------------------------------\u001b[0m",
      "\u001b[1;31mFeatureNotFound\u001b[0m                           Traceback (most recent call last)",
      "\u001b[1;32m<ipython-input-42-6dd2302e79e0>\u001b[0m in \u001b[0;36m<module>\u001b[1;34m()\u001b[0m\n\u001b[0;32m     13\u001b[0m \u001b[0mresponse\u001b[0m\u001b[1;33m\u001b[0m\u001b[0m\n\u001b[0;32m     14\u001b[0m \u001b[1;33m\u001b[0m\u001b[0m\n\u001b[1;32m---> 15\u001b[1;33m \u001b[0mData\u001b[0m \u001b[1;33m=\u001b[0m \u001b[0mBeautifulSoup\u001b[0m\u001b[1;33m(\u001b[0m\u001b[0mresponse\u001b[0m\u001b[1;33m.\u001b[0m\u001b[0mtext\u001b[0m\u001b[1;33m,\u001b[0m \u001b[1;34m'html-parser'\u001b[0m\u001b[1;33m)\u001b[0m\u001b[1;33m\u001b[0m\u001b[0m\n\u001b[0m",
      "\u001b[1;32m~\\Anaconda3\\lib\\site-packages\\bs4\\__init__.py\u001b[0m in \u001b[0;36m__init__\u001b[1;34m(self, markup, features, builder, parse_only, from_encoding, exclude_encodings, **kwargs)\u001b[0m\n\u001b[0;32m    163\u001b[0m                     \u001b[1;34m\"Couldn't find a tree builder with the features you \"\u001b[0m\u001b[1;33m\u001b[0m\u001b[0m\n\u001b[0;32m    164\u001b[0m                     \u001b[1;34m\"requested: %s. Do you need to install a parser library?\"\u001b[0m\u001b[1;33m\u001b[0m\u001b[0m\n\u001b[1;32m--> 165\u001b[1;33m                     % \",\".join(features))\n\u001b[0m\u001b[0;32m    166\u001b[0m             \u001b[0mbuilder\u001b[0m \u001b[1;33m=\u001b[0m \u001b[0mbuilder_class\u001b[0m\u001b[1;33m(\u001b[0m\u001b[1;33m)\u001b[0m\u001b[1;33m\u001b[0m\u001b[0m\n\u001b[0;32m    167\u001b[0m             if not (original_features == builder.NAME or\n",
      "\u001b[1;31mFeatureNotFound\u001b[0m: Couldn't find a tree builder with the features you requested: html-parser. Do you need to install a parser library?"
     ]
    }
   ],
   "source": [
    "# 라이브러리 선언\n",
    "import requests #Used to service API connection\n",
    "from lxml import html #Used to parse XML\n",
    "from bs4 import BeautifulSoup #Used to read XML table on webpage\n",
    "import pandas as pd\n",
    "\n",
    "# 시험데이터\n",
    "# 아파트 매매 실거래가 상세자료\n",
    "\n",
    "baseUrl = \"http://fsc.go.kr/info/trd_list.jsp?menu=7230000&bbsid=BBS0069\"\n",
    "\n",
    "response = requests.get(url)\n",
    "response\n",
    "\n",
    "Data = BeautifulSoup(response.text, 'html-parser')"
   ]
  },
  {
   "cell_type": "code",
   "execution_count": null,
   "metadata": {},
   "outputs": [],
   "source": []
  },
  {
   "cell_type": "code",
   "execution_count": null,
   "metadata": {},
   "outputs": [],
   "source": []
  },
  {
   "cell_type": "code",
   "execution_count": 9,
   "metadata": {},
   "outputs": [
    {
     "name": "stdout",
     "output_type": "stream",
     "text": [
      "### The total number of target data is 417\n",
      "                                                   사이트\n",
      "305  https://www.data.go.kr/dataset/fileDownload.do...\n",
      "306  http://openapi.kab.co.kr/OpenAPI_ToolInstallPa...\n",
      "308  http://apis.data.go.kr/1611000/nsdi/BuildingUs...\n",
      "313         https://data.myhome.go.kr/rentalHouseList?\n",
      "340      http://apis.data.go.kr/1611000/ArchPmsService\n",
      "342  http://fsc.go.kr/downManager?bbsid=BBS0069&no=...\n",
      "345  http://apis.data.go.kr/1611000/ArchPmsService/...\n",
      "349  http://data.insight.go.kr/openapi/service/Pric...\n",
      "352  http://openapi.molit.go.kr/OpenAPI_ToolInstall...\n",
      "353  http://openapi.kab.co.kr/OpenAPI_ToolInstallPa...\n",
      "354  http://openapi.kab.co.kr/OpenAPI_ToolInstallPa...\n",
      "355  https://www.data.go.kr/dataset/fileDownload.do...\n",
      "359  http://openapi.kab.co.kr/OpenAPI_ToolInstallPa...\n",
      "360  http://api.hf.go.kr:8090/service/rest/HfMbsInt...\n",
      "361  http://api.hf.go.kr:8090/service/rest/HfMbbInt...\n",
      "363  https://www.data.go.kr/dataset/fileDownload.do...\n",
      "376  https://www.data.go.kr/dataset/fileDownload.do...\n",
      "377  http://api.hf.go.kr:8090/service/rest/uloanrat...\n",
      "378  https://www.data.go.kr/dataset/fileDownload.do...\n",
      "379  http://api.hf.go.kr:8090/service/rest/conforml...\n",
      "389  http://openapi.kab.co.kr/OpenAPI_ToolInstallPa...\n",
      "390  https://www.data.go.kr/subMain.jsp#/L3B1YnIvcG...\n",
      "414  http://openapi.kab.co.kr/OpenAPI_ToolInstallPa...\n",
      "### The total number of filtered data is 23\n"
     ]
    }
   ],
   "source": [
    "import requests #Used to service API connection\n",
    "from lxml import html #Used to parse XML\n",
    "from bs4 import BeautifulSoup #Used to read XML table on webpage\n",
    "import pandas as pd\n",
    "from common import cFunction as cf\n",
    "import numpy as np\n",
    "import wget\n",
    "import tabula \n",
    "from tabula import wrapper\n",
    "\n",
    "# get dataList from filesystem to load and write\n",
    "#dataList = pd.read_excel(\"../../data/inbound/dataList.xlsx\")\n",
    "\n",
    "# get dataList from spreadsheet to load and write\n",
    "dataList = pd.read_csv(\"https://docs.google.com/spreadsheets/d/1VngqG-m7G8k1587c21MZoheR1Fz3amp1mJtiBvA1Jb0/export?format=csv&gid=0\")\n",
    "print(\"### The total number of target data is \" + str(len(dataList)))\n",
    "\n",
    "# Filtering -> get dataList only defined url\n",
    "dataList = dataList[   dataList['사이트'].notnull() ]\n",
    "print(dataList[[\"사이트\"]])\n",
    "print(\"### The total number of filtered data is \" + str(len(dataList)))\n",
    "\n",
    "###################################################\n",
    "# Filtering -> for your own object\n",
    "dataList = dataList[   dataList['폴더명'] == \"342_금융시장동향\" ]\n",
    "###################################################\n",
    "\n",
    "# create folder to save result\n",
    "outPath = \"../../data/outbound/\"\n",
    "folderList = dataList[\"폴더명\"].tolist()\n",
    "for i in folderList:\n",
    "    cf.createFolder(outPath+i)\n",
    "\n",
    "dataList = dataList.fillna(\"\")\n",
    "dataList = dataList.reset_index(drop=True)"
   ]
  },
  {
   "cell_type": "code",
   "execution_count": 10,
   "metadata": {},
   "outputs": [
    {
     "data": {
      "text/html": [
       "<div>\n",
       "<style scoped>\n",
       "    .dataframe tbody tr th:only-of-type {\n",
       "        vertical-align: middle;\n",
       "    }\n",
       "\n",
       "    .dataframe tbody tr th {\n",
       "        vertical-align: top;\n",
       "    }\n",
       "\n",
       "    .dataframe thead th {\n",
       "        text-align: right;\n",
       "    }\n",
       "</style>\n",
       "<table border=\"1\" class=\"dataframe\">\n",
       "  <thead>\n",
       "    <tr style=\"text-align: right;\">\n",
       "      <th></th>\n",
       "      <th>번호</th>\n",
       "      <th>접속 사이트</th>\n",
       "      <th>제공항목(데이터셋)</th>\n",
       "      <th>폴더명</th>\n",
       "      <th>작업자</th>\n",
       "      <th>시작일</th>\n",
       "      <th>종료일</th>\n",
       "      <th>검토자</th>\n",
       "      <th>진행상태</th>\n",
       "      <th>비고</th>\n",
       "      <th>...</th>\n",
       "      <th>파라미터</th>\n",
       "      <th>제공방식.1</th>\n",
       "      <th>데이터타입</th>\n",
       "      <th>참고문서</th>\n",
       "      <th>참고문서타입</th>\n",
       "      <th>주기</th>\n",
       "      <th>비고_파라미터설명</th>\n",
       "      <th>완료여부</th>\n",
       "      <th>API PGM ID</th>\n",
       "      <th>파일명</th>\n",
       "    </tr>\n",
       "  </thead>\n",
       "  <tbody>\n",
       "    <tr>\n",
       "      <th>0</th>\n",
       "      <td>343</td>\n",
       "      <td>공공데이터포털</td>\n",
       "      <td>금융시장동향</td>\n",
       "      <td>342_금융시장동향</td>\n",
       "      <td>김해리</td>\n",
       "      <td></td>\n",
       "      <td></td>\n",
       "      <td></td>\n",
       "      <td></td>\n",
       "      <td></td>\n",
       "      <td>...</td>\n",
       "      <td></td>\n",
       "      <td>DATA</td>\n",
       "      <td>pdf</td>\n",
       "      <td></td>\n",
       "      <td></td>\n",
       "      <td></td>\n",
       "      <td></td>\n",
       "      <td></td>\n",
       "      <td>TB_OD10342.py</td>\n",
       "      <td>TB_OD10342_yyyymm.csv</td>\n",
       "    </tr>\n",
       "  </tbody>\n",
       "</table>\n",
       "<p>1 rows × 31 columns</p>\n",
       "</div>"
      ],
      "text/plain": [
       "    번호   접속 사이트 제공항목(데이터셋)         폴더명  작업자 시작일 종료일 검토자 진행상태 비고  \\\n",
       "0  343  공공데이터포털     금융시장동향  342_금융시장동향  김해리                       \n",
       "\n",
       "           ...           파라미터 제공방식.1 데이터타입 참고문서 참고문서타입 주기 비고_파라미터설명 완료여부  \\\n",
       "0          ...                  DATA   pdf                                 \n",
       "\n",
       "      API PGM ID                    파일명  \n",
       "0  TB_OD10342.py  TB_OD10342_yyyymm.csv  \n",
       "\n",
       "[1 rows x 31 columns]"
      ]
     },
     "execution_count": 10,
     "metadata": {},
     "output_type": "execute_result"
    }
   ],
   "source": [
    "dataList"
   ]
  },
  {
   "cell_type": "code",
   "execution_count": 11,
   "metadata": {},
   "outputs": [
    {
     "name": "stdout",
     "output_type": "stream",
     "text": [
      "http://fsc.go.kr/downManager?bbsid=BBS0069&no=137533\n",
      "fullUrl is http://fsc.go.kr/downManager?bbsid=BBS0069&no=137533\n"
     ]
    }
   ],
   "source": [
    "inputUrl = dataList.loc[dataCount, \"사이트\"]\n",
    "inputKey = dataList.loc[dataCount, \"서비스키\"]\n",
    "inputParameter = dataList.loc[dataCount, \"파라미터\"]\n",
    "inputFolder = dataList.loc[dataCount, \"폴더명\"]\n",
    "inputFile = dataList.loc[dataCount, \"서비스명\"]\n",
    "inputDataType = dataList.loc[dataCount, \"데이터타입\"]\n",
    "inputRefUrl = dataList.loc[dataCount, \"참고문서\"]\n",
    "inputRefType = dataList.loc[dataCount, \"참고문서타입\"]\n",
    "print(inputUrl)\n",
    "\n",
    "url = cf.makeURL(inputUrl,inputKey,inputParameter)\n",
    "print(\"fullUrl is \" + url)"
   ]
  },
  {
   "cell_type": "code",
   "execution_count": 13,
   "metadata": {},
   "outputs": [
    {
     "data": {
      "text/plain": [
       "'http://fsc.go.kr/downManager?bbsid=BBS0069&no=137533'"
      ]
     },
     "execution_count": 13,
     "metadata": {},
     "output_type": "execute_result"
    }
   ],
   "source": [
    "inputUrl"
   ]
  },
  {
   "cell_type": "code",
   "execution_count": 14,
   "metadata": {},
   "outputs": [
    {
     "name": "stdout",
     "output_type": "stream",
     "text": [
      "fullUrl is http://fsc.go.kr/downManager?bbsid=BBS0069&no=137533\n"
     ]
    }
   ],
   "source": [
    "url = cf.makeURL(inputUrl,inputKey,inputParameter)\n",
    "print(\"fullUrl is \" + url)\n"
   ]
  },
  {
   "cell_type": "code",
   "execution_count": 20,
   "metadata": {},
   "outputs": [],
   "source": [
    "newDF = pd.DataFrame()"
   ]
  },
  {
   "cell_type": "code",
   "execution_count": 23,
   "metadata": {},
   "outputs": [],
   "source": [
    "newDF = pd.DataFrame()\n",
    "#     if (inputDataType == \"xml\"):\n",
    "#         newDF = cf.xmlProcess(url)\n",
    "if(inputDataType == \"json\"):\n",
    "    newDF = cf.jsonProcess(url)\n",
    "elif(inputDataType == \"csv\"):\n",
    "    newDF = cf.csvProcess(url)\n",
    "elif(inputDataType == \"pdf\"):\n",
    "    newDF = cf.pdfProcess(url)"
   ]
  },
  {
   "cell_type": "code",
   "execution_count": 24,
   "metadata": {},
   "outputs": [],
   "source": [
    "newDF"
   ]
  },
  {
   "cell_type": "code",
   "execution_count": 25,
   "metadata": {},
   "outputs": [],
   "source": [
    "df2 = wrapper.read_pdf(url,\n",
    "          multiple_tables=True,\n",
    "          pages=\"all\",\n",
    "          pandas_options={\"header\":0})"
   ]
  },
  {
   "cell_type": "code",
   "execution_count": 26,
   "metadata": {},
   "outputs": [
    {
     "data": {
      "text/plain": [
       "[  (단위:pt)   18년말   4.16   4.22   4.23     전일비    전주비   18년말비\n",
       " 0   KOSPI  2,041  2,249  2,217  2,221  +0.17%  △1.3%   +8.8%\n",
       " 1  KOSDAQ    676    765    762    761  △0.08%  △0.5%  +12.7%,\n",
       "    (단위:원)     18년말     4.16     4.22     4.23    전일비    전주비  18년말비\n",
       " 0    원/달러  1,115.7  1,135.7  1,141.5  1,141.8  +0.0%  +0.5%  +2.3%\n",
       " 1  원/100엔  1,017.1  1,014.5  1,019.9  1,020.9  +0.1%  +0.6%  +0.4%,\n",
       "      (단위:%)   18년말   4.16   4.22   4.23     전일비     전주비   18년말비\n",
       " 0     CD91일  1.930  1.860  1.850  1.850   0.0bp  △1.0bp  △8.0bp\n",
       " 1      국고3년  1.817  1.765  1.769  1.768  △0.1bp  +0.3bp  △4.9bp\n",
       " 2     국고10년  1.948  1.923  1.929  1.923  △0.6bp   0.0bp  △2.5bp\n",
       " 3  회사채(AA-)  2.287  2.234  2.241  2.238  △0.3bp  +0.4bp  △4.9bp\n",
       " 4   장단기스프레드   13.1   15.8   16.0   15.5  △0.5bp  △0.3bp  +2.4bp\n",
       " 5    신용스프레드   47.0   46.9   47.2   47.0  △0.2bp  +0.1bp   0.0bp]"
      ]
     },
     "execution_count": 26,
     "metadata": {},
     "output_type": "execute_result"
    }
   ],
   "source": [
    "df2"
   ]
  },
  {
   "cell_type": "code",
   "execution_count": 31,
   "metadata": {
    "scrolled": true
   },
   "outputs": [
    {
     "data": {
      "text/html": [
       "<div>\n",
       "<style scoped>\n",
       "    .dataframe tbody tr th:only-of-type {\n",
       "        vertical-align: middle;\n",
       "    }\n",
       "\n",
       "    .dataframe tbody tr th {\n",
       "        vertical-align: top;\n",
       "    }\n",
       "\n",
       "    .dataframe thead th {\n",
       "        text-align: right;\n",
       "    }\n",
       "</style>\n",
       "<table border=\"1\" class=\"dataframe\">\n",
       "  <thead>\n",
       "    <tr style=\"text-align: right;\">\n",
       "      <th></th>\n",
       "      <th>(단위:pt)</th>\n",
       "      <th>18년말</th>\n",
       "      <th>4.16</th>\n",
       "      <th>4.22</th>\n",
       "      <th>4.23</th>\n",
       "      <th>전일비</th>\n",
       "      <th>전주비</th>\n",
       "      <th>18년말비</th>\n",
       "    </tr>\n",
       "  </thead>\n",
       "  <tbody>\n",
       "    <tr>\n",
       "      <th>0</th>\n",
       "      <td>KOSPI</td>\n",
       "      <td>2,041</td>\n",
       "      <td>2,249</td>\n",
       "      <td>2,217</td>\n",
       "      <td>2,221</td>\n",
       "      <td>+0.17%</td>\n",
       "      <td>△1.3%</td>\n",
       "      <td>+8.8%</td>\n",
       "    </tr>\n",
       "    <tr>\n",
       "      <th>1</th>\n",
       "      <td>KOSDAQ</td>\n",
       "      <td>676</td>\n",
       "      <td>765</td>\n",
       "      <td>762</td>\n",
       "      <td>761</td>\n",
       "      <td>△0.08%</td>\n",
       "      <td>△0.5%</td>\n",
       "      <td>+12.7%</td>\n",
       "    </tr>\n",
       "  </tbody>\n",
       "</table>\n",
       "</div>"
      ],
      "text/plain": [
       "  (단위:pt)   18년말   4.16   4.22   4.23     전일비    전주비   18년말비\n",
       "0   KOSPI  2,041  2,249  2,217  2,221  +0.17%  △1.3%   +8.8%\n",
       "1  KOSDAQ    676    765    762    761  △0.08%  △0.5%  +12.7%"
      ]
     },
     "execution_count": 31,
     "metadata": {},
     "output_type": "execute_result"
    }
   ],
   "source": [
    "df2[0]"
   ]
  },
  {
   "cell_type": "code",
   "execution_count": 36,
   "metadata": {},
   "outputs": [
    {
     "data": {
      "text/plain": [
       "'금융시장동향2.csv'"
      ]
     },
     "execution_count": 36,
     "metadata": {},
     "output_type": "execute_result"
    }
   ],
   "source": [
    "fileName"
   ]
  },
  {
   "cell_type": "code",
   "execution_count": 37,
   "metadata": {},
   "outputs": [
    {
     "data": {
      "text/plain": [
       "'342_금융시장동향'"
      ]
     },
     "execution_count": 37,
     "metadata": {},
     "output_type": "execute_result"
    }
   ],
   "source": [
    "inputFolder"
   ]
  },
  {
   "cell_type": "code",
   "execution_count": 41,
   "metadata": {},
   "outputs": [],
   "source": [
    "#각각의 표를 파일로 저장\n",
    "for i in range(0, len(df2)):\n",
    "    fileName = '금융시장동향' + str(i) + '.csv'\n",
    "    df2[i].to_csv(\"../../data/outbound/\" + inputFolder + \"/\" + fileName, index=False, encoding = \"ms949\")"
   ]
  },
  {
   "cell_type": "code",
   "execution_count": 30,
   "metadata": {},
   "outputs": [
    {
     "ename": "IndentationError",
     "evalue": "unexpected indent (<ipython-input-30-861fdbfbf4a1>, line 2)",
     "output_type": "error",
     "traceback": [
      "\u001b[1;36m  File \u001b[1;32m\"<ipython-input-30-861fdbfbf4a1>\"\u001b[1;36m, line \u001b[1;32m2\u001b[0m\n\u001b[1;33m    df2 = wrapper.read_pdf(url,\u001b[0m\n\u001b[1;37m    ^\u001b[0m\n\u001b[1;31mIndentationError\u001b[0m\u001b[1;31m:\u001b[0m unexpected indent\n"
     ]
    }
   ],
   "source": [
    "response = requests.get(url)\n",
    "    df2 = wrapper.read_pdf(url,\n",
    "              multiple_tables=True,\n",
    "              pages=\"all\",\n",
    "              pandas_options={\"header\":0})\n",
    "    #각각의 표를 파일로 저장\n",
    "    for i in range(0, len(df2)):\n",
    "        fileName = '금융시장동향' + str(i) + '.csv'\n",
    "        df2[i].to_csv(\"../../data/outbound/\" + fileName, index=False, encoding = \"ms949\")\n",
    "        \n",
    "    return df2 "
   ]
  },
  {
   "cell_type": "code",
   "execution_count": 17,
   "metadata": {},
   "outputs": [],
   "source": [
    "def pdfProcess(url):\n",
    "    response = requests.get(url)\n",
    "    df2 = wrapper.read_pdf(url,\n",
    "              multiple_tables=True,\n",
    "              pages=\"all\",\n",
    "              pandas_options={\"header\":0})\n",
    "    #각각의 표를 파일로 저장"
   ]
  },
  {
   "cell_type": "code",
   "execution_count": null,
   "metadata": {},
   "outputs": [],
   "source": [
    "response = requests.get(url)\n",
    "df2 = wrapper.read_pdf(url,\n",
    "          multiple_tables=True,\n",
    "          pages=\"all\",\n",
    "          pandas_options={\"header\":0})\n",
    "#각각의 표를 파일로 저장"
   ]
  },
  {
   "cell_type": "code",
   "execution_count": 18,
   "metadata": {},
   "outputs": [],
   "source": [
    "df2 = wrapper.read_pdf(url,\n",
    "          multiple_tables=True,\n",
    "          pages=\"all\",\n",
    "          pandas_options={\"header\":0})"
   ]
  },
  {
   "cell_type": "code",
   "execution_count": 19,
   "metadata": {},
   "outputs": [
    {
     "data": {
      "text/plain": [
       "[  (단위:pt)   18년말   4.16   4.22   4.23     전일비    전주비   18년말비\n",
       " 0   KOSPI  2,041  2,249  2,217  2,221  +0.17%  △1.3%   +8.8%\n",
       " 1  KOSDAQ    676    765    762    761  △0.08%  △0.5%  +12.7%,\n",
       "    (단위:원)     18년말     4.16     4.22     4.23    전일비    전주비  18년말비\n",
       " 0    원/달러  1,115.7  1,135.7  1,141.5  1,141.8  +0.0%  +0.5%  +2.3%\n",
       " 1  원/100엔  1,017.1  1,014.5  1,019.9  1,020.9  +0.1%  +0.6%  +0.4%,\n",
       "      (단위:%)   18년말   4.16   4.22   4.23     전일비     전주비   18년말비\n",
       " 0     CD91일  1.930  1.860  1.850  1.850   0.0bp  △1.0bp  △8.0bp\n",
       " 1      국고3년  1.817  1.765  1.769  1.768  △0.1bp  +0.3bp  △4.9bp\n",
       " 2     국고10년  1.948  1.923  1.929  1.923  △0.6bp   0.0bp  △2.5bp\n",
       " 3  회사채(AA-)  2.287  2.234  2.241  2.238  △0.3bp  +0.4bp  △4.9bp\n",
       " 4   장단기스프레드   13.1   15.8   16.0   15.5  △0.5bp  △0.3bp  +2.4bp\n",
       " 5    신용스프레드   47.0   46.9   47.2   47.0  △0.2bp  +0.1bp   0.0bp]"
      ]
     },
     "execution_count": 19,
     "metadata": {},
     "output_type": "execute_result"
    }
   ],
   "source": [
    "df2"
   ]
  },
  {
   "cell_type": "code",
   "execution_count": 16,
   "metadata": {},
   "outputs": [],
   "source": [
    "newDF"
   ]
  },
  {
   "cell_type": "code",
   "execution_count": null,
   "metadata": {},
   "outputs": [],
   "source": [
    "url = cf.makeURL(inputUrl,inputKey,inputParameter)\n",
    "print(\"fullUrl is \" + url)\n",
    "\n",
    "newDF = pd.DataFrame()\n",
    "#     if (inputDataType == \"xml\"):\n",
    "#         newDF = cf.xmlProcess(url)\n",
    "if(inputDataType == \"json\"):\n",
    "    newDF = cf.jsonProcess(url)\n",
    "elif(inputDataType == \"csv\"):\n",
    "    newDF = cf.csvProcess(url)\n",
    "elif(inputDataType == \"pdf\"):\n",
    "    newDF = cf.pdfProcess(url)\n",
    "\n",
    "fullOutPath = outPath+inputFolder+\"/\"+inputFolder+inputFile+\".csv\"\n",
    "print(fullOutPath)\n",
    "\n",
    "try:\n",
    "    newDF.to_csv(fullOutPath, index=False, encoding=\"ms949\")\n",
    "except Exception as x:\n",
    "    print(x)\n",
    "\n",
    "fullOutRefPath = outPath + inputFolder + \"/\" + inputFolder + inputFile + \".\"+inputRefType\n",
    "try:\n",
    "    wget.download(inputRefUrl, fullOutRefPath)\n",
    "except Exception as e:\n",
    "    print(inputFolder+\"참고문서 Error\")\n",
    "    print(e)\n",
    "    pass"
   ]
  },
  {
   "cell_type": "code",
   "execution_count": 12,
   "metadata": {},
   "outputs": [
    {
     "name": "stdout",
     "output_type": "stream",
     "text": [
      "http://fsc.go.kr/downManager?bbsid=BBS0069&no=137533\n",
      "fullUrl is http://fsc.go.kr/downManager?bbsid=BBS0069&no=137533\n",
      "../../data/outbound/342_금융시장동향/342_금융시장동향.csv\n",
      "'NoneType' object has no attribute 'to_csv'\n",
      "342_금융시장동향참고문서 Error\n",
      "unknown url type: ''\n"
     ]
    }
   ],
   "source": [
    "# get dataList to load and write\n",
    "for dataCount in range(0,len(dataList)):\n",
    "\n",
    "    inputUrl = dataList.loc[dataCount, \"사이트\"]\n",
    "    inputKey = dataList.loc[dataCount, \"서비스키\"]\n",
    "    inputParameter = dataList.loc[dataCount, \"파라미터\"]\n",
    "    inputFolder = dataList.loc[dataCount, \"폴더명\"]\n",
    "    inputFile = dataList.loc[dataCount, \"서비스명\"]\n",
    "    inputDataType = dataList.loc[dataCount, \"데이터타입\"]\n",
    "    inputRefUrl = dataList.loc[dataCount, \"참고문서\"]\n",
    "    inputRefType = dataList.loc[dataCount, \"참고문서타입\"]\n",
    "    print(inputUrl)\n",
    "\n",
    "    url = cf.makeURL(inputUrl,inputKey,inputParameter)\n",
    "    print(\"fullUrl is \" + url)\n",
    "\n",
    "    newDF = pd.DataFrame()\n",
    "#     if (inputDataType == \"xml\"):\n",
    "#         newDF = cf.xmlProcess(url)\n",
    "    if(inputDataType == \"json\"):\n",
    "        newDF = cf.jsonProcess(url)\n",
    "    elif(inputDataType == \"csv\"):\n",
    "        newDF = cf.csvProcess(url)\n",
    "    elif(inputDataType == \"pdf\"):\n",
    "        newDF = cf.pdfProcess(url)\n",
    "\n",
    "    fullOutPath = outPath+inputFolder+\"/\"+inputFolder+inputFile+\".csv\"\n",
    "    print(fullOutPath)\n",
    "\n",
    "    try:\n",
    "        newDF.to_csv(fullOutPath, index=False, encoding=\"ms949\")\n",
    "    except Exception as x:\n",
    "        print(x)\n",
    "\n",
    "    fullOutRefPath = outPath + inputFolder + \"/\" + inputFolder + inputFile + \".\"+inputRefType\n",
    "    try:\n",
    "        wget.download(inputRefUrl, fullOutRefPath)\n",
    "    except Exception as e:\n",
    "        print(inputFolder+\"참고문서 Error\")\n",
    "        print(e)\n",
    "        pass"
   ]
  },
  {
   "cell_type": "code",
   "execution_count": 6,
   "metadata": {},
   "outputs": [
    {
     "name": "stdout",
     "output_type": "stream",
     "text": [
      "http://fsc.go.kr/info/trd_list.jsp?menu=7230000&bbsid=BBS0069\n",
      "fullUrl is http://fsc.go.kr/info/trd_list.jsp?menu=7230000&bbsid=BBS0069\n"
     ]
    },
    {
     "name": "stderr",
     "output_type": "stream",
     "text": [
      "Error: \n"
     ]
    },
    {
     "ename": "CalledProcessError",
     "evalue": "Command '['java', '-Dfile.encoding=UTF8', '-jar', 'C:\\\\Users\\\\SMART-11\\\\Anaconda3\\\\lib\\\\site-packages\\\\tabula\\\\tabula-1.0.2-jar-with-dependencies.jar', '--pages', 'all', '--guess', '--format', 'JSON', '4964.pdf']' returned non-zero exit status 1.",
     "output_type": "error",
     "traceback": [
      "\u001b[1;31m---------------------------------------------------------------------------\u001b[0m",
      "\u001b[1;31mCalledProcessError\u001b[0m                        Traceback (most recent call last)",
      "\u001b[1;32m<ipython-input-6-8885e06935aa>\u001b[0m in \u001b[0;36m<module>\u001b[1;34m()\u001b[0m\n\u001b[0;32m     23\u001b[0m         \u001b[0mnewDF\u001b[0m \u001b[1;33m=\u001b[0m \u001b[0mcf\u001b[0m\u001b[1;33m.\u001b[0m\u001b[0mcsvProcess\u001b[0m\u001b[1;33m(\u001b[0m\u001b[0murl\u001b[0m\u001b[1;33m)\u001b[0m\u001b[1;33m\u001b[0m\u001b[0m\n\u001b[0;32m     24\u001b[0m     \u001b[1;32melif\u001b[0m\u001b[1;33m(\u001b[0m\u001b[0minputDataType\u001b[0m \u001b[1;33m==\u001b[0m \u001b[1;34m\"pdf\"\u001b[0m\u001b[1;33m)\u001b[0m\u001b[1;33m:\u001b[0m\u001b[1;33m\u001b[0m\u001b[0m\n\u001b[1;32m---> 25\u001b[1;33m         \u001b[0mnewDF\u001b[0m \u001b[1;33m=\u001b[0m \u001b[0mcf\u001b[0m\u001b[1;33m.\u001b[0m\u001b[0mpdfProcess\u001b[0m\u001b[1;33m(\u001b[0m\u001b[0murl\u001b[0m\u001b[1;33m)\u001b[0m\u001b[1;33m\u001b[0m\u001b[0m\n\u001b[0m\u001b[0;32m     26\u001b[0m \u001b[1;33m\u001b[0m\u001b[0m\n\u001b[0;32m     27\u001b[0m     \u001b[0mfullOutPath\u001b[0m \u001b[1;33m=\u001b[0m \u001b[0moutPath\u001b[0m\u001b[1;33m+\u001b[0m\u001b[0minputFolder\u001b[0m\u001b[1;33m+\u001b[0m\u001b[1;34m\"/\"\u001b[0m\u001b[1;33m+\u001b[0m\u001b[0minputFolder\u001b[0m\u001b[1;33m+\u001b[0m\u001b[0minputFile\u001b[0m\u001b[1;33m+\u001b[0m\u001b[1;34m\".csv\"\u001b[0m\u001b[1;33m\u001b[0m\u001b[0m\n",
      "\u001b[1;32m~\\Python_Fintech\\dataImport-master\\src\\preparation\\common\\cFunction.py\u001b[0m in \u001b[0;36mpdfProcess\u001b[1;34m(url)\u001b[0m\n\u001b[0;32m     75\u001b[0m               \u001b[0mmultiple_tables\u001b[0m\u001b[1;33m=\u001b[0m\u001b[1;32mTrue\u001b[0m\u001b[1;33m,\u001b[0m\u001b[1;33m\u001b[0m\u001b[0m\n\u001b[0;32m     76\u001b[0m               \u001b[0mpages\u001b[0m\u001b[1;33m=\u001b[0m\u001b[1;34m\"all\"\u001b[0m\u001b[1;33m,\u001b[0m\u001b[1;33m\u001b[0m\u001b[0m\n\u001b[1;32m---> 77\u001b[1;33m               pandas_options={\"header\":0})\n\u001b[0m\u001b[0;32m     78\u001b[0m     \u001b[1;31m#각각의 표를 파일로 저장\u001b[0m\u001b[1;33m\u001b[0m\u001b[1;33m\u001b[0m\u001b[0m\n\u001b[0;32m     79\u001b[0m     \u001b[1;32mfor\u001b[0m \u001b[0mi\u001b[0m \u001b[1;32min\u001b[0m \u001b[0mrange\u001b[0m\u001b[1;33m(\u001b[0m\u001b[1;36m0\u001b[0m\u001b[1;33m,\u001b[0m \u001b[0mlen\u001b[0m\u001b[1;33m(\u001b[0m\u001b[0mdf2\u001b[0m\u001b[1;33m)\u001b[0m\u001b[1;33m)\u001b[0m\u001b[1;33m:\u001b[0m\u001b[1;33m\u001b[0m\u001b[0m\n",
      "\u001b[1;32m~\\Anaconda3\\lib\\site-packages\\tabula\\wrapper.py\u001b[0m in \u001b[0;36mread_pdf\u001b[1;34m(input_path, output_format, encoding, java_options, pandas_options, multiple_tables, **kwargs)\u001b[0m\n\u001b[0;32m    106\u001b[0m \u001b[1;33m\u001b[0m\u001b[0m\n\u001b[0;32m    107\u001b[0m     \u001b[1;32mtry\u001b[0m\u001b[1;33m:\u001b[0m\u001b[1;33m\u001b[0m\u001b[0m\n\u001b[1;32m--> 108\u001b[1;33m         \u001b[0moutput\u001b[0m \u001b[1;33m=\u001b[0m \u001b[0msubprocess\u001b[0m\u001b[1;33m.\u001b[0m\u001b[0mcheck_output\u001b[0m\u001b[1;33m(\u001b[0m\u001b[0margs\u001b[0m\u001b[1;33m)\u001b[0m\u001b[1;33m\u001b[0m\u001b[0m\n\u001b[0m\u001b[0;32m    109\u001b[0m \u001b[1;33m\u001b[0m\u001b[0m\n\u001b[0;32m    110\u001b[0m     \u001b[1;32mexcept\u001b[0m \u001b[0mFileNotFoundError\u001b[0m \u001b[1;32mas\u001b[0m \u001b[0me\u001b[0m\u001b[1;33m:\u001b[0m\u001b[1;33m\u001b[0m\u001b[0m\n",
      "\u001b[1;32m~\\Anaconda3\\lib\\subprocess.py\u001b[0m in \u001b[0;36mcheck_output\u001b[1;34m(timeout, *popenargs, **kwargs)\u001b[0m\n\u001b[0;32m    334\u001b[0m \u001b[1;33m\u001b[0m\u001b[0m\n\u001b[0;32m    335\u001b[0m     return run(*popenargs, stdout=PIPE, timeout=timeout, check=True,\n\u001b[1;32m--> 336\u001b[1;33m                **kwargs).stdout\n\u001b[0m\u001b[0;32m    337\u001b[0m \u001b[1;33m\u001b[0m\u001b[0m\n\u001b[0;32m    338\u001b[0m \u001b[1;33m\u001b[0m\u001b[0m\n",
      "\u001b[1;32m~\\Anaconda3\\lib\\subprocess.py\u001b[0m in \u001b[0;36mrun\u001b[1;34m(input, timeout, check, *popenargs, **kwargs)\u001b[0m\n\u001b[0;32m    416\u001b[0m         \u001b[1;32mif\u001b[0m \u001b[0mcheck\u001b[0m \u001b[1;32mand\u001b[0m \u001b[0mretcode\u001b[0m\u001b[1;33m:\u001b[0m\u001b[1;33m\u001b[0m\u001b[0m\n\u001b[0;32m    417\u001b[0m             raise CalledProcessError(retcode, process.args,\n\u001b[1;32m--> 418\u001b[1;33m                                      output=stdout, stderr=stderr)\n\u001b[0m\u001b[0;32m    419\u001b[0m     \u001b[1;32mreturn\u001b[0m \u001b[0mCompletedProcess\u001b[0m\u001b[1;33m(\u001b[0m\u001b[0mprocess\u001b[0m\u001b[1;33m.\u001b[0m\u001b[0margs\u001b[0m\u001b[1;33m,\u001b[0m \u001b[0mretcode\u001b[0m\u001b[1;33m,\u001b[0m \u001b[0mstdout\u001b[0m\u001b[1;33m,\u001b[0m \u001b[0mstderr\u001b[0m\u001b[1;33m)\u001b[0m\u001b[1;33m\u001b[0m\u001b[0m\n\u001b[0;32m    420\u001b[0m \u001b[1;33m\u001b[0m\u001b[0m\n",
      "\u001b[1;31mCalledProcessError\u001b[0m: Command '['java', '-Dfile.encoding=UTF8', '-jar', 'C:\\\\Users\\\\SMART-11\\\\Anaconda3\\\\lib\\\\site-packages\\\\tabula\\\\tabula-1.0.2-jar-with-dependencies.jar', '--pages', 'all', '--guess', '--format', 'JSON', '4964.pdf']' returned non-zero exit status 1."
     ]
    }
   ],
   "source": [
    "# get dataList to load and write\n",
    "for dataCount in range(0,len(dataList)):\n",
    "\n",
    "    inputUrl = dataList.loc[dataCount, \"사이트\"]\n",
    "    inputKey = dataList.loc[dataCount, \"서비스키\"]\n",
    "    inputParameter = dataList.loc[dataCount, \"파라미터\"]\n",
    "    inputFolder = dataList.loc[dataCount, \"폴더명\"]\n",
    "    inputFile = dataList.loc[dataCount, \"서비스명\"]\n",
    "    inputDataType = dataList.loc[dataCount, \"데이터타입\"]\n",
    "    inputRefUrl = dataList.loc[dataCount, \"참고문서\"]\n",
    "    inputRefType = dataList.loc[dataCount, \"참고문서타입\"]\n",
    "    print(inputUrl)\n",
    "\n",
    "    url = cf.makeURL(inputUrl,inputKey,inputParameter)\n",
    "    print(\"fullUrl is \" + url)\n",
    "\n",
    "    newDF = pd.DataFrame()\n",
    "#     if (inputDataType == \"xml\"):\n",
    "#         newDF = cf.xmlProcess(url)\n",
    "    if(inputDataType == \"json\"):\n",
    "        newDF = cf.jsonProcess(url)\n",
    "    elif(inputDataType == \"csv\"):\n",
    "        newDF = cf.csvProcess(url)\n",
    "    elif(inputDataType == \"pdf\"):\n",
    "        newDF = cf.pdfProcess(url)\n",
    "\n",
    "    fullOutPath = outPath+inputFolder+\"/\"+inputFolder+inputFile+\".csv\"\n",
    "    print(fullOutPath)\n",
    "\n",
    "    try:\n",
    "        newDF.to_csv(fullOutPath, index=False, encoding=\"ms949\")\n",
    "    except Exception as x:\n",
    "        print(x)\n",
    "\n",
    "    fullOutRefPath = outPath + inputFolder + \"/\" + inputFolder + inputFile + \".\"+inputRefType\n",
    "    try:\n",
    "        wget.download(inputRefUrl, fullOutRefPath)\n",
    "    except Exception as e:\n",
    "        print(inputFolder+\"참고문서 Error\")\n",
    "        print(e)\n",
    "        pass"
   ]
  },
  {
   "cell_type": "code",
   "execution_count": 1,
   "metadata": {
    "scrolled": false
   },
   "outputs": [
    {
     "name": "stdout",
     "output_type": "stream",
     "text": [
      "### The total number of target data is 417\n",
      "                                                   사이트\n",
      "305  https://www.data.go.kr/dataset/fileDownload.do...\n",
      "306  http://openapi.kab.co.kr/OpenAPI_ToolInstallPa...\n",
      "308  http://apis.data.go.kr/1611000/nsdi/BuildingUs...\n",
      "313         https://data.myhome.go.kr/rentalHouseList?\n",
      "318  http://apis.data.go.kr/1611000/nsdi/StatsIndic...\n",
      "340      http://apis.data.go.kr/1611000/ArchPmsService\n",
      "342  http://fsc.go.kr/info/trd_list.jsp?menu=723000...\n",
      "345  http://apis.data.go.kr/1611000/ArchPmsService/...\n",
      "349  http://data.insight.go.kr/openapi/service/Pric...\n",
      "352  http://openapi.molit.go.kr/OpenAPI_ToolInstall...\n",
      "353  http://openapi.kab.co.kr/OpenAPI_ToolInstallPa...\n",
      "354  http://openapi.kab.co.kr/OpenAPI_ToolInstallPa...\n",
      "355  https://www.data.go.kr/dataset/fileDownload.do...\n",
      "359  http://openapi.kab.co.kr/OpenAPI_ToolInstallPa...\n",
      "360  http://api.hf.go.kr:8090/service/rest/HfMbsInt...\n",
      "361  http://api.hf.go.kr:8090/service/rest/HfMbbInt...\n",
      "363  https://www.data.go.kr/dataset/fileDownload.do...\n",
      "376  https://www.data.go.kr/dataset/fileDownload.do...\n",
      "377  http://api.hf.go.kr:8090/service/rest/uloanrat...\n",
      "378  https://www.data.go.kr/dataset/fileDownload.do...\n",
      "379  http://api.hf.go.kr:8090/service/rest/conforml...\n",
      "389  http://openapi.kab.co.kr/OpenAPI_ToolInstallPa...\n",
      "390  https://www.data.go.kr/subMain.jsp#/L3B1YnIvcG...\n",
      "414  http://openapi.kab.co.kr/OpenAPI_ToolInstallPa...\n",
      "### The total number of filtered data is 24\n",
      "https://www.data.go.kr/dataset/fileDownload.do?atchFileId=FILE_000000001439364&fileDetailSn=1&publicDataDetailPk=uddi:2438e83c-e8a6-41b2-b1e1-d536ac75ffc6\n",
      "fullUrl is https://www.data.go.kr/dataset/fileDownload.do?atchFileId=FILE_000000001439364&fileDetailSn=1&publicDataDetailPk=uddi:2438e83c-e8a6-41b2-b1e1-d536ac75ffc6\n",
      "../../data/outbound/306_한국감정원 오피스텔 동향조사 현황/306_한국감정원 오피스텔 동향조사 현황.csv\n",
      "306_한국감정원 오피스텔 동향조사 현황참고문서 Error\n",
      "unknown url type: ''\n",
      "http://openapi.kab.co.kr/OpenAPI_ToolInstallPackage/service/rest/TradePrcIndexSvc/getTradePrcIndex?startmonth=201402&endmonth=201403&region=11000&buildingtype=3&serviceKey=\n",
      "fullUrl is http://openapi.kab.co.kr/OpenAPI_ToolInstallPackage/service/rest/TradePrcIndexSvc/getTradePrcIndex?startmonth=201402&endmonth=201403&region=11000&buildingtype=3&serviceKey=rQjRsn9x24ghbU%2B9%2Bsd3qTdMwCjZifdkuvjnjQ%2FKdKaARRpDQ2foOTgr4MyUwIuF5TND%2FX9agsHsuWcDdNYf7w%3D%3D\n",
      "../../data/outbound/307_한국감정원 부동산 매매가격지수 현황/307_한국감정원 부동산 매매가격지수 현황.csv\n",
      "307_한국감정원 부동산 매매가격지수 현황참고문서 Error\n",
      "unknown url type: ''\n",
      "http://apis.data.go.kr/1611000/nsdi/BuildingUseService/attr/getBuildingUse?pnu=1111017400&mainPrposCode=02000&detailPrposCode=02001&format=xml&numOfRows=10&pageNo=1&ServiceKey=\n",
      "fullUrl is http://apis.data.go.kr/1611000/nsdi/BuildingUseService/attr/getBuildingUse?pnu=1111017400&mainPrposCode=02000&detailPrposCode=02001&format=xml&numOfRows=10&pageNo=1&ServiceKey=aDTqxJKNQ6XA6akRhrCF1ZSGXu8uk6HwyjXEWNetiKZEo%2FAD1M38g97KxPIXwL5k4RBnx%2BJwa6DzpTgn0G6AEg%3D%3D\n",
      "../../data/outbound/308_공간융합정보/308_공간융합정보.csv\n",
      "308_공간융합정보참고문서 Error\n",
      "unknown url type: ''\n",
      "https://data.myhome.go.kr/rentalHouseList?\n",
      "fullUrl is https://data.myhome.go.kr/rentalHouseList?ServiceKey=&brtcCode=11&signguCode=140\n",
      "../../data/outbound/313_임대주택 단지정보/313_임대주택 단지정보.csv\n",
      "313_임대주택 단지정보참고문서 Error\n",
      "unknown url type: ''\n",
      "http://apis.data.go.kr/1611000/nsdi/StatsIndicatorService/attr/getAreaOfLandCategory?ServiceKey=\n",
      "fullUrl is http://apis.data.go.kr/1611000/nsdi/StatsIndicatorService/attr/getAreaOfLandCategory?ServiceKey=인증키&startDt=201509&endDt=201609&reqLvl=3&ldCode=47930250&format=xml&numOfRows=10&pageNo=1\n",
      "../../data/outbound/318_부동산 통계정보/318_부동산 통계정보.csv\n",
      "318_부동산 통계정보참고문서 Error\n",
      "unknown url type: ''\n",
      "http://apis.data.go.kr/1611000/ArchPmsService\n",
      "fullUrl is http://apis.data.go.kr/1611000/ArchPmsServiceufe1cXhfaa3SBtlsFh402kse1ctLxx0%2BxZU0NDXcW6KST%2BIRc2HMgfJMC2%2BJ9vwZqCjCZvIyvusJfRZdESfOIA%3D%3D\n",
      "../../data/outbound/340_건축인허가 정보/340_건축인허가 정보getApBasisOulnInfo&getApDongOulnInfo&getApFlrOulnInfo&getApHoOulnInfo&getApImprprInfo&getApHdcrMgmRgstInfo&getApDemolExtngMgmRgstInfo&getApTmpBldInfo&getApWclfInfo&getApPklotInfo&getApAtchPklotInfo&getApExposPubuseAreaInfo&getApHoExposPubuseAreaInfo&getApJijiguInfo&getApRoadRgstInfo&getApPlatPlcInfo&getApHsTpInfo.csv\n",
      "[Errno 2] No such file or directory: '../../data/outbound/340_건축인허가 정보/340_건축인허가 정보getApBasisOulnInfo&getApDongOulnInfo&getApFlrOulnInfo&getApHoOulnInfo&getApImprprInfo&getApHdcrMgmRgstInfo&getApDemolExtngMgmRgstInfo&getApTmpBldInfo&getApWclfInfo&getApPklotInfo&getApAtchPklotInfo&getApExposPubuseAreaInfo&getApHoExposPubuseAreaInfo&getApJijiguInfo&getApRoadRgstInfo&getApPlatPlcInfo&getApHsTpInfo.csv'\n",
      "340_건축인허가 정보참고문서 Error\n",
      "[Errno 2] No such file or directory: '.\\\\../../data/outbound/340_건축인허가 정보/340_건축인허가 정보getApBasisOulnInfo&getApDongOulnInfo&getApFlrOulnInfo&getApHoOulnInfo&getApImprprInfo&getApHdcrMgmRgstInfo&getApDemolExtngMgmRgstInfo&getApTmpBldInfo&getApWclfInfo&getApPklotInfo&getApAtchPklotInfo&getApExposPubuseAreaInfo&getApHoExposPubuseAreaInfo&getApJijiguInfo&getApRoadRgstInfo&getApPlatPlcInfo&getApHsTpInfo.c8gabd_d.tmp'\n",
      "http://fsc.go.kr/info/trd_list.jsp?menu=7230000&bbsid=BBS0069\n",
      "fullUrl is http://fsc.go.kr/info/trd_list.jsp?menu=7230000&bbsid=BBS0069\n"
     ]
    },
    {
     "name": "stderr",
     "output_type": "stream",
     "text": [
      "Error: \n"
     ]
    },
    {
     "ename": "CalledProcessError",
     "evalue": "Command '['java', '-Dfile.encoding=UTF8', '-jar', 'C:\\\\Users\\\\SMART-11\\\\Anaconda3\\\\lib\\\\site-packages\\\\tabula\\\\tabula-1.0.2-jar-with-dependencies.jar', '--pages', 'all', '--guess', '--format', 'JSON', '4964.pdf']' returned non-zero exit status 1.",
     "output_type": "error",
     "traceback": [
      "\u001b[1;31m---------------------------------------------------------------------------\u001b[0m",
      "\u001b[1;31mCalledProcessError\u001b[0m                        Traceback (most recent call last)",
      "\u001b[1;32m<ipython-input-1-f3c1b3ec3a44>\u001b[0m in \u001b[0;36m<module>\u001b[1;34m()\u001b[0m\n\u001b[0;32m     59\u001b[0m         \u001b[0mnewDF\u001b[0m \u001b[1;33m=\u001b[0m \u001b[0mcf\u001b[0m\u001b[1;33m.\u001b[0m\u001b[0mcsvProcess\u001b[0m\u001b[1;33m(\u001b[0m\u001b[0murl\u001b[0m\u001b[1;33m)\u001b[0m\u001b[1;33m\u001b[0m\u001b[0m\n\u001b[0;32m     60\u001b[0m     \u001b[1;32melif\u001b[0m\u001b[1;33m(\u001b[0m\u001b[0minputDataType\u001b[0m \u001b[1;33m==\u001b[0m \u001b[1;34m\"pdf\"\u001b[0m\u001b[1;33m)\u001b[0m\u001b[1;33m:\u001b[0m\u001b[1;33m\u001b[0m\u001b[0m\n\u001b[1;32m---> 61\u001b[1;33m         \u001b[0mnewDF\u001b[0m \u001b[1;33m=\u001b[0m \u001b[0mcf\u001b[0m\u001b[1;33m.\u001b[0m\u001b[0mpdfProcess\u001b[0m\u001b[1;33m(\u001b[0m\u001b[0murl\u001b[0m\u001b[1;33m)\u001b[0m\u001b[1;33m\u001b[0m\u001b[0m\n\u001b[0m\u001b[0;32m     62\u001b[0m \u001b[1;33m\u001b[0m\u001b[0m\n\u001b[0;32m     63\u001b[0m     \u001b[0mfullOutPath\u001b[0m \u001b[1;33m=\u001b[0m \u001b[0moutPath\u001b[0m\u001b[1;33m+\u001b[0m\u001b[0minputFolder\u001b[0m\u001b[1;33m+\u001b[0m\u001b[1;34m\"/\"\u001b[0m\u001b[1;33m+\u001b[0m\u001b[0minputFolder\u001b[0m\u001b[1;33m+\u001b[0m\u001b[0minputFile\u001b[0m\u001b[1;33m+\u001b[0m\u001b[1;34m\".csv\"\u001b[0m\u001b[1;33m\u001b[0m\u001b[0m\n",
      "\u001b[1;32m~\\Python_Fintech\\dataImport-master\\src\\preparation\\common\\cFunction.py\u001b[0m in \u001b[0;36mpdfProcess\u001b[1;34m(url)\u001b[0m\n\u001b[0;32m     75\u001b[0m               \u001b[0mmultiple_tables\u001b[0m\u001b[1;33m=\u001b[0m\u001b[1;32mTrue\u001b[0m\u001b[1;33m,\u001b[0m\u001b[1;33m\u001b[0m\u001b[0m\n\u001b[0;32m     76\u001b[0m               \u001b[0mpages\u001b[0m\u001b[1;33m=\u001b[0m\u001b[1;34m\"all\"\u001b[0m\u001b[1;33m,\u001b[0m\u001b[1;33m\u001b[0m\u001b[0m\n\u001b[1;32m---> 77\u001b[1;33m               pandas_options={\"header\":0})\n\u001b[0m\u001b[0;32m     78\u001b[0m     \u001b[1;31m#각각의 표를 파일로 저장\u001b[0m\u001b[1;33m\u001b[0m\u001b[1;33m\u001b[0m\u001b[0m\n\u001b[0;32m     79\u001b[0m     \u001b[1;32mfor\u001b[0m \u001b[0mi\u001b[0m \u001b[1;32min\u001b[0m \u001b[0mrange\u001b[0m\u001b[1;33m(\u001b[0m\u001b[1;36m0\u001b[0m\u001b[1;33m,\u001b[0m \u001b[0mlen\u001b[0m\u001b[1;33m(\u001b[0m\u001b[0mdf2\u001b[0m\u001b[1;33m)\u001b[0m\u001b[1;33m)\u001b[0m\u001b[1;33m:\u001b[0m\u001b[1;33m\u001b[0m\u001b[0m\n",
      "\u001b[1;32m~\\Anaconda3\\lib\\site-packages\\tabula\\wrapper.py\u001b[0m in \u001b[0;36mread_pdf\u001b[1;34m(input_path, output_format, encoding, java_options, pandas_options, multiple_tables, **kwargs)\u001b[0m\n\u001b[0;32m    106\u001b[0m \u001b[1;33m\u001b[0m\u001b[0m\n\u001b[0;32m    107\u001b[0m     \u001b[1;32mtry\u001b[0m\u001b[1;33m:\u001b[0m\u001b[1;33m\u001b[0m\u001b[0m\n\u001b[1;32m--> 108\u001b[1;33m         \u001b[0moutput\u001b[0m \u001b[1;33m=\u001b[0m \u001b[0msubprocess\u001b[0m\u001b[1;33m.\u001b[0m\u001b[0mcheck_output\u001b[0m\u001b[1;33m(\u001b[0m\u001b[0margs\u001b[0m\u001b[1;33m)\u001b[0m\u001b[1;33m\u001b[0m\u001b[0m\n\u001b[0m\u001b[0;32m    109\u001b[0m \u001b[1;33m\u001b[0m\u001b[0m\n\u001b[0;32m    110\u001b[0m     \u001b[1;32mexcept\u001b[0m \u001b[0mFileNotFoundError\u001b[0m \u001b[1;32mas\u001b[0m \u001b[0me\u001b[0m\u001b[1;33m:\u001b[0m\u001b[1;33m\u001b[0m\u001b[0m\n",
      "\u001b[1;32m~\\Anaconda3\\lib\\subprocess.py\u001b[0m in \u001b[0;36mcheck_output\u001b[1;34m(timeout, *popenargs, **kwargs)\u001b[0m\n\u001b[0;32m    334\u001b[0m \u001b[1;33m\u001b[0m\u001b[0m\n\u001b[0;32m    335\u001b[0m     return run(*popenargs, stdout=PIPE, timeout=timeout, check=True,\n\u001b[1;32m--> 336\u001b[1;33m                **kwargs).stdout\n\u001b[0m\u001b[0;32m    337\u001b[0m \u001b[1;33m\u001b[0m\u001b[0m\n\u001b[0;32m    338\u001b[0m \u001b[1;33m\u001b[0m\u001b[0m\n",
      "\u001b[1;32m~\\Anaconda3\\lib\\subprocess.py\u001b[0m in \u001b[0;36mrun\u001b[1;34m(input, timeout, check, *popenargs, **kwargs)\u001b[0m\n\u001b[0;32m    416\u001b[0m         \u001b[1;32mif\u001b[0m \u001b[0mcheck\u001b[0m \u001b[1;32mand\u001b[0m \u001b[0mretcode\u001b[0m\u001b[1;33m:\u001b[0m\u001b[1;33m\u001b[0m\u001b[0m\n\u001b[0;32m    417\u001b[0m             raise CalledProcessError(retcode, process.args,\n\u001b[1;32m--> 418\u001b[1;33m                                      output=stdout, stderr=stderr)\n\u001b[0m\u001b[0;32m    419\u001b[0m     \u001b[1;32mreturn\u001b[0m \u001b[0mCompletedProcess\u001b[0m\u001b[1;33m(\u001b[0m\u001b[0mprocess\u001b[0m\u001b[1;33m.\u001b[0m\u001b[0margs\u001b[0m\u001b[1;33m,\u001b[0m \u001b[0mretcode\u001b[0m\u001b[1;33m,\u001b[0m \u001b[0mstdout\u001b[0m\u001b[1;33m,\u001b[0m \u001b[0mstderr\u001b[0m\u001b[1;33m)\u001b[0m\u001b[1;33m\u001b[0m\u001b[0m\n\u001b[0;32m    420\u001b[0m \u001b[1;33m\u001b[0m\u001b[0m\n",
      "\u001b[1;31mCalledProcessError\u001b[0m: Command '['java', '-Dfile.encoding=UTF8', '-jar', 'C:\\\\Users\\\\SMART-11\\\\Anaconda3\\\\lib\\\\site-packages\\\\tabula\\\\tabula-1.0.2-jar-with-dependencies.jar', '--pages', 'all', '--guess', '--format', 'JSON', '4964.pdf']' returned non-zero exit status 1."
     ]
    }
   ],
   "source": [
    "import requests #Used to service API connection\n",
    "from lxml import html #Used to parse XML\n",
    "from bs4 import BeautifulSoup #Used to read XML table on webpage\n",
    "import pandas as pd\n",
    "from common import cFunction as cf\n",
    "import numpy as np\n",
    "import wget\n",
    "import tabula \n",
    "from tabula import wrapper\n",
    "\n",
    "# get dataList from filesystem to load and write\n",
    "#dataList = pd.read_excel(\"../../data/inbound/dataList.xlsx\")\n",
    "\n",
    "# get dataList from spreadsheet to load and write\n",
    "dataList = pd.read_csv(\"https://docs.google.com/spreadsheets/d/1VngqG-m7G8k1587c21MZoheR1Fz3amp1mJtiBvA1Jb0/export?format=csv&gid=0\")\n",
    "print(\"### The total number of target data is \" + str(len(dataList)))\n",
    "\n",
    "# Filtering -> get dataList only defined url\n",
    "dataList = dataList[   dataList['사이트'].notnull() ]\n",
    "print(dataList[[\"사이트\"]])\n",
    "print(\"### The total number of filtered data is \" + str(len(dataList)))\n",
    "\n",
    "###################################################\n",
    "# Filtering -> for your own object\n",
    "#dataList = dataList[   dataList['번호'] == \"352\" ]\n",
    "###################################################\n",
    "\n",
    "# create folder to save result\n",
    "outPath = \"../../data/outbound/\"\n",
    "folderList = dataList[\"폴더명\"].tolist()\n",
    "for i in folderList:\n",
    "    cf.createFolder(outPath+i)\n",
    "\n",
    "dataList = dataList.fillna(\"\")\n",
    "dataList = dataList.reset_index(drop=True)\n",
    "\n",
    "# get dataList to load and write\n",
    "for dataCount in range(0,len(dataList)):\n",
    "\n",
    "    inputUrl = dataList.loc[dataCount, \"사이트\"]\n",
    "    inputKey = dataList.loc[dataCount, \"서비스키\"]\n",
    "    inputParameter = dataList.loc[dataCount, \"파라미터\"]\n",
    "    inputFolder = dataList.loc[dataCount, \"폴더명\"]\n",
    "    inputFile = dataList.loc[dataCount, \"서비스명\"]\n",
    "    inputDataType = dataList.loc[dataCount, \"데이터타입\"]\n",
    "    inputRefUrl = dataList.loc[dataCount, \"참고문서\"]\n",
    "    inputRefType = dataList.loc[dataCount, \"참고문서타입\"]\n",
    "    print(inputUrl)\n",
    "\n",
    "    url = cf.makeURL(inputUrl,inputKey,inputParameter)\n",
    "    print(\"fullUrl is \" + url)\n",
    "\n",
    "    newDF = pd.DataFrame()\n",
    "#     if (inputDataType == \"xml\"):\n",
    "#         newDF = cf.xmlProcess(url)\n",
    "    if(inputDataType == \"json\"):\n",
    "        newDF = cf.jsonProcess(url)\n",
    "    elif(inputDataType == \"csv\"):\n",
    "        newDF = cf.csvProcess(url)\n",
    "    elif(inputDataType == \"pdf\"):\n",
    "        newDF = cf.pdfProcess(url)\n",
    "\n",
    "    fullOutPath = outPath+inputFolder+\"/\"+inputFolder+inputFile+\".csv\"\n",
    "    print(fullOutPath)\n",
    "\n",
    "    try:\n",
    "        newDF.to_csv(fullOutPath, index=False, encoding=\"ms949\")\n",
    "    except Exception as x:\n",
    "        print(x)\n",
    "\n",
    "    fullOutRefPath = outPath + inputFolder + \"/\" + inputFolder + inputFile + \".\"+inputRefType\n",
    "    try:\n",
    "        wget.download(inputRefUrl, fullOutRefPath)\n",
    "    except Exception as e:\n",
    "        print(inputFolder+\"참고문서 Error\")\n",
    "        print(e)\n",
    "        pass"
   ]
  },
  {
   "cell_type": "code",
   "execution_count": 6,
   "metadata": {
    "scrolled": true
   },
   "outputs": [
    {
     "data": {
      "text/plain": [
       "'C:\\\\Users\\\\SMART-04\\\\Python_Fintech\\\\07. 공공데이터 불러오기'"
      ]
     },
     "execution_count": 6,
     "metadata": {},
     "output_type": "execute_result"
    }
   ],
   "source": [
    "pwd"
   ]
  },
  {
   "cell_type": "code",
   "execution_count": 13,
   "metadata": {},
   "outputs": [],
   "source": [
    "import common"
   ]
  },
  {
   "cell_type": "code",
   "execution_count": 14,
   "metadata": {},
   "outputs": [],
   "source": [
    "import sys"
   ]
  },
  {
   "cell_type": "code",
   "execution_count": 15,
   "metadata": {},
   "outputs": [
    {
     "data": {
      "text/plain": [
       "['',\n",
       " 'C:\\\\ProgramData\\\\Anaconda3\\\\python36.zip',\n",
       " 'C:\\\\ProgramData\\\\Anaconda3\\\\DLLs',\n",
       " 'C:\\\\ProgramData\\\\Anaconda3\\\\lib',\n",
       " 'C:\\\\ProgramData\\\\Anaconda3',\n",
       " 'C:\\\\ProgramData\\\\Anaconda3\\\\lib\\\\site-packages',\n",
       " 'C:\\\\ProgramData\\\\Anaconda3\\\\lib\\\\site-packages\\\\win32',\n",
       " 'C:\\\\ProgramData\\\\Anaconda3\\\\lib\\\\site-packages\\\\win32\\\\lib',\n",
       " 'C:\\\\ProgramData\\\\Anaconda3\\\\lib\\\\site-packages\\\\Pythonwin',\n",
       " 'C:\\\\ProgramData\\\\Anaconda3\\\\lib\\\\site-packages\\\\IPython\\\\extensions',\n",
       " 'C:\\\\Users\\\\SMART-04\\\\.ipython']"
      ]
     },
     "execution_count": 15,
     "metadata": {},
     "output_type": "execute_result"
    }
   ],
   "source": [
    "sys.path"
   ]
  },
  {
   "cell_type": "code",
   "execution_count": 17,
   "metadata": {},
   "outputs": [],
   "source": [
    "sys.path.append(\"C:/Users/SMART-04/Desktop/dataImport-master/src/preparation/common\")"
   ]
  },
  {
   "cell_type": "code",
   "execution_count": 18,
   "metadata": {
    "scrolled": false
   },
   "outputs": [
    {
     "data": {
      "text/plain": [
       "['',\n",
       " 'C:\\\\ProgramData\\\\Anaconda3\\\\python36.zip',\n",
       " 'C:\\\\ProgramData\\\\Anaconda3\\\\DLLs',\n",
       " 'C:\\\\ProgramData\\\\Anaconda3\\\\lib',\n",
       " 'C:\\\\ProgramData\\\\Anaconda3',\n",
       " 'C:\\\\ProgramData\\\\Anaconda3\\\\lib\\\\site-packages',\n",
       " 'C:\\\\ProgramData\\\\Anaconda3\\\\lib\\\\site-packages\\\\win32',\n",
       " 'C:\\\\ProgramData\\\\Anaconda3\\\\lib\\\\site-packages\\\\win32\\\\lib',\n",
       " 'C:\\\\ProgramData\\\\Anaconda3\\\\lib\\\\site-packages\\\\Pythonwin',\n",
       " 'C:\\\\ProgramData\\\\Anaconda3\\\\lib\\\\site-packages\\\\IPython\\\\extensions',\n",
       " 'C:\\\\Users\\\\SMART-04\\\\.ipython',\n",
       " 'C:/Users/SMART-04/Desktop/dataImport-master/src/preparation/common']"
      ]
     },
     "execution_count": 18,
     "metadata": {},
     "output_type": "execute_result"
    }
   ],
   "source": [
    "sys.path"
   ]
  },
  {
   "cell_type": "code",
   "execution_count": 30,
   "metadata": {},
   "outputs": [],
   "source": [
    "import cFunction as cf"
   ]
  },
  {
   "cell_type": "markdown",
   "metadata": {},
   "source": [
    "## pdf 형식 API 파일 csv 파일로 저장"
   ]
  },
  {
   "cell_type": "code",
   "execution_count": 146,
   "metadata": {},
   "outputs": [],
   "source": [
    "response = requests.get(url)\n",
    "pdfLoc = \"http://fsc.go.kr/downManager?bbsid=BBS0069&no=137533\"\n",
    "df2 = wrapper.read_pdf(pdfLoc,\n",
    "              multiple_tables=True,\n",
    "              pages=\"all\",\n",
    "              pandas_options={\"header\":0})"
   ]
  },
  {
   "cell_type": "code",
   "execution_count": 147,
   "metadata": {},
   "outputs": [
    {
     "data": {
      "text/plain": [
       "[  (단위:pt)   18년말   4.16   4.22   4.23     전일비    전주비   18년말비\n",
       " 0   KOSPI  2,041  2,249  2,217  2,221  +0.17%  △1.3%   +8.8%\n",
       " 1  KOSDAQ    676    765    762    761  △0.08%  △0.5%  +12.7%,\n",
       "    (단위:원)     18년말     4.16     4.22     4.23    전일비    전주비  18년말비\n",
       " 0    원/달러  1,115.7  1,135.7  1,141.5  1,141.8  +0.0%  +0.5%  +2.3%\n",
       " 1  원/100엔  1,017.1  1,014.5  1,019.9  1,020.9  +0.1%  +0.6%  +0.4%,\n",
       "      (단위:%)   18년말   4.16   4.22   4.23     전일비     전주비   18년말비\n",
       " 0     CD91일  1.930  1.860  1.850  1.850   0.0bp  △1.0bp  △8.0bp\n",
       " 1      국고3년  1.817  1.765  1.769  1.768  △0.1bp  +0.3bp  △4.9bp\n",
       " 2     국고10년  1.948  1.923  1.929  1.923  △0.6bp   0.0bp  △2.5bp\n",
       " 3  회사채(AA-)  2.287  2.234  2.241  2.238  △0.3bp  +0.4bp  △4.9bp\n",
       " 4   장단기스프레드   13.1   15.8   16.0   15.5  △0.5bp  △0.3bp  +2.4bp\n",
       " 5    신용스프레드   47.0   46.9   47.2   47.0  △0.2bp  +0.1bp   0.0bp]"
      ]
     },
     "execution_count": 147,
     "metadata": {},
     "output_type": "execute_result"
    }
   ],
   "source": [
    "df2"
   ]
  },
  {
   "cell_type": "code",
   "execution_count": 142,
   "metadata": {},
   "outputs": [],
   "source": [
    "#각각의 표를 파일로 저장\n",
    "for i in range(0, len(df2)):\n",
    "    fileName = '금융시장동향' + str(i) + '.csv'\n",
    "    df2[i].to_csv(\"../../data/outbound/\" + fileName, index=False, encoding = \"ms949\")"
   ]
  },
  {
   "cell_type": "code",
   "execution_count": 92,
   "metadata": {},
   "outputs": [],
   "source": [
    "import tabula"
   ]
  },
  {
   "cell_type": "code",
   "execution_count": 93,
   "metadata": {},
   "outputs": [],
   "source": [
    "from tabula import wrapper #wrapper 로 하세요 "
   ]
  },
  {
   "cell_type": "code",
   "execution_count": 94,
   "metadata": {},
   "outputs": [],
   "source": [
    "pdfLoc = \"http://fsc.go.kr/downManager?bbsid=BBS0069&no=137533\""
   ]
  },
  {
   "cell_type": "code",
   "execution_count": 95,
   "metadata": {},
   "outputs": [],
   "source": [
    "df = wrapper.read_pdf(pdfLoc,\n",
    "              multiple_tables=True,\n",
    "              pages=\"all\",\n",
    "              pandas_options={\"header\":0})"
   ]
  },
  {
   "cell_type": "code",
   "execution_count": 130,
   "metadata": {},
   "outputs": [],
   "source": [
    "pdfLoc = \"../../data/inbound/190402_금융시장동향.pdf\"\n",
    "df = wrapper.read_pdf(pdfLoc,\n",
    "              multiple_tables=True,\n",
    "              pages=\"all\",\n",
    "              pandas_options={\"header\":0})"
   ]
  },
  {
   "cell_type": "code",
   "execution_count": 143,
   "metadata": {
    "scrolled": true
   },
   "outputs": [
    {
     "name": "stdout",
     "output_type": "stream",
     "text": [
      "  (단위:pt)   18년말   4.16   4.22   4.23     전일비    전주비   18년말비\n",
      "0   KOSPI  2,041  2,249  2,217  2,221  +0.17%  △1.3%   +8.8%\n",
      "1  KOSDAQ    676    765    762    761  △0.08%  △0.5%  +12.7%\n",
      "   (단위:원)     18년말     4.16     4.22     4.23    전일비    전주비  18년말비\n",
      "0    원/달러  1,115.7  1,135.7  1,141.5  1,141.8  +0.0%  +0.5%  +2.3%\n",
      "1  원/100엔  1,017.1  1,014.5  1,019.9  1,020.9  +0.1%  +0.6%  +0.4%\n",
      "     (단위:%)   18년말   4.16   4.22   4.23     전일비     전주비   18년말비\n",
      "0     CD91일  1.930  1.860  1.850  1.850   0.0bp  △1.0bp  △8.0bp\n",
      "1      국고3년  1.817  1.765  1.769  1.768  △0.1bp  +0.3bp  △4.9bp\n",
      "2     국고10년  1.948  1.923  1.929  1.923  △0.6bp   0.0bp  △2.5bp\n",
      "3  회사채(AA-)  2.287  2.234  2.241  2.238  △0.3bp  +0.4bp  △4.9bp\n",
      "4   장단기스프레드   13.1   15.8   16.0   15.5  △0.5bp  △0.3bp  +2.4bp\n",
      "5    신용스프레드   47.0   46.9   47.2   47.0  △0.2bp  +0.1bp   0.0bp\n"
     ]
    }
   ],
   "source": [
    "for i in df:\n",
    "    print(i)"
   ]
  },
  {
   "cell_type": "code",
   "execution_count": 98,
   "metadata": {},
   "outputs": [],
   "source": [
    "pdfLoc = \"../../data/inbound/190402_금융시장동향.pdf\"\n",
    "df1 = wrapper.read_pdf(pdfLoc,\n",
    "              multiple_tables=True,\n",
    "              pages=\"all\")"
   ]
  },
  {
   "cell_type": "code",
   "execution_count": 99,
   "metadata": {
    "scrolled": false
   },
   "outputs": [
    {
     "name": "stdout",
     "output_type": "stream",
     "text": [
      "         0      1      2      3      4      5      6      7\n",
      "0  (단위:pt)   18년말   3.26    4.1    4.2    전일비    전주비  18년말비\n",
      "1    KOSPI  2,041  2,149  2,168  2,177  +0.4%  +1.3%  +6.7%\n",
      "2   KOSDAQ    676    737    737    740  +0.4%  +0.4%  +9.5%\n",
      "        0        1        2        3        4      5      6      7\n",
      "0  (단위:원)     18년말     3.26      4.1      4.2    전일비    전주비  18년말비\n",
      "1    원/달러  1,115.7  1,133.4  1,133.7  1,136.4  +0.2%  +0.3%  +1.9%\n",
      "2  원/100엔  1,017.1  1,024.4  1,018.1  1,027.1  +0.9%  +0.3%  +1.0%\n",
      "          0      1      2      3      4       5               6\n",
      "0    (단위:%)   18년말   3.26    4.1    4.2     전일비       전주비 18년말비\n",
      "1     CD91일  1.930  1.900  1.900  1.890  △1.0bp   △1.0bp △4.0bp\n",
      "2      국고3년  1.817  1.763  1.726  1.706  △2.0bp  △5.7bp △11.1bp\n",
      "3     국고10년  1.948  1.905  1.866  1.856  △1.0bp   △4.9bp △9.2bp\n",
      "4  회사채(AA-)  2.287  2.217  2.197  2.178  △1.9bp  △3.9bp △10.9bp\n",
      "5   장단기스프레드   13.1   14.2   14.0   15.0  +1.0bp   +0.8bp +1.9bp\n",
      "6    신용스프레드   47.0   45.4   47.1   47.2  +0.1bp   +1.8bp +0.2bp\n"
     ]
    }
   ],
   "source": [
    "for i in df1:\n",
    "    print(i)"
   ]
  },
  {
   "cell_type": "code",
   "execution_count": 100,
   "metadata": {},
   "outputs": [],
   "source": [
    "dfDataFrame = pd.DataFrame(df1)"
   ]
  },
  {
   "cell_type": "code",
   "execution_count": 101,
   "metadata": {},
   "outputs": [
    {
     "data": {
      "text/html": [
       "<div>\n",
       "<style scoped>\n",
       "    .dataframe tbody tr th:only-of-type {\n",
       "        vertical-align: middle;\n",
       "    }\n",
       "\n",
       "    .dataframe tbody tr th {\n",
       "        vertical-align: top;\n",
       "    }\n",
       "\n",
       "    .dataframe thead th {\n",
       "        text-align: right;\n",
       "    }\n",
       "</style>\n",
       "<table border=\"1\" class=\"dataframe\">\n",
       "  <thead>\n",
       "    <tr style=\"text-align: right;\">\n",
       "      <th></th>\n",
       "      <th>0</th>\n",
       "    </tr>\n",
       "  </thead>\n",
       "  <tbody>\n",
       "    <tr>\n",
       "      <th>0</th>\n",
       "      <td>0      1      2      3      4      5 ...</td>\n",
       "    </tr>\n",
       "    <tr>\n",
       "      <th>1</th>\n",
       "      <td>0        1        2        3        4 ...</td>\n",
       "    </tr>\n",
       "    <tr>\n",
       "      <th>2</th>\n",
       "      <td>0      1      2      3      4       ...</td>\n",
       "    </tr>\n",
       "  </tbody>\n",
       "</table>\n",
       "</div>"
      ],
      "text/plain": [
       "                                                   0\n",
       "0           0      1      2      3      4      5 ...\n",
       "1          0        1        2        3        4 ...\n",
       "2            0      1      2      3      4       ..."
      ]
     },
     "execution_count": 101,
     "metadata": {},
     "output_type": "execute_result"
    }
   ],
   "source": [
    "dfDataFrame"
   ]
  },
  {
   "cell_type": "code",
   "execution_count": 102,
   "metadata": {},
   "outputs": [
    {
     "data": {
      "text/plain": [
       "list"
      ]
     },
     "execution_count": 102,
     "metadata": {},
     "output_type": "execute_result"
    }
   ],
   "source": [
    "type(df1)"
   ]
  },
  {
   "cell_type": "code",
   "execution_count": 103,
   "metadata": {
    "scrolled": true
   },
   "outputs": [],
   "source": [
    "dfDataFrame.to_csv(\"../../data/outbound/190402_금융시장동향.csv\", encoding = \"ms949\")"
   ]
  },
  {
   "cell_type": "code",
   "execution_count": 104,
   "metadata": {},
   "outputs": [
    {
     "data": {
      "text/plain": [
       "pandas.core.frame.DataFrame"
      ]
     },
     "execution_count": 104,
     "metadata": {},
     "output_type": "execute_result"
    }
   ],
   "source": [
    "type(dfDataFrame)"
   ]
  },
  {
   "cell_type": "code",
   "execution_count": 110,
   "metadata": {},
   "outputs": [
    {
     "data": {
      "text/plain": [
       "0             0      1      2      3      4      5 ...\n",
       "1            0        1        2        3        4 ...\n",
       "2              0      1      2      3      4       ...\n",
       "Name: 0, dtype: object"
      ]
     },
     "execution_count": 110,
     "metadata": {},
     "output_type": "execute_result"
    }
   ],
   "source": [
    "dfDataFrame[0]"
   ]
  },
  {
   "cell_type": "code",
   "execution_count": 106,
   "metadata": {},
   "outputs": [],
   "source": [
    "pdfLoc = \"../../data/inbound/190402_금융시장동향.pdf\"\n",
    "df2 = wrapper.read_pdf(pdfLoc,\n",
    "              multiple_tables=True,\n",
    "              pages=\"all\",\n",
    "                       \n",
    "              )"
   ]
  },
  {
   "cell_type": "code",
   "execution_count": 115,
   "metadata": {},
   "outputs": [
    {
     "data": {
      "text/plain": [
       "[         0      1      2      3      4      5      6      7\n",
       " 0  (단위:pt)   18년말   3.26    4.1    4.2    전일비    전주비  18년말비\n",
       " 1    KOSPI  2,041  2,149  2,168  2,177  +0.4%  +1.3%  +6.7%\n",
       " 2   KOSDAQ    676    737    737    740  +0.4%  +0.4%  +9.5%,\n",
       "         0        1        2        3        4      5      6      7\n",
       " 0  (단위:원)     18년말     3.26      4.1      4.2    전일비    전주비  18년말비\n",
       " 1    원/달러  1,115.7  1,133.4  1,133.7  1,136.4  +0.2%  +0.3%  +1.9%\n",
       " 2  원/100엔  1,017.1  1,024.4  1,018.1  1,027.1  +0.9%  +0.3%  +1.0%,\n",
       "           0      1      2      3      4       5               6\n",
       " 0    (단위:%)   18년말   3.26    4.1    4.2     전일비       전주비 18년말비\n",
       " 1     CD91일  1.930  1.900  1.900  1.890  △1.0bp   △1.0bp △4.0bp\n",
       " 2      국고3년  1.817  1.763  1.726  1.706  △2.0bp  △5.7bp △11.1bp\n",
       " 3     국고10년  1.948  1.905  1.866  1.856  △1.0bp   △4.9bp △9.2bp\n",
       " 4  회사채(AA-)  2.287  2.217  2.197  2.178  △1.9bp  △3.9bp △10.9bp\n",
       " 5   장단기스프레드   13.1   14.2   14.0   15.0  +1.0bp   +0.8bp +1.9bp\n",
       " 6    신용스프레드   47.0   45.4   47.1   47.2  +0.1bp   +1.8bp +0.2bp]"
      ]
     },
     "execution_count": 115,
     "metadata": {},
     "output_type": "execute_result"
    }
   ],
   "source": [
    "df2"
   ]
  },
  {
   "cell_type": "code",
   "execution_count": 124,
   "metadata": {
    "scrolled": true
   },
   "outputs": [
    {
     "data": {
      "text/plain": [
       "pandas.core.frame.DataFrame"
      ]
     },
     "execution_count": 124,
     "metadata": {},
     "output_type": "execute_result"
    }
   ],
   "source": [
    "type(df2[0])"
   ]
  },
  {
   "cell_type": "code",
   "execution_count": 128,
   "metadata": {},
   "outputs": [],
   "source": [
    "#각각의 표를 파일로 저장\n",
    "for i in range(0, len(df2)):\n",
    "    fileName = '금융시장동향' + str(i) + '.csv'\n",
    "    df2[i].to_csv(\"../../data/outbound/\" + fileName, index=False, encoding = \"ms949\")"
   ]
  },
  {
   "cell_type": "code",
   "execution_count": 126,
   "metadata": {},
   "outputs": [
    {
     "name": "stdout",
     "output_type": "stream",
     "text": [
      "    KOSDAQ    676    737    737    740  +0.4%  +0.4%  +9.5%\n",
      "0  (단위:pt)   18년말   3.26    4.1    4.2    전일비    전주비  18년말비\n",
      "1    KOSPI  2,041  2,149  2,168  2,177  +0.4%  +1.3%  +6.7%\n",
      "   원/100엔  1,017.1  1,024.4  1,018.1  1,027.1  +0.9%  +0.3%  +1.0%\n",
      "0  (단위:원)     18년말     3.26      4.1      4.2    전일비    전주비  18년말비\n",
      "1    원/달러  1,115.7  1,133.4  1,133.7  1,136.4  +0.2%  +0.3%  +1.9%\n",
      "       국고3년  1.817  1.763  1.726  1.706  △2.0bp  △5.7bp △11.1bp\n",
      "0    (단위:%)   18년말   3.26    4.1    4.2     전일비       전주비 18년말비\n",
      "1     CD91일  1.930  1.900  1.900  1.890  △1.0bp   △1.0bp △4.0bp\n",
      "2     국고10년  1.948  1.905  1.866  1.856  △1.0bp   △4.9bp △9.2bp\n",
      "3  회사채(AA-)  2.287  2.217  2.197  2.178  △1.9bp  △3.9bp △10.9bp\n",
      "4   장단기스프레드   13.1   14.2   14.0   15.0  +1.0bp   +0.8bp +1.9bp\n",
      "5    신용스프레드   47.0   45.4   47.1   47.2  +0.1bp   +1.8bp +0.2bp\n"
     ]
    }
   ],
   "source": [
    "for i in df:\n",
    "    print(i)"
   ]
  },
  {
   "cell_type": "code",
   "execution_count": 105,
   "metadata": {
    "scrolled": true
   },
   "outputs": [
    {
     "ename": "AttributeError",
     "evalue": "'list' object has no attribute 'sum'",
     "output_type": "error",
     "traceback": [
      "\u001b[1;31m---------------------------------------------------------------------------\u001b[0m",
      "\u001b[1;31mAttributeError\u001b[0m                            Traceback (most recent call last)",
      "\u001b[1;32m<ipython-input-105-e9ad28783fb1>\u001b[0m in \u001b[0;36m<module>\u001b[1;34m()\u001b[0m\n\u001b[1;32m----> 1\u001b[1;33m \u001b[0mpd\u001b[0m\u001b[1;33m.\u001b[0m\u001b[0mDataFrame\u001b[0m\u001b[1;33m(\u001b[0m\u001b[0mdf1\u001b[0m\u001b[1;33m.\u001b[0m\u001b[0msum\u001b[0m\u001b[1;33m(\u001b[0m\u001b[0maxis\u001b[0m\u001b[1;33m=\u001b[0m\u001b[1;36m1\u001b[0m\u001b[1;33m)\u001b[0m\u001b[1;33m.\u001b[0m\u001b[0mvalues\u001b[0m\u001b[1;33m.\u001b[0m\u001b[0mtolist\u001b[0m\u001b[1;33m(\u001b[0m\u001b[1;33m)\u001b[0m\u001b[1;33m)\u001b[0m\u001b[1;33m\u001b[0m\u001b[0m\n\u001b[0m",
      "\u001b[1;31mAttributeError\u001b[0m: 'list' object has no attribute 'sum'"
     ]
    }
   ],
   "source": [
    "#pd.DataFrame(df1.sum(axis=1).values.tolist())"
   ]
  },
  {
   "cell_type": "code",
   "execution_count": null,
   "metadata": {},
   "outputs": [],
   "source": []
  }
 ],
 "metadata": {
  "kernelspec": {
   "display_name": "Python 3",
   "language": "python",
   "name": "python3"
  },
  "language_info": {
   "codemirror_mode": {
    "name": "ipython",
    "version": 3
   },
   "file_extension": ".py",
   "mimetype": "text/x-python",
   "name": "python",
   "nbconvert_exporter": "python",
   "pygments_lexer": "ipython3",
   "version": "3.6.4"
  }
 },
 "nbformat": 4,
 "nbformat_minor": 2
}
