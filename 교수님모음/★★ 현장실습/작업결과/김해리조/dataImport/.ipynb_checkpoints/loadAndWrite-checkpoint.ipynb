{
 "cells": [
  {
   "cell_type": "code",
   "execution_count": 1,
   "metadata": {},
   "outputs": [
    {
     "ename": "ModuleNotFoundError",
     "evalue": "No module named 'common'",
     "output_type": "error",
     "traceback": [
      "\u001b[1;31m---------------------------------------------------------------------------\u001b[0m",
      "\u001b[1;31mModuleNotFoundError\u001b[0m                       Traceback (most recent call last)",
      "\u001b[1;32m<ipython-input-1-f3c1b3ec3a44>\u001b[0m in \u001b[0;36m<module>\u001b[1;34m\u001b[0m\n\u001b[0;32m      3\u001b[0m \u001b[1;32mfrom\u001b[0m \u001b[0mbs4\u001b[0m \u001b[1;32mimport\u001b[0m \u001b[0mBeautifulSoup\u001b[0m \u001b[1;31m#Used to read XML table on webpage\u001b[0m\u001b[1;33m\u001b[0m\u001b[1;33m\u001b[0m\u001b[0m\n\u001b[0;32m      4\u001b[0m \u001b[1;32mimport\u001b[0m \u001b[0mpandas\u001b[0m \u001b[1;32mas\u001b[0m \u001b[0mpd\u001b[0m\u001b[1;33m\u001b[0m\u001b[1;33m\u001b[0m\u001b[0m\n\u001b[1;32m----> 5\u001b[1;33m \u001b[1;32mfrom\u001b[0m \u001b[0mcommon\u001b[0m \u001b[1;32mimport\u001b[0m \u001b[0mcFunction\u001b[0m \u001b[1;32mas\u001b[0m \u001b[0mcf\u001b[0m\u001b[1;33m\u001b[0m\u001b[1;33m\u001b[0m\u001b[0m\n\u001b[0m\u001b[0;32m      6\u001b[0m \u001b[1;32mimport\u001b[0m \u001b[0mnumpy\u001b[0m \u001b[1;32mas\u001b[0m \u001b[0mnp\u001b[0m\u001b[1;33m\u001b[0m\u001b[1;33m\u001b[0m\u001b[0m\n\u001b[0;32m      7\u001b[0m \u001b[1;32mimport\u001b[0m \u001b[0mwget\u001b[0m\u001b[1;33m\u001b[0m\u001b[1;33m\u001b[0m\u001b[0m\n",
      "\u001b[1;31mModuleNotFoundError\u001b[0m: No module named 'common'"
     ]
    }
   ],
   "source": [
    "import requests #Used to service API connection\n",
    "from lxml import html #Used to parse XML\n",
    "from bs4 import BeautifulSoup #Used to read XML table on webpage\n",
    "import pandas as pd\n",
    "from common import cFunction as cf\n",
    "import numpy as np\n",
    "import wget\n",
    "import tabula \n",
    "from tabula import wrapper\n",
    "\n",
    "# get dataList from filesystem to load and write\n",
    "#dataList = pd.read_excel(\"../../data/inbound/dataList.xlsx\")\n",
    "\n",
    "# get dataList from spreadsheet to load and write\n",
    "dataList = pd.read_csv(\"https://docs.google.com/spreadsheets/d/1VngqG-m7G8k1587c21MZoheR1Fz3amp1mJtiBvA1Jb0/export?format=csv&gid=0\")\n",
    "print(\"### The total number of target data is \" + str(len(dataList)))\n",
    "\n",
    "# Filtering -> get dataList only defined url\n",
    "dataList = dataList[   dataList['사이트'].notnull() ]\n",
    "print(dataList[[\"사이트\"]])\n",
    "print(\"### The total number of filtered data is \" + str(len(dataList)))\n",
    "\n",
    "###################################################\n",
    "# Filtering -> for your own object\n",
    "#dataList = dataList[   dataList['번호'] == \"352\" ]\n",
    "###################################################\n",
    "\n",
    "# create folder to save result\n",
    "outPath = \"../../data/outbound/\"\n",
    "folderList = dataList[\"폴더명\"].tolist()\n",
    "for i in folderList:\n",
    "    cf.createFolder(outPath+i)\n",
    "\n",
    "dataList = dataList.fillna(\"\")\n",
    "dataList = dataList.reset_index(drop=True)\n",
    "\n",
    "# get dataList to load and write\n",
    "for dataCount in range(0,len(dataList)):\n",
    "\n",
    "    inputUrl = dataList.loc[dataCount, \"사이트\"]\n",
    "    inputKey = dataList.loc[dataCount, \"서비스키\"]\n",
    "    inputParameter = dataList.loc[dataCount, \"파라미터\"]\n",
    "    inputFolder = dataList.loc[dataCount, \"폴더명\"]\n",
    "    inputFile = dataList.loc[dataCount, \"서비스명\"]\n",
    "    inputDataType = dataList.loc[dataCount, \"데이터타입\"]\n",
    "    inputRefUrl = dataList.loc[dataCount, \"참고문서\"]\n",
    "    inputRefType = dataList.loc[dataCount, \"참고문서타입\"]\n",
    "    print(inputUrl)\n",
    "\n",
    "    url = cf.makeURL(inputUrl,inputKey,inputParameter)\n",
    "    print(\"fullUrl is \" + url)\n",
    "\n",
    "    newDF = pd.DataFrame()\n",
    "#     if (inputDataType == \"xml\"):\n",
    "#         newDF = cf.xmlProcess(url)\n",
    "    if(inputDataType == \"json\"):\n",
    "        newDF = cf.jsonProcess(url)\n",
    "    elif(inputDataType == \"csv\"):\n",
    "        newDF = cf.csvProcess(url)\n",
    "    elif(inputDataType == \"pdf\"):\n",
    "        newDF = cf.pdfProcess(url)\n",
    "\n",
    "    fullOutPath = outPath+inputFolder+\"/\"+inputFolder+inputFile+\".csv\"\n",
    "    print(fullOutPath)\n",
    "\n",
    "    try:\n",
    "        newDF.to_csv(fullOutPath, index=False, encoding=\"ms949\")\n",
    "    except Exception as x:\n",
    "        print(x)\n",
    "\n",
    "    fullOutRefPath = outPath + inputFolder + \"/\" + inputFolder + inputFile + \".\"+inputRefType\n",
    "    try:\n",
    "        wget.download(inputRefUrl, fullOutRefPath)\n",
    "    except Exception as e:\n",
    "        print(inputFolder+\"참고문서 Error\")\n",
    "        print(e)\n",
    "        pass"
   ]
  },
  {
   "cell_type": "code",
   "execution_count": 6,
   "metadata": {
    "scrolled": true
   },
   "outputs": [
    {
     "data": {
      "text/plain": [
       "'C:\\\\Users\\\\SMART-04\\\\Python_Fintech\\\\07. 공공데이터 불러오기'"
      ]
     },
     "execution_count": 6,
     "metadata": {},
     "output_type": "execute_result"
    }
   ],
   "source": [
    "pwd"
   ]
  },
  {
   "cell_type": "code",
   "execution_count": 13,
   "metadata": {},
   "outputs": [],
   "source": [
    "import common"
   ]
  },
  {
   "cell_type": "code",
   "execution_count": 14,
   "metadata": {},
   "outputs": [],
   "source": [
    "import sys"
   ]
  },
  {
   "cell_type": "code",
   "execution_count": 15,
   "metadata": {},
   "outputs": [
    {
     "data": {
      "text/plain": [
       "['',\n",
       " 'C:\\\\ProgramData\\\\Anaconda3\\\\python36.zip',\n",
       " 'C:\\\\ProgramData\\\\Anaconda3\\\\DLLs',\n",
       " 'C:\\\\ProgramData\\\\Anaconda3\\\\lib',\n",
       " 'C:\\\\ProgramData\\\\Anaconda3',\n",
       " 'C:\\\\ProgramData\\\\Anaconda3\\\\lib\\\\site-packages',\n",
       " 'C:\\\\ProgramData\\\\Anaconda3\\\\lib\\\\site-packages\\\\win32',\n",
       " 'C:\\\\ProgramData\\\\Anaconda3\\\\lib\\\\site-packages\\\\win32\\\\lib',\n",
       " 'C:\\\\ProgramData\\\\Anaconda3\\\\lib\\\\site-packages\\\\Pythonwin',\n",
       " 'C:\\\\ProgramData\\\\Anaconda3\\\\lib\\\\site-packages\\\\IPython\\\\extensions',\n",
       " 'C:\\\\Users\\\\SMART-04\\\\.ipython']"
      ]
     },
     "execution_count": 15,
     "metadata": {},
     "output_type": "execute_result"
    }
   ],
   "source": [
    "sys.path"
   ]
  },
  {
   "cell_type": "code",
   "execution_count": 17,
   "metadata": {},
   "outputs": [],
   "source": [
    "sys.path.append(\"C:/Users/SMART-04/Desktop/dataImport-master/src/preparation/common\")"
   ]
  },
  {
   "cell_type": "code",
   "execution_count": 18,
   "metadata": {
    "scrolled": false
   },
   "outputs": [
    {
     "data": {
      "text/plain": [
       "['',\n",
       " 'C:\\\\ProgramData\\\\Anaconda3\\\\python36.zip',\n",
       " 'C:\\\\ProgramData\\\\Anaconda3\\\\DLLs',\n",
       " 'C:\\\\ProgramData\\\\Anaconda3\\\\lib',\n",
       " 'C:\\\\ProgramData\\\\Anaconda3',\n",
       " 'C:\\\\ProgramData\\\\Anaconda3\\\\lib\\\\site-packages',\n",
       " 'C:\\\\ProgramData\\\\Anaconda3\\\\lib\\\\site-packages\\\\win32',\n",
       " 'C:\\\\ProgramData\\\\Anaconda3\\\\lib\\\\site-packages\\\\win32\\\\lib',\n",
       " 'C:\\\\ProgramData\\\\Anaconda3\\\\lib\\\\site-packages\\\\Pythonwin',\n",
       " 'C:\\\\ProgramData\\\\Anaconda3\\\\lib\\\\site-packages\\\\IPython\\\\extensions',\n",
       " 'C:\\\\Users\\\\SMART-04\\\\.ipython',\n",
       " 'C:/Users/SMART-04/Desktop/dataImport-master/src/preparation/common']"
      ]
     },
     "execution_count": 18,
     "metadata": {},
     "output_type": "execute_result"
    }
   ],
   "source": [
    "sys.path"
   ]
  },
  {
   "cell_type": "code",
   "execution_count": 30,
   "metadata": {},
   "outputs": [],
   "source": [
    "import cFunction as cf"
   ]
  },
  {
   "cell_type": "markdown",
   "metadata": {},
   "source": [
    "## pdf 형식 API 파일 csv 파일로 저장"
   ]
  },
  {
   "cell_type": "code",
   "execution_count": 146,
   "metadata": {},
   "outputs": [],
   "source": [
    "response = requests.get(url)\n",
    "pdfLoc = \"http://fsc.go.kr/downManager?bbsid=BBS0069&no=137533\"\n",
    "df2 = wrapper.read_pdf(pdfLoc,\n",
    "              multiple_tables=True,\n",
    "              pages=\"all\",\n",
    "              pandas_options={\"header\":0})"
   ]
  },
  {
   "cell_type": "code",
   "execution_count": 147,
   "metadata": {},
   "outputs": [
    {
     "data": {
      "text/plain": [
       "[  (단위:pt)   18년말   4.16   4.22   4.23     전일비    전주비   18년말비\n",
       " 0   KOSPI  2,041  2,249  2,217  2,221  +0.17%  △1.3%   +8.8%\n",
       " 1  KOSDAQ    676    765    762    761  △0.08%  △0.5%  +12.7%,\n",
       "    (단위:원)     18년말     4.16     4.22     4.23    전일비    전주비  18년말비\n",
       " 0    원/달러  1,115.7  1,135.7  1,141.5  1,141.8  +0.0%  +0.5%  +2.3%\n",
       " 1  원/100엔  1,017.1  1,014.5  1,019.9  1,020.9  +0.1%  +0.6%  +0.4%,\n",
       "      (단위:%)   18년말   4.16   4.22   4.23     전일비     전주비   18년말비\n",
       " 0     CD91일  1.930  1.860  1.850  1.850   0.0bp  △1.0bp  △8.0bp\n",
       " 1      국고3년  1.817  1.765  1.769  1.768  △0.1bp  +0.3bp  △4.9bp\n",
       " 2     국고10년  1.948  1.923  1.929  1.923  △0.6bp   0.0bp  △2.5bp\n",
       " 3  회사채(AA-)  2.287  2.234  2.241  2.238  △0.3bp  +0.4bp  △4.9bp\n",
       " 4   장단기스프레드   13.1   15.8   16.0   15.5  △0.5bp  △0.3bp  +2.4bp\n",
       " 5    신용스프레드   47.0   46.9   47.2   47.0  △0.2bp  +0.1bp   0.0bp]"
      ]
     },
     "execution_count": 147,
     "metadata": {},
     "output_type": "execute_result"
    }
   ],
   "source": [
    "df2"
   ]
  },
  {
   "cell_type": "code",
   "execution_count": 142,
   "metadata": {},
   "outputs": [],
   "source": [
    "#각각의 표를 파일로 저장\n",
    "for i in range(0, len(df2)):\n",
    "    fileName = '금융시장동향' + str(i) + '.csv'\n",
    "    df2[i].to_csv(\"../../data/outbound/\" + fileName, index=False, encoding = \"ms949\")"
   ]
  },
  {
   "cell_type": "code",
   "execution_count": 92,
   "metadata": {},
   "outputs": [],
   "source": [
    "import tabula"
   ]
  },
  {
   "cell_type": "code",
   "execution_count": 93,
   "metadata": {},
   "outputs": [],
   "source": [
    "from tabula import wrapper #wrapper 로 하세요 "
   ]
  },
  {
   "cell_type": "code",
   "execution_count": 94,
   "metadata": {},
   "outputs": [],
   "source": [
    "pdfLoc = \"http://fsc.go.kr/downManager?bbsid=BBS0069&no=137533\""
   ]
  },
  {
   "cell_type": "code",
   "execution_count": 95,
   "metadata": {},
   "outputs": [],
   "source": [
    "df = wrapper.read_pdf(pdfLoc,\n",
    "              multiple_tables=True,\n",
    "              pages=\"all\",\n",
    "              pandas_options={\"header\":0})"
   ]
  },
  {
   "cell_type": "code",
   "execution_count": 130,
   "metadata": {},
   "outputs": [],
   "source": [
    "pdfLoc = \"../../data/inbound/190402_금융시장동향.pdf\"\n",
    "df = wrapper.read_pdf(pdfLoc,\n",
    "              multiple_tables=True,\n",
    "              pages=\"all\",\n",
    "              pandas_options={\"header\":0})"
   ]
  },
  {
   "cell_type": "code",
   "execution_count": 143,
   "metadata": {
    "scrolled": true
   },
   "outputs": [
    {
     "name": "stdout",
     "output_type": "stream",
     "text": [
      "  (단위:pt)   18년말   4.16   4.22   4.23     전일비    전주비   18년말비\n",
      "0   KOSPI  2,041  2,249  2,217  2,221  +0.17%  △1.3%   +8.8%\n",
      "1  KOSDAQ    676    765    762    761  △0.08%  △0.5%  +12.7%\n",
      "   (단위:원)     18년말     4.16     4.22     4.23    전일비    전주비  18년말비\n",
      "0    원/달러  1,115.7  1,135.7  1,141.5  1,141.8  +0.0%  +0.5%  +2.3%\n",
      "1  원/100엔  1,017.1  1,014.5  1,019.9  1,020.9  +0.1%  +0.6%  +0.4%\n",
      "     (단위:%)   18년말   4.16   4.22   4.23     전일비     전주비   18년말비\n",
      "0     CD91일  1.930  1.860  1.850  1.850   0.0bp  △1.0bp  △8.0bp\n",
      "1      국고3년  1.817  1.765  1.769  1.768  △0.1bp  +0.3bp  △4.9bp\n",
      "2     국고10년  1.948  1.923  1.929  1.923  △0.6bp   0.0bp  △2.5bp\n",
      "3  회사채(AA-)  2.287  2.234  2.241  2.238  △0.3bp  +0.4bp  △4.9bp\n",
      "4   장단기스프레드   13.1   15.8   16.0   15.5  △0.5bp  △0.3bp  +2.4bp\n",
      "5    신용스프레드   47.0   46.9   47.2   47.0  △0.2bp  +0.1bp   0.0bp\n"
     ]
    }
   ],
   "source": [
    "for i in df:\n",
    "    print(i)"
   ]
  },
  {
   "cell_type": "code",
   "execution_count": 98,
   "metadata": {},
   "outputs": [],
   "source": [
    "pdfLoc = \"../../data/inbound/190402_금융시장동향.pdf\"\n",
    "df1 = wrapper.read_pdf(pdfLoc,\n",
    "              multiple_tables=True,\n",
    "              pages=\"all\")"
   ]
  },
  {
   "cell_type": "code",
   "execution_count": 99,
   "metadata": {
    "scrolled": false
   },
   "outputs": [
    {
     "name": "stdout",
     "output_type": "stream",
     "text": [
      "         0      1      2      3      4      5      6      7\n",
      "0  (단위:pt)   18년말   3.26    4.1    4.2    전일비    전주비  18년말비\n",
      "1    KOSPI  2,041  2,149  2,168  2,177  +0.4%  +1.3%  +6.7%\n",
      "2   KOSDAQ    676    737    737    740  +0.4%  +0.4%  +9.5%\n",
      "        0        1        2        3        4      5      6      7\n",
      "0  (단위:원)     18년말     3.26      4.1      4.2    전일비    전주비  18년말비\n",
      "1    원/달러  1,115.7  1,133.4  1,133.7  1,136.4  +0.2%  +0.3%  +1.9%\n",
      "2  원/100엔  1,017.1  1,024.4  1,018.1  1,027.1  +0.9%  +0.3%  +1.0%\n",
      "          0      1      2      3      4       5               6\n",
      "0    (단위:%)   18년말   3.26    4.1    4.2     전일비       전주비 18년말비\n",
      "1     CD91일  1.930  1.900  1.900  1.890  △1.0bp   △1.0bp △4.0bp\n",
      "2      국고3년  1.817  1.763  1.726  1.706  △2.0bp  △5.7bp △11.1bp\n",
      "3     국고10년  1.948  1.905  1.866  1.856  △1.0bp   △4.9bp △9.2bp\n",
      "4  회사채(AA-)  2.287  2.217  2.197  2.178  △1.9bp  △3.9bp △10.9bp\n",
      "5   장단기스프레드   13.1   14.2   14.0   15.0  +1.0bp   +0.8bp +1.9bp\n",
      "6    신용스프레드   47.0   45.4   47.1   47.2  +0.1bp   +1.8bp +0.2bp\n"
     ]
    }
   ],
   "source": [
    "for i in df1:\n",
    "    print(i)"
   ]
  },
  {
   "cell_type": "code",
   "execution_count": 100,
   "metadata": {},
   "outputs": [],
   "source": [
    "dfDataFrame = pd.DataFrame(df1)"
   ]
  },
  {
   "cell_type": "code",
   "execution_count": 101,
   "metadata": {},
   "outputs": [
    {
     "data": {
      "text/html": [
       "<div>\n",
       "<style scoped>\n",
       "    .dataframe tbody tr th:only-of-type {\n",
       "        vertical-align: middle;\n",
       "    }\n",
       "\n",
       "    .dataframe tbody tr th {\n",
       "        vertical-align: top;\n",
       "    }\n",
       "\n",
       "    .dataframe thead th {\n",
       "        text-align: right;\n",
       "    }\n",
       "</style>\n",
       "<table border=\"1\" class=\"dataframe\">\n",
       "  <thead>\n",
       "    <tr style=\"text-align: right;\">\n",
       "      <th></th>\n",
       "      <th>0</th>\n",
       "    </tr>\n",
       "  </thead>\n",
       "  <tbody>\n",
       "    <tr>\n",
       "      <th>0</th>\n",
       "      <td>0      1      2      3      4      5 ...</td>\n",
       "    </tr>\n",
       "    <tr>\n",
       "      <th>1</th>\n",
       "      <td>0        1        2        3        4 ...</td>\n",
       "    </tr>\n",
       "    <tr>\n",
       "      <th>2</th>\n",
       "      <td>0      1      2      3      4       ...</td>\n",
       "    </tr>\n",
       "  </tbody>\n",
       "</table>\n",
       "</div>"
      ],
      "text/plain": [
       "                                                   0\n",
       "0           0      1      2      3      4      5 ...\n",
       "1          0        1        2        3        4 ...\n",
       "2            0      1      2      3      4       ..."
      ]
     },
     "execution_count": 101,
     "metadata": {},
     "output_type": "execute_result"
    }
   ],
   "source": [
    "dfDataFrame"
   ]
  },
  {
   "cell_type": "code",
   "execution_count": 102,
   "metadata": {},
   "outputs": [
    {
     "data": {
      "text/plain": [
       "list"
      ]
     },
     "execution_count": 102,
     "metadata": {},
     "output_type": "execute_result"
    }
   ],
   "source": [
    "type(df1)"
   ]
  },
  {
   "cell_type": "code",
   "execution_count": 103,
   "metadata": {
    "scrolled": true
   },
   "outputs": [],
   "source": [
    "dfDataFrame.to_csv(\"../../data/outbound/190402_금융시장동향.csv\", encoding = \"ms949\")"
   ]
  },
  {
   "cell_type": "code",
   "execution_count": 104,
   "metadata": {},
   "outputs": [
    {
     "data": {
      "text/plain": [
       "pandas.core.frame.DataFrame"
      ]
     },
     "execution_count": 104,
     "metadata": {},
     "output_type": "execute_result"
    }
   ],
   "source": [
    "type(dfDataFrame)"
   ]
  },
  {
   "cell_type": "code",
   "execution_count": 110,
   "metadata": {},
   "outputs": [
    {
     "data": {
      "text/plain": [
       "0             0      1      2      3      4      5 ...\n",
       "1            0        1        2        3        4 ...\n",
       "2              0      1      2      3      4       ...\n",
       "Name: 0, dtype: object"
      ]
     },
     "execution_count": 110,
     "metadata": {},
     "output_type": "execute_result"
    }
   ],
   "source": [
    "dfDataFrame[0]"
   ]
  },
  {
   "cell_type": "code",
   "execution_count": 106,
   "metadata": {},
   "outputs": [],
   "source": [
    "pdfLoc = \"../../data/inbound/190402_금융시장동향.pdf\"\n",
    "df2 = wrapper.read_pdf(pdfLoc,\n",
    "              multiple_tables=True,\n",
    "              pages=\"all\",\n",
    "                       \n",
    "              )"
   ]
  },
  {
   "cell_type": "code",
   "execution_count": 115,
   "metadata": {},
   "outputs": [
    {
     "data": {
      "text/plain": [
       "[         0      1      2      3      4      5      6      7\n",
       " 0  (단위:pt)   18년말   3.26    4.1    4.2    전일비    전주비  18년말비\n",
       " 1    KOSPI  2,041  2,149  2,168  2,177  +0.4%  +1.3%  +6.7%\n",
       " 2   KOSDAQ    676    737    737    740  +0.4%  +0.4%  +9.5%,\n",
       "         0        1        2        3        4      5      6      7\n",
       " 0  (단위:원)     18년말     3.26      4.1      4.2    전일비    전주비  18년말비\n",
       " 1    원/달러  1,115.7  1,133.4  1,133.7  1,136.4  +0.2%  +0.3%  +1.9%\n",
       " 2  원/100엔  1,017.1  1,024.4  1,018.1  1,027.1  +0.9%  +0.3%  +1.0%,\n",
       "           0      1      2      3      4       5               6\n",
       " 0    (단위:%)   18년말   3.26    4.1    4.2     전일비       전주비 18년말비\n",
       " 1     CD91일  1.930  1.900  1.900  1.890  △1.0bp   △1.0bp △4.0bp\n",
       " 2      국고3년  1.817  1.763  1.726  1.706  △2.0bp  △5.7bp △11.1bp\n",
       " 3     국고10년  1.948  1.905  1.866  1.856  △1.0bp   △4.9bp △9.2bp\n",
       " 4  회사채(AA-)  2.287  2.217  2.197  2.178  △1.9bp  △3.9bp △10.9bp\n",
       " 5   장단기스프레드   13.1   14.2   14.0   15.0  +1.0bp   +0.8bp +1.9bp\n",
       " 6    신용스프레드   47.0   45.4   47.1   47.2  +0.1bp   +1.8bp +0.2bp]"
      ]
     },
     "execution_count": 115,
     "metadata": {},
     "output_type": "execute_result"
    }
   ],
   "source": [
    "df2"
   ]
  },
  {
   "cell_type": "code",
   "execution_count": 124,
   "metadata": {
    "scrolled": true
   },
   "outputs": [
    {
     "data": {
      "text/plain": [
       "pandas.core.frame.DataFrame"
      ]
     },
     "execution_count": 124,
     "metadata": {},
     "output_type": "execute_result"
    }
   ],
   "source": [
    "type(df2[0])"
   ]
  },
  {
   "cell_type": "code",
   "execution_count": 128,
   "metadata": {},
   "outputs": [],
   "source": [
    "#각각의 표를 파일로 저장\n",
    "for i in range(0, len(df2)):\n",
    "    fileName = '금융시장동향' + str(i) + '.csv'\n",
    "    df2[i].to_csv(\"../../data/outbound/\" + fileName, index=False, encoding = \"ms949\")"
   ]
  },
  {
   "cell_type": "code",
   "execution_count": 126,
   "metadata": {},
   "outputs": [
    {
     "name": "stdout",
     "output_type": "stream",
     "text": [
      "    KOSDAQ    676    737    737    740  +0.4%  +0.4%  +9.5%\n",
      "0  (단위:pt)   18년말   3.26    4.1    4.2    전일비    전주비  18년말비\n",
      "1    KOSPI  2,041  2,149  2,168  2,177  +0.4%  +1.3%  +6.7%\n",
      "   원/100엔  1,017.1  1,024.4  1,018.1  1,027.1  +0.9%  +0.3%  +1.0%\n",
      "0  (단위:원)     18년말     3.26      4.1      4.2    전일비    전주비  18년말비\n",
      "1    원/달러  1,115.7  1,133.4  1,133.7  1,136.4  +0.2%  +0.3%  +1.9%\n",
      "       국고3년  1.817  1.763  1.726  1.706  △2.0bp  △5.7bp △11.1bp\n",
      "0    (단위:%)   18년말   3.26    4.1    4.2     전일비       전주비 18년말비\n",
      "1     CD91일  1.930  1.900  1.900  1.890  △1.0bp   △1.0bp △4.0bp\n",
      "2     국고10년  1.948  1.905  1.866  1.856  △1.0bp   △4.9bp △9.2bp\n",
      "3  회사채(AA-)  2.287  2.217  2.197  2.178  △1.9bp  △3.9bp △10.9bp\n",
      "4   장단기스프레드   13.1   14.2   14.0   15.0  +1.0bp   +0.8bp +1.9bp\n",
      "5    신용스프레드   47.0   45.4   47.1   47.2  +0.1bp   +1.8bp +0.2bp\n"
     ]
    }
   ],
   "source": [
    "for i in df:\n",
    "    print(i)"
   ]
  },
  {
   "cell_type": "code",
   "execution_count": 105,
   "metadata": {
    "scrolled": true
   },
   "outputs": [
    {
     "ename": "AttributeError",
     "evalue": "'list' object has no attribute 'sum'",
     "output_type": "error",
     "traceback": [
      "\u001b[1;31m---------------------------------------------------------------------------\u001b[0m",
      "\u001b[1;31mAttributeError\u001b[0m                            Traceback (most recent call last)",
      "\u001b[1;32m<ipython-input-105-e9ad28783fb1>\u001b[0m in \u001b[0;36m<module>\u001b[1;34m()\u001b[0m\n\u001b[1;32m----> 1\u001b[1;33m \u001b[0mpd\u001b[0m\u001b[1;33m.\u001b[0m\u001b[0mDataFrame\u001b[0m\u001b[1;33m(\u001b[0m\u001b[0mdf1\u001b[0m\u001b[1;33m.\u001b[0m\u001b[0msum\u001b[0m\u001b[1;33m(\u001b[0m\u001b[0maxis\u001b[0m\u001b[1;33m=\u001b[0m\u001b[1;36m1\u001b[0m\u001b[1;33m)\u001b[0m\u001b[1;33m.\u001b[0m\u001b[0mvalues\u001b[0m\u001b[1;33m.\u001b[0m\u001b[0mtolist\u001b[0m\u001b[1;33m(\u001b[0m\u001b[1;33m)\u001b[0m\u001b[1;33m)\u001b[0m\u001b[1;33m\u001b[0m\u001b[0m\n\u001b[0m",
      "\u001b[1;31mAttributeError\u001b[0m: 'list' object has no attribute 'sum'"
     ]
    }
   ],
   "source": [
    "#pd.DataFrame(df1.sum(axis=1).values.tolist())"
   ]
  },
  {
   "cell_type": "code",
   "execution_count": null,
   "metadata": {},
   "outputs": [],
   "source": []
  }
 ],
 "metadata": {
  "kernelspec": {
   "display_name": "Python 3",
   "language": "python",
   "name": "python3"
  },
  "language_info": {
   "codemirror_mode": {
    "name": "ipython",
    "version": 3
   },
   "file_extension": ".py",
   "mimetype": "text/x-python",
   "name": "python",
   "nbconvert_exporter": "python",
   "pygments_lexer": "ipython3",
   "version": "3.7.1"
  }
 },
 "nbformat": 4,
 "nbformat_minor": 2
}
