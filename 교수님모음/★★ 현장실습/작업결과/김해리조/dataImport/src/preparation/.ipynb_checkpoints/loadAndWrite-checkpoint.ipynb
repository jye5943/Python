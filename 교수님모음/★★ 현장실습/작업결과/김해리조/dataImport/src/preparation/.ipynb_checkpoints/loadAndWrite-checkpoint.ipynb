{
 "cells": [
  {
   "cell_type": "markdown",
   "metadata": {},
   "source": [
    "## Google 실행"
   ]
  },
  {
   "cell_type": "code",
   "execution_count": 1,
   "metadata": {},
   "outputs": [
    {
     "name": "stdout",
     "output_type": "stream",
     "text": [
      "### The total number of target data is 417\n",
      "                                                   사이트\n",
      "305  https://www.data.go.kr/dataset/fileDownload.do...\n",
      "306  http://openapi.kab.co.kr/OpenAPI_ToolInstallPa...\n",
      "308  http://apis.data.go.kr/1611000/nsdi/BuildingUs...\n",
      "313         https://data.myhome.go.kr/rentalHouseList?\n",
      "318  http://openapi.kab.co.kr/OpenAPI_ToolInstallPa...\n",
      "319  http://openapi.kab.co.kr/OpenAPI_ToolInstallPa...\n",
      "340      http://apis.data.go.kr/1611000/ArchPmsService\n",
      "342  http://fsc.go.kr/downManager?bbsid=BBS0069&no=...\n",
      "345  http://apis.data.go.kr/1611000/ArchPmsService/...\n",
      "349  http://data.insight.go.kr/openapi/service/Pric...\n",
      "352  http://openapi.molit.go.kr/OpenAPI_ToolInstall...\n",
      "354  http://openapi.kab.co.kr/OpenAPI_ToolInstallPa...\n",
      "355  https://www.data.go.kr/dataset/fileDownload.do...\n",
      "359  http://openapi.kab.co.kr/OpenAPI_ToolInstallPa...\n",
      "360  http://api.hf.go.kr:8090/service/rest/HfMbsInt...\n",
      "361  http://api.hf.go.kr:8090/service/rest/HfMbbInt...\n",
      "363  https://www.data.go.kr/dataset/fileDownload.do...\n",
      "376  https://www.data.go.kr/dataset/fileDownload.do...\n",
      "377  http://api.hf.go.kr:8090/service/rest/uloanrat...\n",
      "378  https://www.data.go.kr/dataset/fileDownload.do...\n",
      "379  http://api.hf.go.kr:8090/service/rest/conforml...\n",
      "389  http://openapi.kab.co.kr/OpenAPI_ToolInstallPa...\n",
      "390  https://www.data.go.kr/subMain.jsp#/L3B1YnIvcG...\n",
      "414  http://openapi.kab.co.kr/OpenAPI_ToolInstallPa...\n",
      "### The total number of filtered data is 24\n",
      "http://fsc.go.kr/downManager?bbsid=BBS0069&no=137533\n",
      "fullUrl is http://fsc.go.kr/downManager?bbsid=BBS0069&no=137533\n"
     ]
    },
    {
     "ename": "NameError",
     "evalue": "name 'inputFolder' is not defined",
     "output_type": "error",
     "traceback": [
      "\u001b[1;31m---------------------------------------------------------------------------\u001b[0m",
      "\u001b[1;31mNameError\u001b[0m                                 Traceback (most recent call last)",
      "\u001b[1;32m<ipython-input-1-d8a9f45b3385>\u001b[0m in \u001b[0;36m<module>\u001b[1;34m\u001b[0m\n\u001b[0;32m     57\u001b[0m     \u001b[0mnewDF\u001b[0m \u001b[1;33m=\u001b[0m \u001b[0mcf\u001b[0m\u001b[1;33m.\u001b[0m\u001b[0mcsvProcess\u001b[0m\u001b[1;33m(\u001b[0m\u001b[0murl\u001b[0m\u001b[1;33m)\u001b[0m\u001b[1;33m\u001b[0m\u001b[1;33m\u001b[0m\u001b[0m\n\u001b[0;32m     58\u001b[0m \u001b[1;32melif\u001b[0m\u001b[1;33m(\u001b[0m\u001b[0minputDataType\u001b[0m \u001b[1;33m==\u001b[0m \u001b[1;34m\"pdf\"\u001b[0m\u001b[1;33m)\u001b[0m\u001b[1;33m:\u001b[0m\u001b[1;33m\u001b[0m\u001b[1;33m\u001b[0m\u001b[0m\n\u001b[1;32m---> 59\u001b[1;33m     \u001b[0mnewDF\u001b[0m \u001b[1;33m=\u001b[0m \u001b[0mcf\u001b[0m\u001b[1;33m.\u001b[0m\u001b[0mpdfProcess\u001b[0m\u001b[1;33m(\u001b[0m\u001b[0murl\u001b[0m\u001b[1;33m)\u001b[0m\u001b[1;33m\u001b[0m\u001b[1;33m\u001b[0m\u001b[0m\n\u001b[0m\u001b[0;32m     60\u001b[0m \u001b[1;33m\u001b[0m\u001b[0m\n\u001b[0;32m     61\u001b[0m \u001b[0mfullOutPath\u001b[0m \u001b[1;33m=\u001b[0m \u001b[0moutPath\u001b[0m\u001b[1;33m+\u001b[0m\u001b[0minputFolder\u001b[0m\u001b[1;33m+\u001b[0m\u001b[1;34m\"/\"\u001b[0m\u001b[1;33m+\u001b[0m\u001b[0minputFolder\u001b[0m\u001b[1;33m+\u001b[0m\u001b[0minputFile\u001b[0m\u001b[1;33m+\u001b[0m\u001b[1;34m\".csv\"\u001b[0m\u001b[1;33m\u001b[0m\u001b[1;33m\u001b[0m\u001b[0m\n",
      "\u001b[1;32m~\\Python_Fintech\\현장실습\\dataImport\\src\\preparation\\common\\cFunction.py\u001b[0m in \u001b[0;36mpdfProcess\u001b[1;34m(url)\u001b[0m\n\u001b[0;32m     78\u001b[0m     \u001b[1;31m#각각의 표를 파일로 저장\u001b[0m\u001b[1;33m\u001b[0m\u001b[1;33m\u001b[0m\u001b[1;33m\u001b[0m\u001b[0m\n\u001b[0;32m     79\u001b[0m     \u001b[1;32mfor\u001b[0m \u001b[0mi\u001b[0m \u001b[1;32min\u001b[0m \u001b[0mrange\u001b[0m\u001b[1;33m(\u001b[0m\u001b[1;36m0\u001b[0m\u001b[1;33m,\u001b[0m \u001b[0mlen\u001b[0m\u001b[1;33m(\u001b[0m\u001b[0mdf2\u001b[0m\u001b[1;33m)\u001b[0m\u001b[1;33m)\u001b[0m\u001b[1;33m:\u001b[0m\u001b[1;33m\u001b[0m\u001b[1;33m\u001b[0m\u001b[0m\n\u001b[1;32m---> 80\u001b[1;33m         \u001b[0mfileName\u001b[0m \u001b[1;33m=\u001b[0m \u001b[0minputFolder\u001b[0m \u001b[1;33m+\u001b[0m \u001b[0mstr\u001b[0m\u001b[1;33m(\u001b[0m\u001b[0mi\u001b[0m\u001b[1;33m)\u001b[0m \u001b[1;33m+\u001b[0m \u001b[1;34m'.csv'\u001b[0m\u001b[1;33m\u001b[0m\u001b[1;33m\u001b[0m\u001b[0m\n\u001b[0m\u001b[0;32m     81\u001b[0m         \u001b[0mdf2\u001b[0m\u001b[1;33m[\u001b[0m\u001b[0mi\u001b[0m\u001b[1;33m]\u001b[0m\u001b[1;33m.\u001b[0m\u001b[0mto_csv\u001b[0m\u001b[1;33m(\u001b[0m\u001b[1;34m\"../../data/outbound/\"\u001b[0m \u001b[1;33m+\u001b[0m \u001b[0minputFolder\u001b[0m \u001b[1;33m+\u001b[0m \u001b[1;34m\"/\"\u001b[0m \u001b[1;33m+\u001b[0m \u001b[0mfileName\u001b[0m\u001b[1;33m,\u001b[0m \u001b[0mindex\u001b[0m\u001b[1;33m=\u001b[0m\u001b[1;32mFalse\u001b[0m\u001b[1;33m,\u001b[0m \u001b[0mencoding\u001b[0m \u001b[1;33m=\u001b[0m \u001b[1;34m\"ms949\"\u001b[0m\u001b[1;33m)\u001b[0m\u001b[1;33m\u001b[0m\u001b[1;33m\u001b[0m\u001b[0m\n\u001b[0;32m     82\u001b[0m \u001b[1;33m\u001b[0m\u001b[0m\n",
      "\u001b[1;31mNameError\u001b[0m: name 'inputFolder' is not defined"
     ]
    }
   ],
   "source": [
    "import requests #Used to service API connection\n",
    "from lxml import html #Used to parse XML\n",
    "from bs4 import BeautifulSoup #Used to read XML table on webpage\n",
    "import pandas as pd\n",
    "from common import cFunction as cf\n",
    "import numpy as np\n",
    "import wget\n",
    "import tabula \n",
    "from tabula import wrapper\n",
    "\n",
    "# get dataList from filesystem to load and write\n",
    "#dataList = pd.read_excel(\"../../data/inbound/dataList.xlsx\")\n",
    "\n",
    "# get dataList from spreadsheet to load and write\n",
    "dataList = pd.read_csv(\"https://docs.google.com/spreadsheets/d/1VngqG-m7G8k1587c21MZoheR1Fz3amp1mJtiBvA1Jb0/export?format=csv&gid=0\")\n",
    "print(\"### The total number of target data is \" + str(len(dataList)))\n",
    "\n",
    "# Filtering -> get dataList only defined url\n",
    "dataList = dataList[   dataList['사이트'].notnull() ]\n",
    "print(dataList[[\"사이트\"]])\n",
    "print(\"### The total number of filtered data is \" + str(len(dataList)))\n",
    "\n",
    "###################################################\n",
    "# Filtering -> for your own object\n",
    "dataList = dataList[   dataList['폴더명'] == \"342_금융시장동향\" ]\n",
    "###################################################\n",
    "\n",
    "# create folder to save result\n",
    "outPath = \"../../data/outbound/\"\n",
    "folderList = dataList[\"폴더명\"].tolist()\n",
    "for i in folderList:\n",
    "    cf.createFolder(outPath+i)\n",
    "\n",
    "dataList = dataList.fillna(\"\")\n",
    "dataList = dataList.reset_index(drop=True)\n",
    "\n",
    "for dataCount in range(0,len(dataList)):\n",
    "    inputUrl = dataList.loc[dataCount, \"사이트\"]\n",
    "    inputKey = dataList.loc[dataCount, \"서비스키\"]\n",
    "    inputParameter = dataList.loc[dataCount, \"파라미터\"]\n",
    "    inputFolder = dataList.loc[dataCount, \"폴더명\"]\n",
    "    inputFile = dataList.loc[dataCount, \"서비스명\"]\n",
    "    inputDataType = dataList.loc[dataCount, \"데이터타입\"]\n",
    "    inputRefUrl = dataList.loc[dataCount, \"참고문서\"]\n",
    "    inputRefType = dataList.loc[dataCount, \"참고문서타입\"]\n",
    "    print(inputUrl)\n",
    "\n",
    "url = cf.makeURL(inputUrl,inputKey,inputParameter)\n",
    "print(\"fullUrl is \" + url)\n",
    "\n",
    "newDF = pd.DataFrame()\n",
    "#     if (inputDataType == \"xml\"):\n",
    "#         newDF = cf.xmlProcess(url)\n",
    "if(inputDataType == \"json\"):\n",
    "    newDF = cf.jsonProcess(url)\n",
    "elif(inputDataType == \"csv\"):\n",
    "    newDF = cf.csvProcess(url)\n",
    "elif(inputDataType == \"pdf\"):\n",
    "    newDF = cf.pdfProcess(inputFolder, url)\n",
    "\n",
    "fullOutPath = outPath+inputFolder+\"/\"+inputFolder+inputFile+\".csv\"\n",
    "print(fullOutPath)\n",
    "\n",
    "try:\n",
    "    newDF.to_csv(fullOutPath, index=False, encoding=\"ms949\")\n",
    "except Exception as x:\n",
    "    print(x)\n",
    "\n",
    "fullOutRefPath = outPath + inputFolder + \"/\" + inputFolder + inputFile + \".\"+inputRefType\n",
    "try:\n",
    "    wget.download(inputRefUrl, fullOutRefPath)\n",
    "except Exception as e:\n",
    "    print(inputFolder+\"참고문서 Error\")\n",
    "    print(e)\n",
    "    pass"
   ]
  },
  {
   "cell_type": "code",
   "execution_count": 15,
   "metadata": {},
   "outputs": [
    {
     "data": {
      "text/plain": [
       "'../../data/outbound/342_금융시장동향/342_금융시장동향.csv'"
      ]
     },
     "execution_count": 15,
     "metadata": {},
     "output_type": "execute_result"
    }
   ],
   "source": [
    "fullOutPath"
   ]
  },
  {
   "cell_type": "code",
   "execution_count": null,
   "metadata": {},
   "outputs": [],
   "source": [
    "# get dataList to load and write\n",
    "for dataCount in range(0,len(dataList)):\n",
    "\n",
    "    inputUrl = dataList.loc[dataCount, \"사이트\"]\n",
    "    inputKey = dataList.loc[dataCount, \"서비스키\"]\n",
    "    inputParameter = dataList.loc[dataCount, \"파라미터\"]\n",
    "    inputFolder = dataList.loc[dataCount, \"폴더명\"]\n",
    "    inputFile = dataList.loc[dataCount, \"서비스명\"]\n",
    "    inputDataType = dataList.loc[dataCount, \"데이터타입\"]\n",
    "    inputRefUrl = dataList.loc[dataCount, \"참고문서\"]\n",
    "    inputRefType = dataList.loc[dataCount, \"참고문서타입\"]\n",
    "    print(inputUrl)\n",
    "\n",
    "    url = cf.makeURL(inputUrl,inputKey,inputParameter)\n",
    "    print(\"fullUrl is \" + url)\n",
    "\n",
    "    newDF = pd.DataFrame()\n",
    "#     if (inputDataType == \"xml\"):\n",
    "#         newDF = cf.xmlProcess(url)\n",
    "    if(inputDataType == \"json\"):\n",
    "        newDF = cf.jsonProcess(url)\n",
    "    elif(inputDataType == \"csv\"):\n",
    "        newDF = cf.csvProcess(url)\n",
    "    elif(inputDataType == \"pdf\"):\n",
    "        newDF = cf.pdfProcess(url)\n",
    "\n",
    "    fullOutPath = outPath+inputFolder+\"/\"+inputFolder+inputFile+\".csv\"\n",
    "    print(fullOutPath)\n",
    "\n",
    "    try:\n",
    "        newDF.to_csv(fullOutPath, index=False, encoding=\"ms949\")\n",
    "    except Exception as x:\n",
    "        print(x)\n",
    "\n",
    "    fullOutRefPath = outPath + inputFolder + \"/\" + inputFolder + inputFile + \".\"+inputRefType\n",
    "    try:\n",
    "        wget.download(inputRefUrl, fullOutRefPath)\n",
    "    except Exception as e:\n",
    "        print(inputFolder+\"참고문서 Error\")\n",
    "        print(e)\n",
    "        pass"
   ]
  },
  {
   "cell_type": "code",
   "execution_count": 25,
   "metadata": {},
   "outputs": [],
   "source": [
    "  df2 = wrapper.read_pdf(url,\n",
    "              multiple_tables=True,\n",
    "              pages=\"all\",\n",
    "              pandas_options={\"header\":0})"
   ]
  },
  {
   "cell_type": "code",
   "execution_count": 26,
   "metadata": {},
   "outputs": [
    {
     "data": {
      "text/plain": [
       "[  (단위:pt)   18년말   4.16   4.22   4.23     전일비    전주비   18년말비\n",
       " 0   KOSPI  2,041  2,249  2,217  2,221  +0.17%  △1.3%   +8.8%\n",
       " 1  KOSDAQ    676    765    762    761  △0.08%  △0.5%  +12.7%,\n",
       "    (단위:원)     18년말     4.16     4.22     4.23    전일비    전주비  18년말비\n",
       " 0    원/달러  1,115.7  1,135.7  1,141.5  1,141.8  +0.0%  +0.5%  +2.3%\n",
       " 1  원/100엔  1,017.1  1,014.5  1,019.9  1,020.9  +0.1%  +0.6%  +0.4%,\n",
       "      (단위:%)   18년말   4.16   4.22   4.23     전일비     전주비   18년말비\n",
       " 0     CD91일  1.930  1.860  1.850  1.850   0.0bp  △1.0bp  △8.0bp\n",
       " 1      국고3년  1.817  1.765  1.769  1.768  △0.1bp  +0.3bp  △4.9bp\n",
       " 2     국고10년  1.948  1.923  1.929  1.923  △0.6bp   0.0bp  △2.5bp\n",
       " 3  회사채(AA-)  2.287  2.234  2.241  2.238  △0.3bp  +0.4bp  △4.9bp\n",
       " 4   장단기스프레드   13.1   15.8   16.0   15.5  △0.5bp  △0.3bp  +2.4bp\n",
       " 5    신용스프레드   47.0   46.9   47.2   47.0  △0.2bp  +0.1bp   0.0bp]"
      ]
     },
     "execution_count": 26,
     "metadata": {},
     "output_type": "execute_result"
    }
   ],
   "source": [
    "df2"
   ]
  },
  {
   "cell_type": "code",
   "execution_count": 27,
   "metadata": {},
   "outputs": [],
   "source": [
    "    #각각의 표를 파일로 저장\n",
    "    for i in range(0, len(df2)):\n",
    "        fileName = inputFolder + str(i) + '.csv'\n",
    "        df2[i].to_csv(\"../../data/outbound/\" + inputFolder + \"/\" + fileName, index=False, encoding = \"ms949\")"
   ]
  },
  {
   "cell_type": "code",
   "execution_count": null,
   "metadata": {},
   "outputs": [],
   "source": [
    "# get dataList to load and write\n",
    "for dataCount in range(0,len(dataList)):\n",
    "\n",
    "    inputUrl = dataList.loc[dataCount, \"사이트\"]\n",
    "    inputKey = dataList.loc[dataCount, \"서비스키\"]\n",
    "    inputParameter = dataList.loc[dataCount, \"파라미터\"]\n",
    "    inputFolder = dataList.loc[dataCount, \"폴더명\"]\n",
    "    inputFile = dataList.loc[dataCount, \"서비스명\"]\n",
    "    inputDataType = dataList.loc[dataCount, \"데이터타입\"]\n",
    "    inputRefUrl = dataList.loc[dataCount, \"참고문서\"]\n",
    "    inputRefType = dataList.loc[dataCount, \"참고문서타입\"]\n",
    "    print(inputUrl)\n",
    "\n",
    "    url = cf.makeURL(inputUrl,inputKey,inputParameter)\n",
    "    print(\"fullUrl is \" + url)\n",
    "\n",
    "    newDF = pd.DataFrame()\n",
    "#     if (inputDataType == \"xml\"):\n",
    "#         newDF = cf.xmlProcess(url)\n",
    "    if(inputDataType == \"json\"):\n",
    "        newDF = cf.jsonProcess(url)\n",
    "    elif(inputDataType == \"csv\"):\n",
    "        newDF = cf.csvProcess(url)\n",
    "    elif(inputDataType == \"pdf\"):\n",
    "        newDF = cf.pdfProcess(url)\n",
    "\n",
    "    fullOutPath = outPath+inputFolder+\"/\"+inputFolder+inputFile+\".csv\"\n",
    "    print(fullOutPath)\n",
    "\n",
    "    try:\n",
    "        newDF.to_csv(fullOutPath, index=False, encoding=\"ms949\")\n",
    "    except Exception as x:\n",
    "        print(x)\n",
    "\n",
    "    fullOutRefPath = outPath + inputFolder + \"/\" + inputFolder + inputFile + \".\"+inputRefType\n",
    "    try:\n",
    "        wget.download(inputRefUrl, fullOutRefPath)\n",
    "    except Exception as e:\n",
    "        print(inputFolder+\"참고문서 Error\")\n",
    "        print(e)\n",
    "        pass"
   ]
  },
  {
   "cell_type": "code",
   "execution_count": null,
   "metadata": {
    "scrolled": false
   },
   "outputs": [],
   "source": [
    "import requests #Used to service API connection\n",
    "from lxml import html #Used to parse XML\n",
    "from bs4 import BeautifulSoup #Used to read XML table on webpage\n",
    "import pandas as pd\n",
    "from common import cFunction as cf\n",
    "import numpy as np\n",
    "import wget\n",
    "import tabula \n",
    "from tabula import wrapper\n",
    "\n",
    "# get dataList from filesystem to load and write\n",
    "#dataList = pd.read_excel(\"../../data/inbound/dataList.xlsx\")\n",
    "\n",
    "# get dataList from spreadsheet to load and write\n",
    "dataList = pd.read_csv(\"https://docs.google.com/spreadsheets/d/1VngqG-m7G8k1587c21MZoheR1Fz3amp1mJtiBvA1Jb0/export?format=csv&gid=0\")\n",
    "print(\"### The total number of target data is \" + str(len(dataList)))\n",
    "\n",
    "# Filtering -> get dataList only defined url\n",
    "dataList = dataList[   dataList['사이트'].notnull() ]\n",
    "print(dataList[[\"사이트\"]])\n",
    "print(\"### The total number of filtered data is \" + str(len(dataList)))\n",
    "\n",
    "###################################################\n",
    "# Filtering -> for your own object\n",
    "#dataList = dataList[   dataList['번호'] == \"352\" ]\n",
    "###################################################\n",
    "\n",
    "# create folder to save result\n",
    "outPath = \"../../data/outbound/\"\n",
    "folderList = dataList[\"폴더명\"].tolist()\n",
    "for i in folderList:\n",
    "    cf.createFolder(outPath+i)\n",
    "\n",
    "dataList = dataList.fillna(\"\")\n",
    "dataList = dataList.reset_index(drop=True)\n",
    "\n",
    "# get dataList to load and write\n",
    "for dataCount in range(0,len(dataList)):\n",
    "\n",
    "    inputUrl = dataList.loc[dataCount, \"사이트\"]\n",
    "    inputKey = dataList.loc[dataCount, \"서비스키\"]\n",
    "    inputParameter = dataList.loc[dataCount, \"파라미터\"]\n",
    "    inputFolder = dataList.loc[dataCount, \"폴더명\"]\n",
    "    inputFile = dataList.loc[dataCount, \"서비스명\"]\n",
    "    inputDataType = dataList.loc[dataCount, \"데이터타입\"]\n",
    "    inputRefUrl = dataList.loc[dataCount, \"참고문서\"]\n",
    "    inputRefType = dataList.loc[dataCount, \"참고문서타입\"]\n",
    "    print(inputUrl)\n",
    "\n",
    "    url = cf.makeURL(inputUrl,inputKey,inputParameter)\n",
    "    print(\"fullUrl is \" + url)\n",
    "\n",
    "    newDF = pd.DataFrame()\n",
    "#     if (inputDataType == \"xml\"):\n",
    "#         newDF = cf.xmlProcess(url)\n",
    "    if(inputDataType == \"json\"):\n",
    "        newDF = cf.jsonProcess(url)\n",
    "    elif(inputDataType == \"csv\"):\n",
    "        newDF = cf.csvProcess(url)\n",
    "    elif(inputDataType == \"pdf\"):\n",
    "        newDF = cf.pdfProcess(url)\n",
    "\n",
    "    fullOutPath = outPath+inputFolder+\"/\"+inputFolder+inputFile+\".csv\"\n",
    "    print(fullOutPath)\n",
    "\n",
    "    try:\n",
    "        newDF.to_csv(fullOutPath, index=False, encoding=\"ms949\")\n",
    "    except Exception as x:\n",
    "        print(x)\n",
    "\n",
    "    fullOutRefPath = outPath + inputFolder + \"/\" + inputFolder + inputFile + \".\"+inputRefType\n",
    "    try:\n",
    "        wget.download(inputRefUrl, fullOutRefPath)\n",
    "    except Exception as e:\n",
    "        print(inputFolder+\"참고문서 Error\")\n",
    "        print(e)\n",
    "        pass"
   ]
  },
  {
   "cell_type": "code",
   "execution_count": null,
   "metadata": {
    "scrolled": true
   },
   "outputs": [],
   "source": [
    "pwd"
   ]
  },
  {
   "cell_type": "code",
   "execution_count": null,
   "metadata": {},
   "outputs": [],
   "source": [
    "import common"
   ]
  },
  {
   "cell_type": "code",
   "execution_count": null,
   "metadata": {},
   "outputs": [],
   "source": [
    "import sys"
   ]
  },
  {
   "cell_type": "code",
   "execution_count": null,
   "metadata": {},
   "outputs": [],
   "source": [
    "sys.path"
   ]
  },
  {
   "cell_type": "code",
   "execution_count": null,
   "metadata": {},
   "outputs": [],
   "source": [
    "sys.path.append(\"C:/Users/SMART-04/Desktop/dataImport-master/src/preparation/common\")"
   ]
  },
  {
   "cell_type": "code",
   "execution_count": null,
   "metadata": {
    "scrolled": false
   },
   "outputs": [],
   "source": [
    "sys.path"
   ]
  },
  {
   "cell_type": "code",
   "execution_count": null,
   "metadata": {},
   "outputs": [],
   "source": [
    "import cFunction as cf"
   ]
  },
  {
   "cell_type": "markdown",
   "metadata": {},
   "source": [
    "## pdf 형식 API 파일 csv 파일로 저장"
   ]
  },
  {
   "cell_type": "code",
   "execution_count": null,
   "metadata": {},
   "outputs": [],
   "source": [
    "response = requests.get(url)\n",
    "pdfLoc = \"http://fsc.go.kr/downManager?bbsid=BBS0069&no=137533\"\n",
    "df2 = wrapper.read_pdf(pdfLoc,\n",
    "              multiple_tables=True,\n",
    "              pages=\"all\",\n",
    "              pandas_options={\"header\":0})"
   ]
  },
  {
   "cell_type": "code",
   "execution_count": null,
   "metadata": {},
   "outputs": [],
   "source": [
    "df2"
   ]
  },
  {
   "cell_type": "code",
   "execution_count": null,
   "metadata": {},
   "outputs": [],
   "source": [
    "#각각의 표를 파일로 저장\n",
    "for i in range(0, len(df2)):\n",
    "    fileName = '금융시장동향' + str(i) + '.csv'\n",
    "    df2[i].to_csv(\"../../data/outbound/\" + fileName, index=False, encoding = \"ms949\")"
   ]
  },
  {
   "cell_type": "code",
   "execution_count": null,
   "metadata": {},
   "outputs": [],
   "source": [
    "import tabula"
   ]
  },
  {
   "cell_type": "code",
   "execution_count": null,
   "metadata": {},
   "outputs": [],
   "source": [
    "from tabula import wrapper #wrapper 로 하세요 "
   ]
  },
  {
   "cell_type": "code",
   "execution_count": null,
   "metadata": {},
   "outputs": [],
   "source": [
    "pdfLoc = \"http://fsc.go.kr/downManager?bbsid=BBS0069&no=137533\""
   ]
  },
  {
   "cell_type": "code",
   "execution_count": null,
   "metadata": {},
   "outputs": [],
   "source": [
    "df = wrapper.read_pdf(pdfLoc,\n",
    "              multiple_tables=True,\n",
    "              pages=\"all\",\n",
    "              pandas_options={\"header\":0})"
   ]
  },
  {
   "cell_type": "code",
   "execution_count": null,
   "metadata": {},
   "outputs": [],
   "source": [
    "pdfLoc = \"../../data/inbound/190402_금융시장동향.pdf\"\n",
    "df = wrapper.read_pdf(pdfLoc,\n",
    "              multiple_tables=True,\n",
    "              pages=\"all\",\n",
    "              pandas_options={\"header\":0})"
   ]
  },
  {
   "cell_type": "code",
   "execution_count": null,
   "metadata": {
    "scrolled": true
   },
   "outputs": [],
   "source": [
    "for i in df:\n",
    "    print(i)"
   ]
  },
  {
   "cell_type": "code",
   "execution_count": null,
   "metadata": {},
   "outputs": [],
   "source": [
    "pdfLoc = \"../../data/inbound/190402_금융시장동향.pdf\"\n",
    "df1 = wrapper.read_pdf(pdfLoc,\n",
    "              multiple_tables=True,\n",
    "              pages=\"all\")"
   ]
  },
  {
   "cell_type": "code",
   "execution_count": null,
   "metadata": {
    "scrolled": false
   },
   "outputs": [],
   "source": [
    "for i in df1:\n",
    "    print(i)"
   ]
  },
  {
   "cell_type": "code",
   "execution_count": null,
   "metadata": {},
   "outputs": [],
   "source": [
    "dfDataFrame = pd.DataFrame(df1)"
   ]
  },
  {
   "cell_type": "code",
   "execution_count": null,
   "metadata": {},
   "outputs": [],
   "source": [
    "dfDataFrame"
   ]
  },
  {
   "cell_type": "code",
   "execution_count": null,
   "metadata": {},
   "outputs": [],
   "source": [
    "type(df1)"
   ]
  },
  {
   "cell_type": "code",
   "execution_count": null,
   "metadata": {
    "scrolled": true
   },
   "outputs": [],
   "source": [
    "dfDataFrame.to_csv(\"../../data/outbound/190402_금융시장동향.csv\", encoding = \"ms949\")"
   ]
  },
  {
   "cell_type": "code",
   "execution_count": null,
   "metadata": {},
   "outputs": [],
   "source": [
    "type(dfDataFrame)"
   ]
  },
  {
   "cell_type": "code",
   "execution_count": null,
   "metadata": {},
   "outputs": [],
   "source": [
    "dfDataFrame[0]"
   ]
  },
  {
   "cell_type": "code",
   "execution_count": null,
   "metadata": {},
   "outputs": [],
   "source": [
    "pdfLoc = \"../../data/inbound/190402_금융시장동향.pdf\"\n",
    "df2 = wrapper.read_pdf(pdfLoc,\n",
    "              multiple_tables=True,\n",
    "              pages=\"all\",\n",
    "                       \n",
    "              )"
   ]
  },
  {
   "cell_type": "code",
   "execution_count": null,
   "metadata": {},
   "outputs": [],
   "source": [
    "df2"
   ]
  },
  {
   "cell_type": "code",
   "execution_count": null,
   "metadata": {
    "scrolled": true
   },
   "outputs": [],
   "source": [
    "type(df2[0])"
   ]
  },
  {
   "cell_type": "code",
   "execution_count": null,
   "metadata": {},
   "outputs": [],
   "source": [
    "#각각의 표를 파일로 저장\n",
    "for i in range(0, len(df2)):\n",
    "    fileName = '금융시장동향' + str(i) + '.csv'\n",
    "    df2[i].to_csv(\"../../data/outbound/\" + fileName, index=False, encoding = \"ms949\")"
   ]
  },
  {
   "cell_type": "code",
   "execution_count": null,
   "metadata": {},
   "outputs": [],
   "source": [
    "for i in df:\n",
    "    print(i)"
   ]
  },
  {
   "cell_type": "code",
   "execution_count": null,
   "metadata": {
    "scrolled": true
   },
   "outputs": [],
   "source": [
    "#pd.DataFrame(df1.sum(axis=1).values.tolist())"
   ]
  },
  {
   "cell_type": "markdown",
   "metadata": {},
   "source": [
    "### 웹크롤링"
   ]
  },
  {
   "cell_type": "code",
   "execution_count": 4,
   "metadata": {},
   "outputs": [],
   "source": [
    "import requests, bs4, pandas as pd, numpy as np\n",
    " \n",
    "#웹페이지 html 소스 가져오기\n",
    "resp = requests.get(\"http://fsc.go.kr/info/trd_list.jsp?menu=7230000&bbsid=BBS0069\")\n",
    "resp.encoding='utf-8'\n",
    "html = resp.text\n",
    "\n",
    "bs = bs4.BeautifulSoup(html, 'html.parser')"
   ]
  },
  {
   "cell_type": "code",
   "execution_count": 2,
   "metadata": {},
   "outputs": [
    {
     "data": {
      "text/plain": [
       "[<tbody>\n",
       " <tr>\n",
       " <td scope=\"row\">3634</td>\n",
       " <td><a href=\"/info/trd_view.jsp?bbsid=BBS0069&amp;page=1&amp;sch1=&amp;sch2=&amp;sch3=&amp;sword=&amp;r_url=&amp;menu=7230000&amp;no=36110\" title=\"새창열기\">금융시장동향(19.4.23)</a></td>\n",
       " <td>2019-04-24</td>\n",
       " <td>26</td>\n",
       " <td><a href=\"/downManager?bbsid=BBS0069&amp;no=137532\" target=\"invisible\" title=\"새창열기\"><img alt=\"아래아한글 문서\" src=\"/images/common/ico_file_hangul.gif\"/> </a><a href=\"/downManager?bbsid=BBS0069&amp;no=137533\" target=\"invisible\" title=\"새창열기\"><img alt=\"PDF 문서\" src=\"/images/common/ico_file_pdf.gif\"/> </a></td>\n",
       " </tr>\n",
       " <tr>\n",
       " <td scope=\"row\">3633</td>\n",
       " <td><a href=\"/info/trd_view.jsp?bbsid=BBS0069&amp;page=1&amp;sch1=&amp;sch2=&amp;sch3=&amp;sword=&amp;r_url=&amp;menu=7230000&amp;no=36100\" title=\"새창열기\">금융시장동향(19.4.22)</a></td>\n",
       " <td>2019-04-22</td>\n",
       " <td>57</td>\n",
       " <td><a href=\"/downManager?bbsid=BBS0069&amp;no=137468\" target=\"invisible\" title=\"새창열기\"><img alt=\"아래아한글 문서\" src=\"/images/common/ico_file_hangul.gif\"/> </a><a href=\"/downManager?bbsid=BBS0069&amp;no=137469\" target=\"invisible\" title=\"새창열기\"><img alt=\"PDF 문서\" src=\"/images/common/ico_file_pdf.gif\"/> </a></td>\n",
       " </tr>\n",
       " <tr>\n",
       " <td scope=\"row\">3632</td>\n",
       " <td><a href=\"/info/trd_view.jsp?bbsid=BBS0069&amp;page=1&amp;sch1=&amp;sch2=&amp;sch3=&amp;sword=&amp;r_url=&amp;menu=7230000&amp;no=36097\" title=\"새창열기\">금융시장동향(19.4.19)</a></td>\n",
       " <td>2019-04-19</td>\n",
       " <td>46</td>\n",
       " <td><a href=\"/downManager?bbsid=BBS0069&amp;no=137438\" target=\"invisible\" title=\"새창열기\"><img alt=\"아래아한글 문서\" src=\"/images/common/ico_file_hangul.gif\"/> </a><a href=\"/downManager?bbsid=BBS0069&amp;no=137439\" target=\"invisible\" title=\"새창열기\"><img alt=\"PDF 문서\" src=\"/images/common/ico_file_pdf.gif\"/> </a></td>\n",
       " </tr>\n",
       " <tr>\n",
       " <td scope=\"row\">3631</td>\n",
       " <td><a href=\"/info/trd_view.jsp?bbsid=BBS0069&amp;page=1&amp;sch1=&amp;sch2=&amp;sch3=&amp;sword=&amp;r_url=&amp;menu=7230000&amp;no=36090\" title=\"새창열기\">금융시장동향(19.4.18)</a></td>\n",
       " <td>2019-04-18</td>\n",
       " <td>54</td>\n",
       " <td><a href=\"/downManager?bbsid=BBS0069&amp;no=137402\" target=\"invisible\" title=\"새창열기\"><img alt=\"아래아한글 문서\" src=\"/images/common/ico_file_hangul.gif\"/> </a><a href=\"/downManager?bbsid=BBS0069&amp;no=137403\" target=\"invisible\" title=\"새창열기\"><img alt=\"PDF 문서\" src=\"/images/common/ico_file_pdf.gif\"/> </a></td>\n",
       " </tr>\n",
       " <tr>\n",
       " <td scope=\"row\">3630</td>\n",
       " <td><a href=\"/info/trd_view.jsp?bbsid=BBS0069&amp;page=1&amp;sch1=&amp;sch2=&amp;sch3=&amp;sword=&amp;r_url=&amp;menu=7230000&amp;no=36075\" title=\"새창열기\">금융시장동향(19.4.17)</a></td>\n",
       " <td>2019-04-17</td>\n",
       " <td>1785</td>\n",
       " <td><a href=\"/downManager?bbsid=BBS0069&amp;no=137260\" target=\"invisible\" title=\"새창열기\"><img alt=\"아래아한글 문서\" src=\"/images/common/ico_file_hangul.gif\"/> </a><a href=\"/downManager?bbsid=BBS0069&amp;no=137261\" target=\"invisible\" title=\"새창열기\"><img alt=\"PDF 문서\" src=\"/images/common/ico_file_pdf.gif\"/> </a></td>\n",
       " </tr>\n",
       " <tr>\n",
       " <td scope=\"row\">3629</td>\n",
       " <td><a href=\"/info/trd_view.jsp?bbsid=BBS0069&amp;page=1&amp;sch1=&amp;sch2=&amp;sch3=&amp;sword=&amp;r_url=&amp;menu=7230000&amp;no=36067\" title=\"새창열기\">금융시장동향(19.4.16)</a></td>\n",
       " <td>2019-04-16</td>\n",
       " <td>2794</td>\n",
       " <td><a href=\"/downManager?bbsid=BBS0069&amp;no=137124\" target=\"invisible\" title=\"새창열기\"><img alt=\"아래아한글 문서\" src=\"/images/common/ico_file_hangul.gif\"/> </a><a href=\"/downManager?bbsid=BBS0069&amp;no=137125\" target=\"invisible\" title=\"새창열기\"><img alt=\"PDF 문서\" src=\"/images/common/ico_file_pdf.gif\"/> </a></td>\n",
       " </tr>\n",
       " <tr>\n",
       " <td scope=\"row\">3628</td>\n",
       " <td><a href=\"/info/trd_view.jsp?bbsid=BBS0069&amp;page=1&amp;sch1=&amp;sch2=&amp;sch3=&amp;sword=&amp;r_url=&amp;menu=7230000&amp;no=36066\" title=\"새창열기\">금융시장동향(19.4.15)</a></td>\n",
       " <td>2019-04-15</td>\n",
       " <td>2537</td>\n",
       " <td><a href=\"/downManager?bbsid=BBS0069&amp;no=137122\" target=\"invisible\" title=\"새창열기\"><img alt=\"아래아한글 문서\" src=\"/images/common/ico_file_hangul.gif\"/> </a><a href=\"/downManager?bbsid=BBS0069&amp;no=137123\" target=\"invisible\" title=\"새창열기\"><img alt=\"PDF 문서\" src=\"/images/common/ico_file_pdf.gif\"/> </a></td>\n",
       " </tr>\n",
       " <tr>\n",
       " <td scope=\"row\">3627</td>\n",
       " <td><a href=\"/info/trd_view.jsp?bbsid=BBS0069&amp;page=1&amp;sch1=&amp;sch2=&amp;sch3=&amp;sword=&amp;r_url=&amp;menu=7230000&amp;no=36061\" title=\"새창열기\">금융시장동향(19.4.12)</a></td>\n",
       " <td>2019-04-12</td>\n",
       " <td>5325</td>\n",
       " <td><a href=\"/downManager?bbsid=BBS0069&amp;no=136991\" target=\"invisible\" title=\"새창열기\"><img alt=\"아래아한글 문서\" src=\"/images/common/ico_file_hangul.gif\"/> </a><a href=\"/downManager?bbsid=BBS0069&amp;no=136992\" target=\"invisible\" title=\"새창열기\"><img alt=\"PDF 문서\" src=\"/images/common/ico_file_pdf.gif\"/> </a></td>\n",
       " </tr>\n",
       " <tr>\n",
       " <td scope=\"row\">3626</td>\n",
       " <td><a href=\"/info/trd_view.jsp?bbsid=BBS0069&amp;page=1&amp;sch1=&amp;sch2=&amp;sch3=&amp;sword=&amp;r_url=&amp;menu=7230000&amp;no=36055\" title=\"새창열기\">금융시장동향(19.4.11)</a></td>\n",
       " <td>2019-04-11</td>\n",
       " <td>2390</td>\n",
       " <td><a href=\"/downManager?bbsid=BBS0069&amp;no=136894\" target=\"invisible\" title=\"새창열기\"><img alt=\"아래아한글 문서\" src=\"/images/common/ico_file_hangul.gif\"/> </a><a href=\"/downManager?bbsid=BBS0069&amp;no=136895\" target=\"invisible\" title=\"새창열기\"><img alt=\"PDF 문서\" src=\"/images/common/ico_file_pdf.gif\"/> </a></td>\n",
       " </tr>\n",
       " <tr>\n",
       " <td scope=\"row\">3625</td>\n",
       " <td><a href=\"/info/trd_view.jsp?bbsid=BBS0069&amp;page=1&amp;sch1=&amp;sch2=&amp;sch3=&amp;sword=&amp;r_url=&amp;menu=7230000&amp;no=36052\" title=\"새창열기\">금융시장동향(19.4.10)</a></td>\n",
       " <td>2019-04-10</td>\n",
       " <td>2606</td>\n",
       " <td><a href=\"/downManager?bbsid=BBS0069&amp;no=136852\" target=\"invisible\" title=\"새창열기\"><img alt=\"아래아한글 문서\" src=\"/images/common/ico_file_hangul.gif\"/> </a><a href=\"/downManager?bbsid=BBS0069&amp;no=136853\" target=\"invisible\" title=\"새창열기\"><img alt=\"PDF 문서\" src=\"/images/common/ico_file_pdf.gif\"/> </a></td>\n",
       " </tr>\n",
       " <tr>\n",
       " <td scope=\"row\">3624</td>\n",
       " <td><a href=\"/info/trd_view.jsp?bbsid=BBS0069&amp;page=1&amp;sch1=&amp;sch2=&amp;sch3=&amp;sword=&amp;r_url=&amp;menu=7230000&amp;no=36042\" title=\"새창열기\">금융시장동향(19.4.9)</a></td>\n",
       " <td>2019-04-09</td>\n",
       " <td>2410</td>\n",
       " <td><a href=\"/downManager?bbsid=BBS0069&amp;no=136781\" target=\"invisible\" title=\"새창열기\"><img alt=\"아래아한글 문서\" src=\"/images/common/ico_file_hangul.gif\"/> </a><a href=\"/downManager?bbsid=BBS0069&amp;no=136782\" target=\"invisible\" title=\"새창열기\"><img alt=\"PDF 문서\" src=\"/images/common/ico_file_pdf.gif\"/> </a></td>\n",
       " </tr>\n",
       " <tr>\n",
       " <td scope=\"row\">3623</td>\n",
       " <td><a href=\"/info/trd_view.jsp?bbsid=BBS0069&amp;page=1&amp;sch1=&amp;sch2=&amp;sch3=&amp;sword=&amp;r_url=&amp;menu=7230000&amp;no=36035\" title=\"새창열기\">금융시장동향(19.4.8)</a></td>\n",
       " <td>2019-04-08</td>\n",
       " <td>2477</td>\n",
       " <td><a href=\"/downManager?bbsid=BBS0069&amp;no=136725\" target=\"invisible\" title=\"새창열기\"><img alt=\"아래아한글 문서\" src=\"/images/common/ico_file_hangul.gif\"/> </a><a href=\"/downManager?bbsid=BBS0069&amp;no=136726\" target=\"invisible\" title=\"새창열기\"><img alt=\"PDF 문서\" src=\"/images/common/ico_file_pdf.gif\"/> </a></td>\n",
       " </tr>\n",
       " <tr>\n",
       " <td scope=\"row\">3622</td>\n",
       " <td><a href=\"/info/trd_view.jsp?bbsid=BBS0069&amp;page=1&amp;sch1=&amp;sch2=&amp;sch3=&amp;sword=&amp;r_url=&amp;menu=7230000&amp;no=36029\" title=\"새창열기\">금융시장동향(19.4.5)</a></td>\n",
       " <td>2019-04-05</td>\n",
       " <td>6715</td>\n",
       " <td><a href=\"/downManager?bbsid=BBS0069&amp;no=136667\" target=\"invisible\" title=\"새창열기\"><img alt=\"아래아한글 문서\" src=\"/images/common/ico_file_hangul.gif\"/> </a><a href=\"/downManager?bbsid=BBS0069&amp;no=136668\" target=\"invisible\" title=\"새창열기\"><img alt=\"PDF 문서\" src=\"/images/common/ico_file_pdf.gif\"/> </a></td>\n",
       " </tr>\n",
       " <tr>\n",
       " <td scope=\"row\">3621</td>\n",
       " <td><a href=\"/info/trd_view.jsp?bbsid=BBS0069&amp;page=1&amp;sch1=&amp;sch2=&amp;sch3=&amp;sword=&amp;r_url=&amp;menu=7230000&amp;no=36023\" title=\"새창열기\">금융시장동향(19.4.4)</a></td>\n",
       " <td>2019-04-04</td>\n",
       " <td>2626</td>\n",
       " <td><a href=\"/downManager?bbsid=BBS0069&amp;no=136645\" target=\"invisible\" title=\"새창열기\"><img alt=\"아래아한글 문서\" src=\"/images/common/ico_file_hangul.gif\"/> </a><a href=\"/downManager?bbsid=BBS0069&amp;no=136646\" target=\"invisible\" title=\"새창열기\"><img alt=\"PDF 문서\" src=\"/images/common/ico_file_pdf.gif\"/> </a></td>\n",
       " </tr>\n",
       " <tr>\n",
       " <td scope=\"row\">3620</td>\n",
       " <td><a href=\"/info/trd_view.jsp?bbsid=BBS0069&amp;page=1&amp;sch1=&amp;sch2=&amp;sch3=&amp;sword=&amp;r_url=&amp;menu=7230000&amp;no=36014\" title=\"새창열기\">금융시장동향(19.4.3)</a></td>\n",
       " <td>2019-04-03</td>\n",
       " <td>2645</td>\n",
       " <td><a href=\"/downManager?bbsid=BBS0069&amp;no=136586\" target=\"invisible\" title=\"새창열기\"><img alt=\"아래아한글 문서\" src=\"/images/common/ico_file_hangul.gif\"/> </a><a href=\"/downManager?bbsid=BBS0069&amp;no=136587\" target=\"invisible\" title=\"새창열기\"><img alt=\"PDF 문서\" src=\"/images/common/ico_file_pdf.gif\"/> </a></td>\n",
       " </tr>\n",
       " </tbody>]"
      ]
     },
     "execution_count": 2,
     "metadata": {},
     "output_type": "execute_result"
    }
   ],
   "source": [
    "# 데이터 추출하기\n",
    "price = bs.select(\"#contents > div.board > table > tbody\")\n",
    "price"
   ]
  },
  {
   "cell_type": "code",
   "execution_count": 3,
   "metadata": {},
   "outputs": [
    {
     "ename": "NameError",
     "evalue": "name 'url' is not defined",
     "output_type": "error",
     "traceback": [
      "\u001b[1;31m---------------------------------------------------------------------------\u001b[0m",
      "\u001b[1;31mNameError\u001b[0m                                 Traceback (most recent call last)",
      "\u001b[1;32m<ipython-input-3-6dd2302e79e0>\u001b[0m in \u001b[0;36m<module>\u001b[1;34m\u001b[0m\n\u001b[0;32m     10\u001b[0m \u001b[0mbaseUrl\u001b[0m \u001b[1;33m=\u001b[0m \u001b[1;34m\"http://fsc.go.kr/info/trd_list.jsp?menu=7230000&bbsid=BBS0069\"\u001b[0m\u001b[1;33m\u001b[0m\u001b[1;33m\u001b[0m\u001b[0m\n\u001b[0;32m     11\u001b[0m \u001b[1;33m\u001b[0m\u001b[0m\n\u001b[1;32m---> 12\u001b[1;33m \u001b[0mresponse\u001b[0m \u001b[1;33m=\u001b[0m \u001b[0mrequests\u001b[0m\u001b[1;33m.\u001b[0m\u001b[0mget\u001b[0m\u001b[1;33m(\u001b[0m\u001b[0murl\u001b[0m\u001b[1;33m)\u001b[0m\u001b[1;33m\u001b[0m\u001b[1;33m\u001b[0m\u001b[0m\n\u001b[0m\u001b[0;32m     13\u001b[0m \u001b[0mresponse\u001b[0m\u001b[1;33m\u001b[0m\u001b[1;33m\u001b[0m\u001b[0m\n\u001b[0;32m     14\u001b[0m \u001b[1;33m\u001b[0m\u001b[0m\n",
      "\u001b[1;31mNameError\u001b[0m: name 'url' is not defined"
     ]
    }
   ],
   "source": [
    "# 라이브러리 선언\n",
    "import requests #Used to service API connection\n",
    "from lxml import html #Used to parse XML\n",
    "from bs4 import BeautifulSoup #Used to read XML table on webpage\n",
    "import pandas as pd\n",
    "\n",
    "# 시험데이터\n",
    "# 아파트 매매 실거래가 상세자료\n",
    "\n",
    "baseUrl = \"http://fsc.go.kr/info/trd_list.jsp?menu=7230000&bbsid=BBS0069\"\n",
    "\n",
    "response = requests.get(url)\n",
    "response\n",
    "\n",
    "Data = BeautifulSoup(response.text, 'html-parser')"
   ]
  }
 ],
 "metadata": {
  "kernelspec": {
   "display_name": "Python 3",
   "language": "python",
   "name": "python3"
  },
  "language_info": {
   "codemirror_mode": {
    "name": "ipython",
    "version": 3
   },
   "file_extension": ".py",
   "mimetype": "text/x-python",
   "name": "python",
   "nbconvert_exporter": "python",
   "pygments_lexer": "ipython3",
   "version": "3.7.1"
  }
 },
 "nbformat": 4,
 "nbformat_minor": 2
}
