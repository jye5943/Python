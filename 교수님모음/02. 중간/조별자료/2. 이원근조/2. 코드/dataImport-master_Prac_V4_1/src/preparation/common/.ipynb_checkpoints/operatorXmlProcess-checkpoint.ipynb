{
 "cells": [
  {
   "cell_type": "code",
   "execution_count": 1,
   "metadata": {},
   "outputs": [],
   "source": [
    "import os\n",
    "import requests #Used to service API connection\n",
    "from lxml import html #Used to parse XML\n",
    "from bs4 import BeautifulSoup #Used to read XML table on webpage\n",
    "import pandas as pd\n",
    "from pandas.io.json import json_normalize\n",
    "import numpy as np\n",
    "import wget"
   ]
  },
  {
   "cell_type": "code",
   "execution_count": 52,
   "metadata": {},
   "outputs": [],
   "source": [
    "def operatorXmlProcess(url, parameter, bParameter):\n",
    "    parameterLine = parameter.split('&')\n",
    "    lastUrl = url\n",
    "    for i in  range(0, len(parameterLine)):\n",
    "        temp =  parameterLine[i].split('=')[0]\n",
    "        lastUrl += '&' + temp +'=' + bParameter[i]  \n",
    "    print(lastUrl)\n",
    "    response = requests.get(lastUrl)\n",
    "    # Check if page is up\n",
    "    if response.status_code == 200:\n",
    "        # Convert webpage to %Data\n",
    "        Data = BeautifulSoup(response.text, 'lxml-xml')\n",
    "        result = []\n",
    "        rows = 0\n",
    "        columnName = []\n",
    "        # search Item all item tag\n",
    "        iterData = Data.find_all('item')\n",
    "        for item in iterData:\n",
    "            item_list = []\n",
    "            # Fill the value in one row\n",
    "            for tag in item.find_all():\n",
    "                try:\n",
    "                    tagname = tag.name\n",
    "                    if rows == 0:\n",
    "                        columnName.append(tagname)\n",
    "                    item_list.append(item.find(tagname).text)\n",
    "                except Exception as e:\n",
    "                    print(\"This row will be ignored. \", item_list)\n",
    "            rows = rows + 1\n",
    "            result.append(item_list)\n",
    "    finalResult = pd.DataFrame(result)\n",
    "    finalResult.columns = columnName\n",
    "    print(finalResult)\n",
    "    return finalResult"
   ]
  },
  {
   "cell_type": "code",
   "execution_count": 24,
   "metadata": {},
   "outputs": [],
   "source": [
    "url = 'http://openapi.kab.co.kr/OpenAPI_ToolInstallPackage/service/rest/AptTradingStateSvc/getAptTrdStateCaseOfNbr?serviceKey=Z5J2q693N6mpcWIY9wSZqKgJXsAcan78Wc8dorriZfblBHoCZSqawyAVOgvykleO26uY39699xPbDd4ENw6s1w%3D%3D'"
   ]
  },
  {
   "cell_type": "code",
   "execution_count": 28,
   "metadata": {},
   "outputs": [
    {
     "data": {
      "text/plain": [
       "['startmonth=201402', 'endmonth=201407', 'region=48000']"
      ]
     },
     "execution_count": 28,
     "metadata": {},
     "output_type": "execute_result"
    }
   ],
   "source": [
    "parameter = 'startmonth=201402&endmonth=201407&region=48000'\n",
    "parameterList = parameter.split('&')\n",
    "parameterList"
   ]
  },
  {
   "cell_type": "code",
   "execution_count": 29,
   "metadata": {},
   "outputs": [
    {
     "data": {
      "text/plain": [
       "'startmonth=201402'"
      ]
     },
     "execution_count": 29,
     "metadata": {},
     "output_type": "execute_result"
    }
   ],
   "source": [
    "parameterList[0]"
   ]
  },
  {
   "cell_type": "code",
   "execution_count": 61,
   "metadata": {},
   "outputs": [],
   "source": [
    "parameterList2 = parameterList[0].split('=')"
   ]
  },
  {
   "cell_type": "code",
   "execution_count": 60,
   "metadata": {},
   "outputs": [
    {
     "data": {
      "text/plain": [
       "['startmonth', '201402']"
      ]
     },
     "execution_count": 60,
     "metadata": {},
     "output_type": "execute_result"
    }
   ],
   "source": [
    "parameterList2"
   ]
  },
  {
   "cell_type": "code",
   "execution_count": 58,
   "metadata": {},
   "outputs": [
    {
     "data": {
      "text/plain": [
       "'startmonth=201402'"
      ]
     },
     "execution_count": 58,
     "metadata": {},
     "output_type": "execute_result"
    }
   ],
   "source": [
    "lastPramater = parameterList2[0] + '=' + bParameter[0]\n",
    "lastPramater"
   ]
  },
  {
   "cell_type": "code",
   "execution_count": 59,
   "metadata": {},
   "outputs": [],
   "source": [
    "bParameter = ['201402','201407','11000']"
   ]
  },
  {
   "cell_type": "code",
   "execution_count": 63,
   "metadata": {},
   "outputs": [
    {
     "name": "stdout",
     "output_type": "stream",
     "text": [
      "http://openapi.kab.co.kr/OpenAPI_ToolInstallPackage/service/rest/AptTradingStateSvc/getAptTrdStateCaseOfNbr?serviceKey=Z5J2q693N6mpcWIY9wSZqKgJXsAcan78Wc8dorriZfblBHoCZSqawyAVOgvykleO26uY39699xPbDd4ENw6s1w%3D%3D&startmonth=201402&endmonth=201407&region=11000\n",
      "  regionCd regionNm                                              rsRow\n",
      "0    11000       서울  201402,10089|201403,12053|201404,10641|201405,...\n"
     ]
    },
    {
     "data": {
      "text/html": [
       "<div>\n",
       "<style scoped>\n",
       "    .dataframe tbody tr th:only-of-type {\n",
       "        vertical-align: middle;\n",
       "    }\n",
       "\n",
       "    .dataframe tbody tr th {\n",
       "        vertical-align: top;\n",
       "    }\n",
       "\n",
       "    .dataframe thead th {\n",
       "        text-align: right;\n",
       "    }\n",
       "</style>\n",
       "<table border=\"1\" class=\"dataframe\">\n",
       "  <thead>\n",
       "    <tr style=\"text-align: right;\">\n",
       "      <th></th>\n",
       "      <th>regionCd</th>\n",
       "      <th>regionNm</th>\n",
       "      <th>rsRow</th>\n",
       "    </tr>\n",
       "  </thead>\n",
       "  <tbody>\n",
       "    <tr>\n",
       "      <th>0</th>\n",
       "      <td>11000</td>\n",
       "      <td>서울</td>\n",
       "      <td>201402,10089|201403,12053|201404,10641|201405,...</td>\n",
       "    </tr>\n",
       "  </tbody>\n",
       "</table>\n",
       "</div>"
      ],
      "text/plain": [
       "  regionCd regionNm                                              rsRow\n",
       "0    11000       서울  201402,10089|201403,12053|201404,10641|201405,..."
      ]
     },
     "execution_count": 63,
     "metadata": {},
     "output_type": "execute_result"
    }
   ],
   "source": [
    "loadData = operatorXmlProcess(url, parameter, bParameter)\n",
    "loadData"
   ]
  }
 ],
 "metadata": {
  "kernelspec": {
   "display_name": "Python 3",
   "language": "python",
   "name": "python3"
  },
  "language_info": {
   "codemirror_mode": {
    "name": "ipython",
    "version": 3
   },
   "file_extension": ".py",
   "mimetype": "text/x-python",
   "name": "python",
   "nbconvert_exporter": "python",
   "pygments_lexer": "ipython3",
   "version": "3.7.1"
  }
 },
 "nbformat": 4,
 "nbformat_minor": 2
}
