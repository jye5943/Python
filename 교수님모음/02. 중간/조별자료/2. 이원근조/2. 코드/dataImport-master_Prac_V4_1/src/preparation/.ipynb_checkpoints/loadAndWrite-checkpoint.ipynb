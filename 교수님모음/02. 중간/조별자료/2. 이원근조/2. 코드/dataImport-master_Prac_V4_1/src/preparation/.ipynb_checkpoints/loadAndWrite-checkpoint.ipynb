{
 "cells": [
  {
   "cell_type": "code",
   "execution_count": 1,
   "metadata": {},
   "outputs": [],
   "source": [
    "import requests #Used to service API connection\n",
    "from lxml import html #Used to parse XML\n",
    "from bs4 import BeautifulSoup #Used to read XML table on webpage\n",
    "import pandas as pd\n",
    "#from pandas import DataFrame\n",
    "import numpy as np\n",
    "import wget\n",
    "from common import cFunction as cf\n",
    "\n",
    "\n",
    "# get dataList from filesystem to load and write\n",
    "#dataList = pd.read_excel(\"../../data/inbound/dataList.xlsx\")"
   ]
  },
  {
   "cell_type": "code",
   "execution_count": 2,
   "metadata": {},
   "outputs": [
    {
     "name": "stdout",
     "output_type": "stream",
     "text": [
      "### The total number of target data is 417\n"
     ]
    }
   ],
   "source": [
    "# get dataList from spreadsheet to load and write\n",
    "dataList = pd.read_csv(\"../../data/inbound/workSheet.csv\")\n",
    "print(\"### The total number of target data is \" + str(len(dataList)))"
   ]
  },
  {
   "cell_type": "code",
   "execution_count": 3,
   "metadata": {},
   "outputs": [
    {
     "name": "stdout",
     "output_type": "stream",
     "text": [
      "    순번  지역     코드\n",
      "0    1  서울  11000\n",
      "1    2  부산  26000\n",
      "2    3  대구  27000\n",
      "3    4  인천  28000\n",
      "4    5  광주  29000\n",
      "5    6  대전  30000\n",
      "6    7  울산  31000\n",
      "7    8  경기  41000\n",
      "8    9  강원  42000\n",
      "9   10  축북  43000\n",
      "10  11  충남  44000\n",
      "11  12  전북  45000\n",
      "12  13  전남  46000\n",
      "13  14  경북  47000\n",
      "14  15  경남  48000\n",
      "15  16  제주  50000\n"
     ]
    }
   ],
   "source": [
    "regionCdData = pd.read_csv(\"../../data/infomations/RegionCode.csv\")\n",
    "print(regionCdData)"
   ]
  },
  {
   "cell_type": "code",
   "execution_count": 4,
   "metadata": {},
   "outputs": [
    {
     "name": "stdout",
     "output_type": "stream",
     "text": [
      "### The total number of filtered data is 1\n"
     ]
    },
    {
     "data": {
      "text/html": [
       "<div>\n",
       "<style scoped>\n",
       "    .dataframe tbody tr th:only-of-type {\n",
       "        vertical-align: middle;\n",
       "    }\n",
       "\n",
       "    .dataframe tbody tr th {\n",
       "        vertical-align: top;\n",
       "    }\n",
       "\n",
       "    .dataframe thead th {\n",
       "        text-align: right;\n",
       "    }\n",
       "</style>\n",
       "<table border=\"1\" class=\"dataframe\">\n",
       "  <thead>\n",
       "    <tr style=\"text-align: right;\">\n",
       "      <th></th>\n",
       "      <th>번호</th>\n",
       "      <th>접속 사이트</th>\n",
       "      <th>제공항목(데이터셋)</th>\n",
       "      <th>폴더명</th>\n",
       "      <th>작업자</th>\n",
       "      <th>시작일</th>\n",
       "      <th>종료일</th>\n",
       "      <th>검토자</th>\n",
       "      <th>진행상태</th>\n",
       "      <th>비고</th>\n",
       "      <th>...</th>\n",
       "      <th>파라미터</th>\n",
       "      <th>제공방식.1</th>\n",
       "      <th>데이터타입</th>\n",
       "      <th>참고문서</th>\n",
       "      <th>참고문서타입</th>\n",
       "      <th>주기</th>\n",
       "      <th>비고_파라미터설명</th>\n",
       "      <th>완료여부</th>\n",
       "      <th>API PGM ID</th>\n",
       "      <th>파일명</th>\n",
       "    </tr>\n",
       "  </thead>\n",
       "  <tbody>\n",
       "    <tr>\n",
       "      <th>354</th>\n",
       "      <td>355</td>\n",
       "      <td>공공데이터포털</td>\n",
       "      <td>한국감정원 주택거래 현황</td>\n",
       "      <td>354_한국감정원 주택거래 현황</td>\n",
       "      <td>NaN</td>\n",
       "      <td>NaN</td>\n",
       "      <td>NaN</td>\n",
       "      <td>NaN</td>\n",
       "      <td>NaN</td>\n",
       "      <td>NaN</td>\n",
       "      <td>...</td>\n",
       "      <td>startmonth=200601&amp;endmonth=201903&amp;region=11000</td>\n",
       "      <td>api</td>\n",
       "      <td>xml</td>\n",
       "      <td>https://www.data.go.kr/comm/file/download.do?a...</td>\n",
       "      <td>NaN</td>\n",
       "      <td>NaN</td>\n",
       "      <td>200607&amp;200607&amp;48000</td>\n",
       "      <td>완료</td>\n",
       "      <td>TB_OD10354.py</td>\n",
       "      <td>TB_OD10354_yyyymm.csv</td>\n",
       "    </tr>\n",
       "  </tbody>\n",
       "</table>\n",
       "<p>1 rows × 31 columns</p>\n",
       "</div>"
      ],
      "text/plain": [
       "      번호   접속 사이트     제공항목(데이터셋)                폴더명  작업자  시작일  종료일  검토자 진행상태  \\\n",
       "354  355  공공데이터포털  한국감정원 주택거래 현황  354_한국감정원 주택거래 현황  NaN  NaN  NaN  NaN  NaN   \n",
       "\n",
       "      비고          ...            \\\n",
       "354  NaN          ...             \n",
       "\n",
       "                                               파라미터 제공방식.1 데이터타입  \\\n",
       "354  startmonth=200601&endmonth=201903&region=11000    api   xml   \n",
       "\n",
       "                                                  참고문서 참고문서타입  주기  \\\n",
       "354  https://www.data.go.kr/comm/file/download.do?a...    NaN NaN   \n",
       "\n",
       "               비고_파라미터설명 완료여부     API PGM ID                    파일명  \n",
       "354  200607&200607&48000   완료  TB_OD10354.py  TB_OD10354_yyyymm.csv  \n",
       "\n",
       "[1 rows x 31 columns]"
      ]
     },
     "execution_count": 4,
     "metadata": {},
     "output_type": "execute_result"
    }
   ],
   "source": [
    "# Filtering -> get dataList only defined url\n",
    "dataList = dataList[(dataList[\"제공항목(데이터셋)\"] == '한국감정원 주택거래 현황') & (dataList[\"제공방식\"] == 'OPENAPI')]\n",
    "print(\"### The total number of filtered data is \" + str(len(dataList)))\n",
    "dataList"
   ]
  },
  {
   "cell_type": "code",
   "execution_count": 5,
   "metadata": {},
   "outputs": [],
   "source": [
    "###################################################\n",
    "# Filtering -> for your own object\n",
    "#dataList = dataList[   dataList['번호'] == \"352\" ]\n",
    "###################################################\n",
    "\n",
    "# create folder to save result\n",
    "outPath = \"../../data/outbound/\"\n",
    "folderList = dataList[\"폴더명\"].tolist()"
   ]
  },
  {
   "cell_type": "code",
   "execution_count": 6,
   "metadata": {},
   "outputs": [],
   "source": [
    "for i in folderList:\n",
    "    cf.createFolder(outPath+i)"
   ]
  },
  {
   "cell_type": "code",
   "execution_count": 7,
   "metadata": {},
   "outputs": [
    {
     "data": {
      "text/html": [
       "<div>\n",
       "<style scoped>\n",
       "    .dataframe tbody tr th:only-of-type {\n",
       "        vertical-align: middle;\n",
       "    }\n",
       "\n",
       "    .dataframe tbody tr th {\n",
       "        vertical-align: top;\n",
       "    }\n",
       "\n",
       "    .dataframe thead th {\n",
       "        text-align: right;\n",
       "    }\n",
       "</style>\n",
       "<table border=\"1\" class=\"dataframe\">\n",
       "  <thead>\n",
       "    <tr style=\"text-align: right;\">\n",
       "      <th></th>\n",
       "      <th>번호</th>\n",
       "      <th>접속 사이트</th>\n",
       "      <th>제공항목(데이터셋)</th>\n",
       "      <th>폴더명</th>\n",
       "      <th>작업자</th>\n",
       "      <th>시작일</th>\n",
       "      <th>종료일</th>\n",
       "      <th>검토자</th>\n",
       "      <th>진행상태</th>\n",
       "      <th>비고</th>\n",
       "      <th>...</th>\n",
       "      <th>파라미터</th>\n",
       "      <th>제공방식.1</th>\n",
       "      <th>데이터타입</th>\n",
       "      <th>참고문서</th>\n",
       "      <th>참고문서타입</th>\n",
       "      <th>주기</th>\n",
       "      <th>비고_파라미터설명</th>\n",
       "      <th>완료여부</th>\n",
       "      <th>API PGM ID</th>\n",
       "      <th>파일명</th>\n",
       "    </tr>\n",
       "  </thead>\n",
       "  <tbody>\n",
       "    <tr>\n",
       "      <th>0</th>\n",
       "      <td>355</td>\n",
       "      <td>공공데이터포털</td>\n",
       "      <td>한국감정원 주택거래 현황</td>\n",
       "      <td>354_한국감정원 주택거래 현황</td>\n",
       "      <td></td>\n",
       "      <td></td>\n",
       "      <td></td>\n",
       "      <td></td>\n",
       "      <td></td>\n",
       "      <td></td>\n",
       "      <td>...</td>\n",
       "      <td>startmonth=200601&amp;endmonth=201903&amp;region=11000</td>\n",
       "      <td>api</td>\n",
       "      <td>xml</td>\n",
       "      <td>https://www.data.go.kr/comm/file/download.do?a...</td>\n",
       "      <td></td>\n",
       "      <td></td>\n",
       "      <td>200607&amp;200607&amp;48000</td>\n",
       "      <td>완료</td>\n",
       "      <td>TB_OD10354.py</td>\n",
       "      <td>TB_OD10354_yyyymm.csv</td>\n",
       "    </tr>\n",
       "  </tbody>\n",
       "</table>\n",
       "<p>1 rows × 31 columns</p>\n",
       "</div>"
      ],
      "text/plain": [
       "    번호   접속 사이트     제공항목(데이터셋)                폴더명 작업자 시작일 종료일 검토자 진행상태 비고  \\\n",
       "0  355  공공데이터포털  한국감정원 주택거래 현황  354_한국감정원 주택거래 현황                           \n",
       "\n",
       "           ...                                                      파라미터  \\\n",
       "0          ...            startmonth=200601&endmonth=201903&region=11000   \n",
       "\n",
       "  제공방식.1 데이터타입                                               참고문서 참고문서타입 주기  \\\n",
       "0    api   xml  https://www.data.go.kr/comm/file/download.do?a...             \n",
       "\n",
       "             비고_파라미터설명 완료여부     API PGM ID                    파일명  \n",
       "0  200607&200607&48000   완료  TB_OD10354.py  TB_OD10354_yyyymm.csv  \n",
       "\n",
       "[1 rows x 31 columns]"
      ]
     },
     "execution_count": 7,
     "metadata": {},
     "output_type": "execute_result"
    }
   ],
   "source": [
    "dataList = dataList.fillna(\"\")\n",
    "dataList = dataList.reset_index(drop=True)\n",
    "dataList"
   ]
  },
  {
   "cell_type": "code",
   "execution_count": 8,
   "metadata": {},
   "outputs": [],
   "source": [
    "dataCount = 0"
   ]
  },
  {
   "cell_type": "code",
   "execution_count": 9,
   "metadata": {},
   "outputs": [
    {
     "data": {
      "text/plain": [
       "19"
      ]
     },
     "execution_count": 9,
     "metadata": {},
     "output_type": "execute_result"
    }
   ],
   "source": [
    "# get dataList to load and write\n",
    "inputUrl = dataList.loc[dataCount, \"사이트\"]\n",
    "inputKey = dataList.loc[dataCount, \"서비스키\"]\n",
    "inputParameter = dataList.loc[dataCount, \"파라미터\"]\n",
    "inputFolder = dataList.loc[dataCount, \"폴더명\"]\n",
    "inputFile = dataList.loc[dataCount, \"서비스명\"]\n",
    "inputDataType = dataList.loc[dataCount, \"데이터타입\"]\n",
    "inputRefUrl = dataList.loc[dataCount, \"참고문서\"]\n",
    "inputRefType = dataList.loc[dataCount, \"참고문서타입\"]\n",
    "inputbParameter = dataList.loc[dataCount, \"비고_파라미터설명\"]\n",
    "len(inputbParameter)"
   ]
  },
  {
   "cell_type": "code",
   "execution_count": 10,
   "metadata": {},
   "outputs": [
    {
     "name": "stdout",
     "output_type": "stream",
     "text": [
      "fullUrl is http://openapi.kab.co.kr/OpenAPI_ToolInstallPackage/service/rest/AptTradingStateSvc/getAptTrdStateCaseOfNbr?&serviceKey=aiaNgZ3r3nPeUj5%2FKuJ10ZNRmyePXavavOu8RZwO%2F84LnOn5KxhWa1%2F5nwxk0Y4M10W0fjCK1SksOQeQsdMu6A%3D%3D&startmonth=200601&endmonth=201903&region=11000\n"
     ]
    }
   ],
   "source": [
    "url = cf.makeURL(inputUrl,inputKey,inputParameter)\n",
    "print(\"fullUrl is \" + url)"
   ]
  },
  {
   "cell_type": "code",
   "execution_count": 11,
   "metadata": {
    "scrolled": false
   },
   "outputs": [
    {
     "name": "stdout",
     "output_type": "stream",
     "text": [
      "  regionCd regionNm        rsRow\n",
      "0    48000       경남  200607,3461\n"
     ]
    }
   ],
   "source": [
    "newDF = pd.DataFrame()\n",
    "if (inputDataType == \"xml\"):\n",
    "    newDF = cf.operatorXmlProcess(url, inputbParameter)\n",
    "elif(inputDataType == \"json\"):\n",
    "    newDF = cf.jsonProcess(url)\n",
    "elif(inputDataType == \"csv\"):\n",
    "    newDF = cf.csvProcess(url)        "
   ]
  },
  {
   "cell_type": "code",
   "execution_count": 12,
   "metadata": {},
   "outputs": [
    {
     "data": {
      "text/html": [
       "<div>\n",
       "<style scoped>\n",
       "    .dataframe tbody tr th:only-of-type {\n",
       "        vertical-align: middle;\n",
       "    }\n",
       "\n",
       "    .dataframe tbody tr th {\n",
       "        vertical-align: top;\n",
       "    }\n",
       "\n",
       "    .dataframe thead th {\n",
       "        text-align: right;\n",
       "    }\n",
       "</style>\n",
       "<table border=\"1\" class=\"dataframe\">\n",
       "  <thead>\n",
       "    <tr style=\"text-align: right;\">\n",
       "      <th></th>\n",
       "      <th>regionCd</th>\n",
       "      <th>regionNm</th>\n",
       "      <th>yearMonth</th>\n",
       "      <th>volume</th>\n",
       "    </tr>\n",
       "  </thead>\n",
       "  <tbody>\n",
       "    <tr>\n",
       "      <th>0</th>\n",
       "      <td>48000</td>\n",
       "      <td>경남</td>\n",
       "      <td>200607</td>\n",
       "      <td>3461</td>\n",
       "    </tr>\n",
       "  </tbody>\n",
       "</table>\n",
       "</div>"
      ],
      "text/plain": [
       "  regionCd regionNm yearMonth volume\n",
       "0    48000       경남    200607   3461"
      ]
     },
     "execution_count": 12,
     "metadata": {},
     "output_type": "execute_result"
    }
   ],
   "source": [
    "newDF"
   ]
  },
  {
   "cell_type": "code",
   "execution_count": 13,
   "metadata": {},
   "outputs": [
    {
     "name": "stdout",
     "output_type": "stream",
     "text": [
      "../../data/outbound/354_한국감정원 주택거래 현황/354_한국감정원 주택거래 현황.csv\n"
     ]
    }
   ],
   "source": [
    "fullOutPath = outPath+inputFolder+\"/\"+inputFolder+inputFile+\".csv\"\n",
    "print(fullOutPath)"
   ]
  },
  {
   "cell_type": "code",
   "execution_count": 14,
   "metadata": {},
   "outputs": [],
   "source": [
    "try:\n",
    "    newDF.to_csv(fullOutPath, index=False, encoding=\"ms949\")\n",
    "except Exception as x:\n",
    "    print(x)"
   ]
  },
  {
   "cell_type": "code",
   "execution_count": 15,
   "metadata": {},
   "outputs": [
    {
     "name": "stdout",
     "output_type": "stream",
     "text": [
      "\r",
      "  0% [                                                                            ]      0 / 550930\r",
      "  1% [.                                                                           ]   8192 / 550930\r",
      "  2% [..                                                                          ]  16384 / 550930\r",
      "  4% [...                                                                         ]  24576 / 550930\r",
      "  5% [....                                                                        ]  32768 / 550930\r",
      "  7% [.....                                                                       ]  40960 / 550930\r",
      "  8% [......                                                                      ]  49152 / 550930\r",
      " 10% [.......                                                                     ]  57344 / 550930\r",
      " 11% [.........                                                                   ]  65536 / 550930\r",
      " 13% [..........                                                                  ]  73728 / 550930\r",
      " 14% [...........                                                                 ]  81920 / 550930\r",
      " 16% [............                                                                ]  90112 / 550930\r",
      " 17% [.............                                                               ]  98304 / 550930\r",
      " 19% [..............                                                              ] 106496 / 550930\r",
      " 20% [...............                                                             ] 114688 / 550930\r",
      " 22% [................                                                            ] 122880 / 550930\r",
      " 23% [..................                                                          ] 131072 / 550930\r",
      " 25% [...................                                                         ] 139264 / 550930\r",
      " 26% [....................                                                        ] 147456 / 550930\r",
      " 28% [.....................                                                       ] 155648 / 550930\r",
      " 29% [......................                                                      ] 163840 / 550930\r",
      " 31% [.......................                                                     ] 172032 / 550930\r",
      " 32% [........................                                                    ] 180224 / 550930\r",
      " 34% [.........................                                                   ] 188416 / 550930\r",
      " 35% [...........................                                                 ] 196608 / 550930\r",
      " 37% [............................                                                ] 204800 / 550930\r",
      " 38% [.............................                                               ] 212992 / 550930\r",
      " 40% [..............................                                              ] 221184 / 550930\r",
      " 41% [...............................                                             ] 229376 / 550930\r",
      " 43% [................................                                            ] 237568 / 550930\r",
      " 44% [.................................                                           ] 245760 / 550930\r",
      " 46% [...................................                                         ] 253952 / 550930\r",
      " 47% [....................................                                        ] 262144 / 550930\r",
      " 49% [.....................................                                       ] 270336 / 550930\r",
      " 50% [......................................                                      ] 278528 / 550930\r",
      " 52% [.......................................                                     ] 286720 / 550930\r",
      " 53% [........................................                                    ] 294912 / 550930\r",
      " 55% [.........................................                                   ] 303104 / 550930\r",
      " 56% [..........................................                                  ] 311296 / 550930\r",
      " 57% [............................................                                ] 319488 / 550930\r",
      " 59% [.............................................                               ] 327680 / 550930\r",
      " 60% [..............................................                              ] 335872 / 550930\r",
      " 62% [...............................................                             ] 344064 / 550930\r",
      " 63% [................................................                            ] 352256 / 550930\r",
      " 65% [.................................................                           ] 360448 / 550930\r",
      " 66% [..................................................                          ] 368640 / 550930\r",
      " 68% [...................................................                         ] 376832 / 550930\r",
      " 69% [.....................................................                       ] 385024 / 550930\r",
      " 71% [......................................................                      ] 393216 / 550930\r",
      " 72% [.......................................................                     ] 401408 / 550930\r",
      " 74% [........................................................                    ] 409600 / 550930\r",
      " 75% [.........................................................                   ] 417792 / 550930\r",
      " 77% [..........................................................                  ] 425984 / 550930\r",
      " 78% [...........................................................                 ] 434176 / 550930\r",
      " 80% [.............................................................               ] 442368 / 550930\r",
      " 81% [..............................................................              ] 450560 / 550930\r",
      " 83% [...............................................................             ] 458752 / 550930\r",
      " 84% [................................................................            ] 466944 / 550930\r",
      " 86% [.................................................................           ] 475136 / 550930\r",
      " 87% [..................................................................          ] 483328 / 550930\r",
      " 89% [...................................................................         ] 491520 / 550930\r",
      " 90% [....................................................................        ] 499712 / 550930\r",
      " 92% [......................................................................      ] 507904 / 550930\r",
      " 93% [.......................................................................     ] 516096 / 550930\r",
      " 95% [........................................................................    ] 524288 / 550930\r",
      " 96% [.........................................................................   ] 532480 / 550930\r",
      " 98% [..........................................................................  ] 540672 / 550930\r",
      " 99% [........................................................................... ] 548864 / 550930\r",
      "100% [............................................................................] 550930 / 550930"
     ]
    }
   ],
   "source": [
    "fullOutRefPath = outPath + inputFolder + \"/\" + inputFolder + inputFile + \".\"+inputRefType\n",
    "try:\n",
    "    wget.download(inputRefUrl, fullOutRefPath)\n",
    "except Exception as e:\n",
    "    print(inputFolder+\"참고문서 Error\")\n",
    "    print(e)\n",
    "    pass"
   ]
  },
  {
   "cell_type": "code",
   "execution_count": null,
   "metadata": {},
   "outputs": [],
   "source": []
  }
 ],
 "metadata": {
  "kernelspec": {
   "display_name": "Python 3",
   "language": "python",
   "name": "python3"
  },
  "language_info": {
   "codemirror_mode": {
    "name": "ipython",
    "version": 3
   },
   "file_extension": ".py",
   "mimetype": "text/x-python",
   "name": "python",
   "nbconvert_exporter": "python",
   "pygments_lexer": "ipython3",
   "version": "3.7.1"
  }
 },
 "nbformat": 4,
 "nbformat_minor": 2
}
