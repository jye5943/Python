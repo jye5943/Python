{
 "cells": [
  {
   "cell_type": "code",
   "execution_count": 26,
   "metadata": {},
   "outputs": [
    {
     "data": {
      "text/plain": [
       "'C:\\\\Users\\\\HP\\\\python_pintech\\\\02 DataType and Date Load'"
      ]
     },
     "execution_count": 26,
     "metadata": {},
     "output_type": "execute_result"
    }
   ],
   "source": [
    "pwd"
   ]
  },
  {
   "cell_type": "code",
   "execution_count": 12,
   "metadata": {},
   "outputs": [
    {
     "name": "stdout",
     "output_type": "stream",
     "text": [
      "### The total number of target data is 417\n"
     ]
    }
   ],
   "source": [
    "import requests #Used to service API connection\n",
    "from lxml import html #Used to parse XML\n",
    "from bs4 import BeautifulSoup #Used to read XML table on webpage\n",
    "import pandas as pd\n",
    "import numpy as np\n",
    "import wget\n",
    "from common import cFunction as cf\n",
    "\n",
    "\n",
    "# get dataList from filesystem to load and write\n",
    "#dataList = pd.read_excel(\"../../data/inbound/dataList.xlsx\")\n",
    "\n",
    "# get dataList from spreadsheet to load and write\n",
    "dataList = pd.read_csv(\"https://docs.google.com/spreadsheets/d/1VngqG-m7G8k1587c21MZoheR1Fz3amp1mJtiBvA1Jb0/export?format=csv&gid=0\")\n",
    "print(\"### The total number of target data is \" + str(len(dataList)))"
   ]
  },
  {
   "cell_type": "code",
   "execution_count": 13,
   "metadata": {},
   "outputs": [
    {
     "name": "stdout",
     "output_type": "stream",
     "text": [
      "      번호   접속 사이트      제공항목(데이터셋)                 폴더명  작업자  시작일  종료일  검토자  \\\n",
      "319  320  공공데이터포털  한국감정원 아파트거래 현황  319_한국감정원 아파트거래 현황  NaN  NaN  NaN  NaN   \n",
      "\n",
      "    진행상태   비고          ...            \\\n",
      "319  NaN  NaN          ...             \n",
      "\n",
      "                                               파라미터 제공방식.1 데이터타입  \\\n",
      "319  startmonth=201402&endmonth=201407&region=48000    api   xml   \n",
      "\n",
      "                                                  참고문서 참고문서타입  주기  \\\n",
      "319  https://www.data.go.kr/comm/file/download.do?a...   docx NaN   \n",
      "\n",
      "               비고_파라미터설명 완료여부     API PGM ID                    파일명  \n",
      "319  201402&201409&27000  NaN  TB_OD10319.py  TB_OD10319_yyyymm.csv  \n",
      "\n",
      "[1 rows x 31 columns]\n",
      "### The total number of filtered data is 1\n"
     ]
    }
   ],
   "source": [
    "# Filtering -> get dataList only defined url\n",
    "dataList = dataList[dataList[\"제공항목(데이터셋)\"] == '한국감정원 아파트거래 현황']\n",
    "print(dataList[dataList[\"제공항목(데이터셋)\"] == '한국감정원 아파트거래 현황'])\n",
    "print(\"### The total number of filtered data is \" + str(len(dataList)))"
   ]
  },
  {
   "cell_type": "code",
   "execution_count": 14,
   "metadata": {},
   "outputs": [],
   "source": [
    "outPath = \"../../data/outbound/\"\n",
    "folderList = dataList[\"폴더명\"].tolist()"
   ]
  },
  {
   "cell_type": "code",
   "execution_count": 15,
   "metadata": {},
   "outputs": [],
   "source": [
    "for i in folderList:\n",
    "    cf.createFolder(outPath+i)"
   ]
  },
  {
   "cell_type": "code",
   "execution_count": 16,
   "metadata": {},
   "outputs": [
    {
     "data": {
      "text/html": [
       "<div>\n",
       "<style scoped>\n",
       "    .dataframe tbody tr th:only-of-type {\n",
       "        vertical-align: middle;\n",
       "    }\n",
       "\n",
       "    .dataframe tbody tr th {\n",
       "        vertical-align: top;\n",
       "    }\n",
       "\n",
       "    .dataframe thead th {\n",
       "        text-align: right;\n",
       "    }\n",
       "</style>\n",
       "<table border=\"1\" class=\"dataframe\">\n",
       "  <thead>\n",
       "    <tr style=\"text-align: right;\">\n",
       "      <th></th>\n",
       "      <th>번호</th>\n",
       "      <th>접속 사이트</th>\n",
       "      <th>제공항목(데이터셋)</th>\n",
       "      <th>폴더명</th>\n",
       "      <th>작업자</th>\n",
       "      <th>시작일</th>\n",
       "      <th>종료일</th>\n",
       "      <th>검토자</th>\n",
       "      <th>진행상태</th>\n",
       "      <th>비고</th>\n",
       "      <th>...</th>\n",
       "      <th>파라미터</th>\n",
       "      <th>제공방식.1</th>\n",
       "      <th>데이터타입</th>\n",
       "      <th>참고문서</th>\n",
       "      <th>참고문서타입</th>\n",
       "      <th>주기</th>\n",
       "      <th>비고_파라미터설명</th>\n",
       "      <th>완료여부</th>\n",
       "      <th>API PGM ID</th>\n",
       "      <th>파일명</th>\n",
       "    </tr>\n",
       "  </thead>\n",
       "  <tbody>\n",
       "    <tr>\n",
       "      <th>0</th>\n",
       "      <td>320</td>\n",
       "      <td>공공데이터포털</td>\n",
       "      <td>한국감정원 아파트거래 현황</td>\n",
       "      <td>319_한국감정원 아파트거래 현황</td>\n",
       "      <td></td>\n",
       "      <td></td>\n",
       "      <td></td>\n",
       "      <td></td>\n",
       "      <td></td>\n",
       "      <td></td>\n",
       "      <td>...</td>\n",
       "      <td>startmonth=201402&amp;endmonth=201407&amp;region=48000</td>\n",
       "      <td>api</td>\n",
       "      <td>xml</td>\n",
       "      <td>https://www.data.go.kr/comm/file/download.do?a...</td>\n",
       "      <td>docx</td>\n",
       "      <td></td>\n",
       "      <td>201402&amp;201409&amp;27000</td>\n",
       "      <td></td>\n",
       "      <td>TB_OD10319.py</td>\n",
       "      <td>TB_OD10319_yyyymm.csv</td>\n",
       "    </tr>\n",
       "  </tbody>\n",
       "</table>\n",
       "<p>1 rows × 31 columns</p>\n",
       "</div>"
      ],
      "text/plain": [
       "    번호   접속 사이트      제공항목(데이터셋)                 폴더명 작업자 시작일 종료일 검토자 진행상태 비고  \\\n",
       "0  320  공공데이터포털  한국감정원 아파트거래 현황  319_한국감정원 아파트거래 현황                           \n",
       "\n",
       "           ...                                                      파라미터  \\\n",
       "0          ...            startmonth=201402&endmonth=201407&region=48000   \n",
       "\n",
       "  제공방식.1 데이터타입                                               참고문서 참고문서타입 주기  \\\n",
       "0    api   xml  https://www.data.go.kr/comm/file/download.do?a...   docx      \n",
       "\n",
       "             비고_파라미터설명 완료여부     API PGM ID                    파일명  \n",
       "0  201402&201409&27000       TB_OD10319.py  TB_OD10319_yyyymm.csv  \n",
       "\n",
       "[1 rows x 31 columns]"
      ]
     },
     "execution_count": 16,
     "metadata": {},
     "output_type": "execute_result"
    }
   ],
   "source": [
    "dataList = dataList.fillna(\"\")\n",
    "dataList = dataList.reset_index(drop=True)\n",
    "dataList"
   ]
  },
  {
   "cell_type": "code",
   "execution_count": 18,
   "metadata": {},
   "outputs": [
    {
     "name": "stdout",
     "output_type": "stream",
     "text": [
      "<class 'str'>\n"
     ]
    }
   ],
   "source": [
    "# get dataList to load and write\n",
    "inputUrl = dataList.loc[dataCount, \"사이트\"]\n",
    "inputKey = dataList.loc[dataCount, \"서비스키\"]\n",
    "inputParameter = dataList.loc[dataCount, \"파라미터\"]\n",
    "inputFolder = dataList.loc[dataCount, \"폴더명\"]\n",
    "inputFile = dataList.loc[dataCount, \"서비스명\"]\n",
    "inputDataType = dataList.loc[dataCount, \"데이터타입\"]\n",
    "inputRefUrl = dataList.loc[dataCount, \"참고문서\"]\n",
    "inputRefType = dataList.loc[dataCount, \"참고문서타입\"]\n",
    "inputbParameter = dataList.loc[dataCount, \"비고_파라미터설명\"]\n",
    "print(type(inputbParameter))"
   ]
  },
  {
   "cell_type": "code",
   "execution_count": 19,
   "metadata": {},
   "outputs": [
    {
     "name": "stdout",
     "output_type": "stream",
     "text": [
      "fullUrl is http://openapi.kab.co.kr/OpenAPI_ToolInstallPackage/service/rest/AptTradingStateSvc/getAptTrdStateCaseOfNbr?serviceKey=Z5J2q693N6mpcWIY9wSZqKgJXsAcan78Wc8dorriZfblBHoCZSqawyAVOgvykleO26uY39699xPbDd4ENw6s1w%3D%3D\n"
     ]
    }
   ],
   "source": [
    "    url = cf.makeURL(inputUrl,inputKey,\"\")\n",
    "    print(\"fullUrl is \" + url)"
   ]
  },
  {
   "cell_type": "code",
   "execution_count": 20,
   "metadata": {},
   "outputs": [],
   "source": [
    "def operatorXmlProcess(url, parameter, bParameter):\n",
    "    splitedbP = bParameter.split('&')\n",
    "    lastUrl = url\n",
    "    parameterList = parameter.split('&')\n",
    "    for i in  range(0, len(parameterList)):\n",
    "        lastUrl += '&' + (parameterList[i].split('=')[0] + '=' + splitedbP[i]) \n",
    "        \n",
    "    print(lastUrl)\n",
    "    response = requests.get(lastUrl)\n",
    "    # Check if page is up\n",
    "    if response.status_code == 200:\n",
    "        # Convert webpage to %Data\n",
    "        Data = BeautifulSoup(response.text, 'lxml-xml')\n",
    "        result = []\n",
    "        rows = 0\n",
    "        columnName = []\n",
    "        # search Item all item tag\n",
    "        iterData = Data.find_all('item')\n",
    "        for item in iterData:\n",
    "            item_list = []\n",
    "            # Fill the value in one row\n",
    "            for tag in item.find_all():\n",
    "                try:\n",
    "                    tagname = tag.name\n",
    "                    if rows == 0:\n",
    "                        columnName.append(tagname)\n",
    "                    item_list.append(item.find(tagname).text)\n",
    "                except Exception as e:\n",
    "                    print(\"This row will be ignored. \", item_list)\n",
    "            rows = rows + 1\n",
    "            result.append(item_list)\n",
    "    finalResult = pd.DataFrame(result)\n",
    "    finalResult.columns = columnName\n",
    "    print(finalResult)\n",
    "    return finalResult"
   ]
  },
  {
   "cell_type": "code",
   "execution_count": 21,
   "metadata": {},
   "outputs": [
    {
     "name": "stdout",
     "output_type": "stream",
     "text": [
      "http://openapi.kab.co.kr/OpenAPI_ToolInstallPackage/service/rest/AptTradingStateSvc/getAptTrdStateCaseOfNbr?serviceKey=Z5J2q693N6mpcWIY9wSZqKgJXsAcan78Wc8dorriZfblBHoCZSqawyAVOgvykleO26uY39699xPbDd4ENw6s1w%3D%3D&startmonth=201402&endmonth=201409&region=27000\n",
      "  regionCd regionNm                                              rsRow\n",
      "0    27000       대구  201402,6432|201403,5984|201404,6371|201405,512...\n"
     ]
    }
   ],
   "source": [
    "newDF = pd.DataFrame()\n",
    "if (inputDataType == \"xml\"):\n",
    "    newDF = operatorXmlProcess(url, inputParameter, inputbParameter)\n",
    "elif(inputDataType == \"json\"):\n",
    "    newDF = cf.jsonProcess(url)\n",
    "elif(inputDataType == \"csv\"):\n",
    "    newDF = cf.csvProcess(url)"
   ]
  },
  {
   "cell_type": "code",
   "execution_count": 22,
   "metadata": {},
   "outputs": [
    {
     "name": "stdout",
     "output_type": "stream",
     "text": [
      "../../data/outbound/319_한국감정원 아파트거래 현황/319_한국감정원 아파트거래 현황.csv\n"
     ]
    }
   ],
   "source": [
    "fullOutPath = outPath+inputFolder+\"/\"+inputFolder+inputFile+\".csv\"\n",
    "print(fullOutPath)"
   ]
  },
  {
   "cell_type": "code",
   "execution_count": 23,
   "metadata": {},
   "outputs": [],
   "source": [
    "try:\n",
    "    newDF.to_csv(fullOutPath, index=False, encoding=\"ms949\")\n",
    "except Exception as x:\n",
    "    print(x)"
   ]
  },
  {
   "cell_type": "code",
   "execution_count": 24,
   "metadata": {},
   "outputs": [
    {
     "name": "stdout",
     "output_type": "stream",
     "text": [
      "\r",
      "  0% [                                                        ]      0 / 550930\r",
      "  1% [                                                        ]   8192 / 550930\r",
      "  2% [.                                                       ]  16384 / 550930\r",
      "  4% [..                                                      ]  24576 / 550930\r",
      "  5% [...                                                     ]  32768 / 550930\r",
      "  7% [....                                                    ]  40960 / 550930\r",
      "  8% [....                                                    ]  49152 / 550930\r",
      " 10% [.....                                                   ]  57344 / 550930\r",
      " 11% [......                                                  ]  65536 / 550930\r",
      " 13% [.......                                                 ]  73728 / 550930\r",
      " 14% [........                                                ]  81920 / 550930\r",
      " 16% [.........                                               ]  90112 / 550930\r",
      " 17% [.........                                               ]  98304 / 550930\r",
      " 19% [..........                                              ] 106496 / 550930\r",
      " 20% [...........                                             ] 114688 / 550930\r",
      " 22% [............                                            ] 122880 / 550930\r",
      " 23% [.............                                           ] 131072 / 550930\r",
      " 25% [..............                                          ] 139264 / 550930\r",
      " 26% [..............                                          ] 147456 / 550930\r",
      " 28% [...............                                         ] 155648 / 550930\r",
      " 29% [................                                        ] 163840 / 550930\r",
      " 31% [.................                                       ] 172032 / 550930\r",
      " 32% [..................                                      ] 180224 / 550930\r",
      " 34% [...................                                     ] 188416 / 550930\r",
      " 35% [...................                                     ] 196608 / 550930\r",
      " 37% [....................                                    ] 204800 / 550930\r",
      " 38% [.....................                                   ] 212992 / 550930\r",
      " 40% [......................                                  ] 221184 / 550930\r",
      " 41% [.......................                                 ] 229376 / 550930\r",
      " 43% [........................                                ] 237568 / 550930\r",
      " 44% [........................                                ] 245760 / 550930\r",
      " 46% [.........................                               ] 253952 / 550930\r",
      " 47% [..........................                              ] 262144 / 550930\r",
      " 49% [...........................                             ] 270336 / 550930\r",
      " 50% [............................                            ] 278528 / 550930\r",
      " 52% [.............................                           ] 286720 / 550930\r",
      " 53% [.............................                           ] 294912 / 550930\r",
      " 55% [..............................                          ] 303104 / 550930\r",
      " 56% [...............................                         ] 311296 / 550930\r",
      " 57% [................................                        ] 319488 / 550930\r",
      " 59% [.................................                       ] 327680 / 550930\r",
      " 60% [..................................                      ] 335872 / 550930\r",
      " 62% [..................................                      ] 344064 / 550930\r",
      " 63% [...................................                     ] 352256 / 550930\r",
      " 65% [....................................                    ] 360448 / 550930\r",
      " 66% [.....................................                   ] 368640 / 550930\r",
      " 68% [......................................                  ] 376832 / 550930\r",
      " 69% [.......................................                 ] 385024 / 550930\r",
      " 71% [.......................................                 ] 393216 / 550930\r",
      " 72% [........................................                ] 401408 / 550930\r",
      " 74% [.........................................               ] 409600 / 550930\r",
      " 75% [..........................................              ] 417792 / 550930\r",
      " 77% [...........................................             ] 425984 / 550930\r",
      " 78% [............................................            ] 434176 / 550930\r",
      " 80% [............................................            ] 442368 / 550930\r",
      " 81% [.............................................           ] 450560 / 550930\r",
      " 83% [..............................................          ] 458752 / 550930\r",
      " 84% [...............................................         ] 466944 / 550930\r",
      " 86% [................................................        ] 475136 / 550930\r",
      " 87% [.................................................       ] 483328 / 550930\r",
      " 89% [.................................................       ] 491520 / 550930\r",
      " 90% [..................................................      ] 499712 / 550930\r",
      " 92% [...................................................     ] 507904 / 550930\r",
      " 93% [....................................................    ] 516096 / 550930\r",
      " 95% [.....................................................   ] 524288 / 550930\r",
      " 96% [......................................................  ] 532480 / 550930\r",
      " 98% [......................................................  ] 540672 / 550930\r",
      " 99% [....................................................... ] 548864 / 550930\r",
      "100% [........................................................] 550930 / 550930"
     ]
    }
   ],
   "source": [
    "fullOutRefPath = outPath + inputFolder + \"/\" + inputFolder + inputFile + \".\"+inputRefType\n",
    "try:\n",
    "    wget.download(inputRefUrl, fullOutRefPath)\n",
    "except Exception as e:\n",
    "    print(inputFolder+\"참고문서 Error\")\n",
    "    print(e)\n",
    "    pass"
   ]
  },
  {
   "cell_type": "code",
   "execution_count": 25,
   "metadata": {},
   "outputs": [
    {
     "data": {
      "text/html": [
       "<div>\n",
       "<style scoped>\n",
       "    .dataframe tbody tr th:only-of-type {\n",
       "        vertical-align: middle;\n",
       "    }\n",
       "\n",
       "    .dataframe tbody tr th {\n",
       "        vertical-align: top;\n",
       "    }\n",
       "\n",
       "    .dataframe thead th {\n",
       "        text-align: right;\n",
       "    }\n",
       "</style>\n",
       "<table border=\"1\" class=\"dataframe\">\n",
       "  <thead>\n",
       "    <tr style=\"text-align: right;\">\n",
       "      <th></th>\n",
       "      <th>regionCd</th>\n",
       "      <th>regionNm</th>\n",
       "      <th>rsRow</th>\n",
       "    </tr>\n",
       "  </thead>\n",
       "  <tbody>\n",
       "  </tbody>\n",
       "</table>\n",
       "</div>"
      ],
      "text/plain": [
       "Empty DataFrame\n",
       "Columns: [regionCd, regionNm, rsRow]\n",
       "Index: []"
      ]
     },
     "execution_count": 25,
     "metadata": {},
     "output_type": "execute_result"
    }
   ],
   "source": [
    "finalData = {'regionCd' : [], 'regionNm' : [], 'rsRow' : []}\n",
    "finalResult = pd.DataFrame(finalData)\n",
    "finalResult"
   ]
  }
 ],
 "metadata": {
  "kernelspec": {
   "display_name": "Python 3",
   "language": "python",
   "name": "python3"
  },
  "language_info": {
   "codemirror_mode": {
    "name": "ipython",
    "version": 3
   },
   "file_extension": ".py",
   "mimetype": "text/x-python",
   "name": "python",
   "nbconvert_exporter": "python",
   "pygments_lexer": "ipython3",
   "version": "3.7.1"
  }
 },
 "nbformat": 4,
 "nbformat_minor": 2
}
