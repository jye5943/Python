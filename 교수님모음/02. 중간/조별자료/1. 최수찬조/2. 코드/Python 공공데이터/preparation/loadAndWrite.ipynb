{
 "cells": [
  {
   "cell_type": "markdown",
   "metadata": {},
   "source": [
    "## 01. Import"
   ]
  },
  {
   "cell_type": "code",
   "execution_count": 1,
   "metadata": {},
   "outputs": [],
   "source": [
    "import os\n",
    "import requests #Used to service API connection\n",
    "from lxml import html #Used to parse XML\n",
    "from bs4 import BeautifulSoup #Used to read XML table on webpage\n",
    "import pandas as pd\n",
    "from pandas.io.json import json_normalize"
   ]
  },
  {
   "cell_type": "markdown",
   "metadata": {},
   "source": [
    "## 02. 함수 정의"
   ]
  },
  {
   "cell_type": "markdown",
   "metadata": {},
   "source": [
    "#### 　　　　　02-1. URL 생성 함수"
   ]
  },
  {
   "cell_type": "code",
   "execution_count": 2,
   "metadata": {},
   "outputs": [],
   "source": [
    "def makeURL(myUrl, op, myKey, sigunguCd, bjdongCd):\n",
    "    # myUrl = \"http://192.168.1.120/index.php?\"\n",
    "    url = myUrl + '/'+ op + \"?ServiceKey=\" + myKey + \"&sigunguCd=\" + sigunguCd + '&bjdongCd=' + bjdongCd\n",
    "    url = url.rstrip('&')\n",
    "    return url"
   ]
  },
  {
   "cell_type": "markdown",
   "metadata": {},
   "source": [
    "#### 　　　　　02-2. 폴더 생성 함수"
   ]
  },
  {
   "cell_type": "code",
   "execution_count": 3,
   "metadata": {},
   "outputs": [],
   "source": [
    "def createFolder(directory):\n",
    "    try:\n",
    "        if not os.path.exists(directory):\n",
    "            os.makedirs(directory)\n",
    "    except OSError:\n",
    "        print ('Error: Creating directory. ' +  directory)"
   ]
  },
  {
   "cell_type": "markdown",
   "metadata": {},
   "source": [
    "#### 　　　　　02-3. xml 데이터 추출 함수 ( 우리가 뽑아낼 데이터는 xml이기때문에 xml빼고는 삭제함)"
   ]
  },
  {
   "cell_type": "code",
   "execution_count": 4,
   "metadata": {},
   "outputs": [],
   "source": [
    "def xmlProcess(url):\n",
    "    response = requests.get(url)\n",
    "    # Check if page is up\n",
    "    if response.status_code == 200:\n",
    "        # Convert webpage to %Data\n",
    "        Data = BeautifulSoup(response.text, 'lxml-xml')\n",
    "        result = []\n",
    "        rows = 0\n",
    "        columnName = []\n",
    "        # search Item all item tag\n",
    "        iterData = Data.find_all('item')\n",
    "        for item in iterData:\n",
    "            item_list = []\n",
    "            # Fill the value in one row\n",
    "            for tag in item.find_all():\n",
    "                try:\n",
    "                    tagname = tag.name\n",
    "                    if rows == 0:\n",
    "                        columnName.append(tagname)\n",
    "                    item_list.append(item.find(tagname).text)\n",
    "                except Exception as e:\n",
    "                    print(\"This row will be ignored. \", item_list)\n",
    "            if len(item_list) == 0:\n",
    "                return pd.DataFrame()\n",
    "            rows = rows + 1\n",
    "            result.append(item_list)\n",
    "\n",
    "    finalResult = pd.DataFrame(result)\n",
    "    finalResult.columns = columnName\n",
    "\n",
    "    return finalResult"
   ]
  },
  {
   "cell_type": "markdown",
   "metadata": {},
   "source": [
    "## 03. 데이터 추출 및 정제"
   ]
  },
  {
   "cell_type": "markdown",
   "metadata": {},
   "source": [
    "#### 　　　　　03-1. Google docs의 데이터를 받아오기"
   ]
  },
  {
   "cell_type": "code",
   "execution_count": 5,
   "metadata": {},
   "outputs": [
    {
     "name": "stdout",
     "output_type": "stream",
     "text": [
      "### The total number of target data is 417\n"
     ]
    }
   ],
   "source": [
    "dataList = pd.read_csv(\"https://docs.google.com/spreadsheets/d/1VngqG-m7G8k1587c21MZoheR1Fz3amp1mJtiBvA1Jb0/export?format=csv&gid=0\")\n",
    "\n",
    "# dataList라는 변수안에 받아온 데이터를 저장 ( Google docs의 '사이트'칼럼의 길이를 출력한다 )\n",
    "print(\"### The total number of target data is \" + str(len(dataList)))"
   ]
  },
  {
   "cell_type": "code",
   "execution_count": 6,
   "metadata": {},
   "outputs": [
    {
     "name": "stdout",
     "output_type": "stream",
     "text": [
      "                                                   사이트\n",
      "305  https://www.data.go.kr/dataset/fileDownload.do...\n",
      "306  http://openapi.kab.co.kr/OpenAPI_ToolInstallPa...\n",
      "308  http://apis.data.go.kr/1611000/nsdi/BuildingUs...\n",
      "313         https://data.myhome.go.kr/rentalHouseList?\n",
      "318  http://openapi.kab.co.kr/OpenAPI_ToolInstallPa...\n",
      "319  http://openapi.kab.co.kr/OpenAPI_ToolInstallPa...\n",
      "340      http://apis.data.go.kr/1611000/ArchPmsService\n",
      "342        http://fsc.go.kr/downManager?bbsid=BBS0069&\n",
      "345  http://apis.data.go.kr/1611000/ArchPmsService/...\n",
      "349  http://data.insight.go.kr/openapi/service/Pric...\n",
      "352  http://openapi.molit.go.kr/OpenAPI_ToolInstall...\n",
      "353  http://openapi.kab.co.kr/OpenAPI_ToolInstallPa...\n",
      "354  http://openapi.kab.co.kr/OpenAPI_ToolInstallPa...\n",
      "355  https://www.data.go.kr/dataset/fileDownload.do...\n",
      "359  http://openapi.kab.co.kr/OpenAPI_ToolInstallPa...\n",
      "360  http://api.hf.go.kr:8090/service/rest/HfMbsInt...\n",
      "361  http://api.hf.go.kr:8090/service/rest/HfMbbInt...\n",
      "363  https://www.data.go.kr/dataset/fileDownload.do...\n",
      "376  https://www.data.go.kr/dataset/fileDownload.do...\n",
      "377  http://api.hf.go.kr:8090/service/rest/uloanrat...\n",
      "378  https://www.data.go.kr/dataset/fileDownload.do...\n",
      "379  http://api.hf.go.kr:8090/service/rest/conforml...\n",
      "389  http://openapi.kab.co.kr/OpenAPI_ToolInstallPa...\n",
      "390  https://www.data.go.kr/subMain.jsp#/L3B1YnIvcG...\n",
      "414  http://openapi.kab.co.kr/OpenAPI_ToolInstallPa...\n",
      "### The total number of filtered data is 25\n"
     ]
    }
   ],
   "source": [
    "dataList = dataList[   dataList['사이트'].notnull() ]\n",
    "\n",
    "# dataList라는 변수안에 받아온 '사이트'칼럼의 데이터가 null값이라면 저장하지않고 null값이 아니라면 저장한다 \n",
    "# ( 최종적으로 '사이트'칼럼에 데이터가 있는 부분만 저장이 되어 출력 )\n",
    "print(dataList[[\"사이트\"]])\n",
    "print(\"### The total number of filtered data is \" + str(len(dataList)))\n",
    "\n",
    "# dataList라는 변수에 null값들을 빈 문자열을 넣어 채워주고 인덱스를 초기화 해준다.\n",
    "dataList = dataList.fillna(\"\")\n",
    "dataList = dataList.reset_index(drop=True)"
   ]
  },
  {
   "cell_type": "markdown",
   "metadata": {},
   "source": [
    "#### 　　　　　03-2. Google docs에서 지정된 이름으로 폴더를 생성"
   ]
  },
  {
   "cell_type": "code",
   "execution_count": 10,
   "metadata": {},
   "outputs": [],
   "source": [
    "outPath = \"../data/inbound/\"\n",
    "\n",
    "# folderList라는 변수 안에 Google docs에서 받아온 '폴더명'칼럼의 데이터를 List형태로 저장함\n",
    "folderList = dataList[\"폴더명\"].tolist()\n",
    "\n",
    "# folderList의 길이만큼 for문을 돌면서 폴더를 생성\n",
    "for i in folderList:\n",
    "    createFolder(outPath+i)"
   ]
  },
  {
   "cell_type": "markdown",
   "metadata": {},
   "source": [
    "#### 　　　　　03-3. 데이터 정제에 필요한 정보들을 변수화 하여 입력"
   ]
  },
  {
   "cell_type": "code",
   "execution_count": 11,
   "metadata": {},
   "outputs": [
    {
     "name": "stdout",
     "output_type": "stream",
     "text": [
      "['getApBasisOulnInfo', 'getApDongOulnInfo', 'getApFlrOulnInfo', 'getApHoOulnInfo', 'getApImprprInfo', 'getApHdcrMgmRgstInfo', 'getApDemolExtngMgmRgstInfo', 'getApTmpBldInfo', 'getApWclfInfo', 'getApPklotInfo', 'getApAtchPklotInfo', 'getApExposPubuseAreaInfo', 'getApHoExposPubuseAreaInfo', 'getApJijiguInfo', 'getApRoadRgstInfo', 'getApPlatPlcInfo', 'getApHsTpInfo']\n"
     ]
    }
   ],
   "source": [
    "inputUrl = 'http://apis.data.go.kr/1611000/ArchPmsService'\n",
    "inputKey = \"ufe1cXhfaa3SBtlsFh402kse1ctLxx0%2BxZU0NDXcW6KST%2BIRc2HMgfJMC2%2BJ9vwZqCjCZvIyvusJfRZdESfOIA%3D%3D\"\n",
    "inputFolder = \"340_건축인허가 정보\"\n",
    "inputFile = \"getApBasisOulnInfo&getApDongOulnInfo&getApFlrOulnInfo&getApHoOulnInfo&getApImprprInfo&getApHdcrMgmRgstInfo&getApDemolExtngMgmRgstInfo&getApTmpBldInfo&getApWclfInfo&getApPklotInfo&getApAtchPklotInfo&getApExposPubuseAreaInfo&getApHoExposPubuseAreaInfo&getApJijiguInfo&getApRoadRgstInfo&getApPlatPlcInfo&getApHsTpInfo\"\n",
    "inputFile = inputFile.split('&')\n",
    "inputDataType = \"xml\"\n",
    "\n",
    "# inputFile변수는 필요한 모든 Operater들을 &기호로 분류하여 Google docs에 입력하였기 때문에 정제를 위해 split 함수로 쪼개준다.\n",
    "# 최종적으로 inputFile 이라는 변수는 List형태로 저장됨\n",
    "print(inputFile)"
   ]
  },
  {
   "cell_type": "markdown",
   "metadata": {},
   "source": [
    "#### 　　　　　03-4. 데이터 정제에 필요한 파일 불러오기"
   ]
  },
  {
   "cell_type": "code",
   "execution_count": 12,
   "metadata": {},
   "outputs": [
    {
     "ename": "FileNotFoundError",
     "evalue": "File b'../data/inbound/allCode2.csv' does not exist",
     "output_type": "error",
     "traceback": [
      "\u001b[1;31m---------------------------------------------------------------------------\u001b[0m",
      "\u001b[1;31mFileNotFoundError\u001b[0m                         Traceback (most recent call last)",
      "\u001b[1;32m<ipython-input-12-85c27988ac4c>\u001b[0m in \u001b[0;36m<module>\u001b[1;34m\u001b[0m\n\u001b[0;32m      1\u001b[0m \u001b[1;31m# 참고문헌에서 참조하라고 했던 문서(우리조의 경우 사이트에서 내려받고 csv파일형태로 새로 저장하여주었음)을 데이터프레임화 하기\u001b[0m\u001b[1;33m\u001b[0m\u001b[1;33m\u001b[0m\u001b[1;33m\u001b[0m\u001b[0m\n\u001b[1;32m----> 2\u001b[1;33m \u001b[0mcodeDF\u001b[0m \u001b[1;33m=\u001b[0m \u001b[0mpd\u001b[0m\u001b[1;33m.\u001b[0m\u001b[0mread_csv\u001b[0m\u001b[1;33m(\u001b[0m\u001b[1;34m'../data/inbound/allCode2.csv'\u001b[0m\u001b[1;33m,\u001b[0m \u001b[0mencoding\u001b[0m\u001b[1;33m=\u001b[0m\u001b[1;34m'ms949'\u001b[0m\u001b[1;33m)\u001b[0m\u001b[1;33m\u001b[0m\u001b[1;33m\u001b[0m\u001b[0m\n\u001b[0m\u001b[0;32m      3\u001b[0m \u001b[1;33m\u001b[0m\u001b[0m\n\u001b[0;32m      4\u001b[0m \u001b[1;31m# 데이터프레임화 후 '법정동코드'칼럼의 데이터를 추출하여 codeList라는 변수에 List형태로 저장한다.\u001b[0m\u001b[1;33m\u001b[0m\u001b[1;33m\u001b[0m\u001b[1;33m\u001b[0m\u001b[0m\n\u001b[0;32m      5\u001b[0m \u001b[0mcodeList\u001b[0m \u001b[1;33m=\u001b[0m \u001b[0mcodeDF\u001b[0m\u001b[1;33m[\u001b[0m\u001b[1;34m'법정동코드'\u001b[0m\u001b[1;33m]\u001b[0m\u001b[1;33m.\u001b[0m\u001b[0mastype\u001b[0m\u001b[1;33m(\u001b[0m\u001b[0mstr\u001b[0m\u001b[1;33m)\u001b[0m\u001b[1;33m.\u001b[0m\u001b[0mtolist\u001b[0m\u001b[1;33m(\u001b[0m\u001b[1;33m)\u001b[0m\u001b[1;33m\u001b[0m\u001b[1;33m\u001b[0m\u001b[0m\n",
      "\u001b[1;32mC:\\ProgramData\\Anaconda3\\lib\\site-packages\\pandas\\io\\parsers.py\u001b[0m in \u001b[0;36mparser_f\u001b[1;34m(filepath_or_buffer, sep, delimiter, header, names, index_col, usecols, squeeze, prefix, mangle_dupe_cols, dtype, engine, converters, true_values, false_values, skipinitialspace, skiprows, nrows, na_values, keep_default_na, na_filter, verbose, skip_blank_lines, parse_dates, infer_datetime_format, keep_date_col, date_parser, dayfirst, iterator, chunksize, compression, thousands, decimal, lineterminator, quotechar, quoting, escapechar, comment, encoding, dialect, tupleize_cols, error_bad_lines, warn_bad_lines, skipfooter, doublequote, delim_whitespace, low_memory, memory_map, float_precision)\u001b[0m\n\u001b[0;32m    676\u001b[0m                     skip_blank_lines=skip_blank_lines)\n\u001b[0;32m    677\u001b[0m \u001b[1;33m\u001b[0m\u001b[0m\n\u001b[1;32m--> 678\u001b[1;33m         \u001b[1;32mreturn\u001b[0m \u001b[0m_read\u001b[0m\u001b[1;33m(\u001b[0m\u001b[0mfilepath_or_buffer\u001b[0m\u001b[1;33m,\u001b[0m \u001b[0mkwds\u001b[0m\u001b[1;33m)\u001b[0m\u001b[1;33m\u001b[0m\u001b[1;33m\u001b[0m\u001b[0m\n\u001b[0m\u001b[0;32m    679\u001b[0m \u001b[1;33m\u001b[0m\u001b[0m\n\u001b[0;32m    680\u001b[0m     \u001b[0mparser_f\u001b[0m\u001b[1;33m.\u001b[0m\u001b[0m__name__\u001b[0m \u001b[1;33m=\u001b[0m \u001b[0mname\u001b[0m\u001b[1;33m\u001b[0m\u001b[1;33m\u001b[0m\u001b[0m\n",
      "\u001b[1;32mC:\\ProgramData\\Anaconda3\\lib\\site-packages\\pandas\\io\\parsers.py\u001b[0m in \u001b[0;36m_read\u001b[1;34m(filepath_or_buffer, kwds)\u001b[0m\n\u001b[0;32m    438\u001b[0m \u001b[1;33m\u001b[0m\u001b[0m\n\u001b[0;32m    439\u001b[0m     \u001b[1;31m# Create the parser.\u001b[0m\u001b[1;33m\u001b[0m\u001b[1;33m\u001b[0m\u001b[1;33m\u001b[0m\u001b[0m\n\u001b[1;32m--> 440\u001b[1;33m     \u001b[0mparser\u001b[0m \u001b[1;33m=\u001b[0m \u001b[0mTextFileReader\u001b[0m\u001b[1;33m(\u001b[0m\u001b[0mfilepath_or_buffer\u001b[0m\u001b[1;33m,\u001b[0m \u001b[1;33m**\u001b[0m\u001b[0mkwds\u001b[0m\u001b[1;33m)\u001b[0m\u001b[1;33m\u001b[0m\u001b[1;33m\u001b[0m\u001b[0m\n\u001b[0m\u001b[0;32m    441\u001b[0m \u001b[1;33m\u001b[0m\u001b[0m\n\u001b[0;32m    442\u001b[0m     \u001b[1;32mif\u001b[0m \u001b[0mchunksize\u001b[0m \u001b[1;32mor\u001b[0m \u001b[0miterator\u001b[0m\u001b[1;33m:\u001b[0m\u001b[1;33m\u001b[0m\u001b[1;33m\u001b[0m\u001b[0m\n",
      "\u001b[1;32mC:\\ProgramData\\Anaconda3\\lib\\site-packages\\pandas\\io\\parsers.py\u001b[0m in \u001b[0;36m__init__\u001b[1;34m(self, f, engine, **kwds)\u001b[0m\n\u001b[0;32m    785\u001b[0m             \u001b[0mself\u001b[0m\u001b[1;33m.\u001b[0m\u001b[0moptions\u001b[0m\u001b[1;33m[\u001b[0m\u001b[1;34m'has_index_names'\u001b[0m\u001b[1;33m]\u001b[0m \u001b[1;33m=\u001b[0m \u001b[0mkwds\u001b[0m\u001b[1;33m[\u001b[0m\u001b[1;34m'has_index_names'\u001b[0m\u001b[1;33m]\u001b[0m\u001b[1;33m\u001b[0m\u001b[1;33m\u001b[0m\u001b[0m\n\u001b[0;32m    786\u001b[0m \u001b[1;33m\u001b[0m\u001b[0m\n\u001b[1;32m--> 787\u001b[1;33m         \u001b[0mself\u001b[0m\u001b[1;33m.\u001b[0m\u001b[0m_make_engine\u001b[0m\u001b[1;33m(\u001b[0m\u001b[0mself\u001b[0m\u001b[1;33m.\u001b[0m\u001b[0mengine\u001b[0m\u001b[1;33m)\u001b[0m\u001b[1;33m\u001b[0m\u001b[1;33m\u001b[0m\u001b[0m\n\u001b[0m\u001b[0;32m    788\u001b[0m \u001b[1;33m\u001b[0m\u001b[0m\n\u001b[0;32m    789\u001b[0m     \u001b[1;32mdef\u001b[0m \u001b[0mclose\u001b[0m\u001b[1;33m(\u001b[0m\u001b[0mself\u001b[0m\u001b[1;33m)\u001b[0m\u001b[1;33m:\u001b[0m\u001b[1;33m\u001b[0m\u001b[1;33m\u001b[0m\u001b[0m\n",
      "\u001b[1;32mC:\\ProgramData\\Anaconda3\\lib\\site-packages\\pandas\\io\\parsers.py\u001b[0m in \u001b[0;36m_make_engine\u001b[1;34m(self, engine)\u001b[0m\n\u001b[0;32m   1012\u001b[0m     \u001b[1;32mdef\u001b[0m \u001b[0m_make_engine\u001b[0m\u001b[1;33m(\u001b[0m\u001b[0mself\u001b[0m\u001b[1;33m,\u001b[0m \u001b[0mengine\u001b[0m\u001b[1;33m=\u001b[0m\u001b[1;34m'c'\u001b[0m\u001b[1;33m)\u001b[0m\u001b[1;33m:\u001b[0m\u001b[1;33m\u001b[0m\u001b[1;33m\u001b[0m\u001b[0m\n\u001b[0;32m   1013\u001b[0m         \u001b[1;32mif\u001b[0m \u001b[0mengine\u001b[0m \u001b[1;33m==\u001b[0m \u001b[1;34m'c'\u001b[0m\u001b[1;33m:\u001b[0m\u001b[1;33m\u001b[0m\u001b[1;33m\u001b[0m\u001b[0m\n\u001b[1;32m-> 1014\u001b[1;33m             \u001b[0mself\u001b[0m\u001b[1;33m.\u001b[0m\u001b[0m_engine\u001b[0m \u001b[1;33m=\u001b[0m \u001b[0mCParserWrapper\u001b[0m\u001b[1;33m(\u001b[0m\u001b[0mself\u001b[0m\u001b[1;33m.\u001b[0m\u001b[0mf\u001b[0m\u001b[1;33m,\u001b[0m \u001b[1;33m**\u001b[0m\u001b[0mself\u001b[0m\u001b[1;33m.\u001b[0m\u001b[0moptions\u001b[0m\u001b[1;33m)\u001b[0m\u001b[1;33m\u001b[0m\u001b[1;33m\u001b[0m\u001b[0m\n\u001b[0m\u001b[0;32m   1015\u001b[0m         \u001b[1;32melse\u001b[0m\u001b[1;33m:\u001b[0m\u001b[1;33m\u001b[0m\u001b[1;33m\u001b[0m\u001b[0m\n\u001b[0;32m   1016\u001b[0m             \u001b[1;32mif\u001b[0m \u001b[0mengine\u001b[0m \u001b[1;33m==\u001b[0m \u001b[1;34m'python'\u001b[0m\u001b[1;33m:\u001b[0m\u001b[1;33m\u001b[0m\u001b[1;33m\u001b[0m\u001b[0m\n",
      "\u001b[1;32mC:\\ProgramData\\Anaconda3\\lib\\site-packages\\pandas\\io\\parsers.py\u001b[0m in \u001b[0;36m__init__\u001b[1;34m(self, src, **kwds)\u001b[0m\n\u001b[0;32m   1706\u001b[0m         \u001b[0mkwds\u001b[0m\u001b[1;33m[\u001b[0m\u001b[1;34m'usecols'\u001b[0m\u001b[1;33m]\u001b[0m \u001b[1;33m=\u001b[0m \u001b[0mself\u001b[0m\u001b[1;33m.\u001b[0m\u001b[0musecols\u001b[0m\u001b[1;33m\u001b[0m\u001b[1;33m\u001b[0m\u001b[0m\n\u001b[0;32m   1707\u001b[0m \u001b[1;33m\u001b[0m\u001b[0m\n\u001b[1;32m-> 1708\u001b[1;33m         \u001b[0mself\u001b[0m\u001b[1;33m.\u001b[0m\u001b[0m_reader\u001b[0m \u001b[1;33m=\u001b[0m \u001b[0mparsers\u001b[0m\u001b[1;33m.\u001b[0m\u001b[0mTextReader\u001b[0m\u001b[1;33m(\u001b[0m\u001b[0msrc\u001b[0m\u001b[1;33m,\u001b[0m \u001b[1;33m**\u001b[0m\u001b[0mkwds\u001b[0m\u001b[1;33m)\u001b[0m\u001b[1;33m\u001b[0m\u001b[1;33m\u001b[0m\u001b[0m\n\u001b[0m\u001b[0;32m   1709\u001b[0m \u001b[1;33m\u001b[0m\u001b[0m\n\u001b[0;32m   1710\u001b[0m         \u001b[0mpassed_names\u001b[0m \u001b[1;33m=\u001b[0m \u001b[0mself\u001b[0m\u001b[1;33m.\u001b[0m\u001b[0mnames\u001b[0m \u001b[1;32mis\u001b[0m \u001b[1;32mNone\u001b[0m\u001b[1;33m\u001b[0m\u001b[1;33m\u001b[0m\u001b[0m\n",
      "\u001b[1;32mpandas\\_libs\\parsers.pyx\u001b[0m in \u001b[0;36mpandas._libs.parsers.TextReader.__cinit__\u001b[1;34m()\u001b[0m\n",
      "\u001b[1;32mpandas\\_libs\\parsers.pyx\u001b[0m in \u001b[0;36mpandas._libs.parsers.TextReader._setup_parser_source\u001b[1;34m()\u001b[0m\n",
      "\u001b[1;31mFileNotFoundError\u001b[0m: File b'../data/inbound/allCode2.csv' does not exist"
     ]
    }
   ],
   "source": [
    "# 참고문헌에서 참조하라고 했던 문서(우리조의 경우 사이트에서 내려받고 csv파일형태로 새로 저장하여주었음)을 데이터프레임화 하기\n",
    "codeDF = pd.read_csv('../data/inbound/allCode2.csv', encoding='ms949')\n",
    "\n",
    "# 데이터프레임화 후 '법정동코드'칼럼의 데이터를 추출하여 codeList라는 변수에 List형태로 저장한다.\n",
    "codeList = codeDF['법정동코드'].astype(str).tolist()"
   ]
  },
  {
   "cell_type": "code",
   "execution_count": null,
   "metadata": {},
   "outputs": [],
   "source": [
    "for i in inputFile:\n",
    "    DF = pd.DataFrame()\n",
    "    for j in codeList:\n",
    "        sigunguCd = j[:5]\n",
    "        bjdongCd = j[5:]\n",
    "        url = makeURL(inputUrl, i, inputKey, sigunguCd, bjdongCd)\n",
    "        try:\n",
    "            tempDF = xmlProcess(url)\n",
    "            DF = pd.concat([DF, tempDF], sort = False)\n",
    "        except Exception as e:\n",
    "            print(url)\n",
    "    resultName = outPath + inputFolder + '/' + i + '.csv'\n",
    "    DF.to_csv(resultName, encoding = 'ms949', index = False)"
   ]
  },
  {
   "cell_type": "code",
   "execution_count": 13,
   "metadata": {},
   "outputs": [
    {
     "data": {
      "text/plain": [
       "'E:\\\\GitMaster\\\\01.Python_Git\\\\최수찬조'"
      ]
     },
     "execution_count": 13,
     "metadata": {},
     "output_type": "execute_result"
    }
   ],
   "source": [
    "pwd"
   ]
  }
 ],
 "metadata": {
  "kernelspec": {
   "display_name": "Python 3",
   "language": "python",
   "name": "python3"
  },
  "language_info": {
   "codemirror_mode": {
    "name": "ipython",
    "version": 3
   },
   "file_extension": ".py",
   "mimetype": "text/x-python",
   "name": "python",
   "nbconvert_exporter": "python",
   "pygments_lexer": "ipython3",
   "version": "3.7.1"
  }
 },
 "nbformat": 4,
 "nbformat_minor": 2
}
