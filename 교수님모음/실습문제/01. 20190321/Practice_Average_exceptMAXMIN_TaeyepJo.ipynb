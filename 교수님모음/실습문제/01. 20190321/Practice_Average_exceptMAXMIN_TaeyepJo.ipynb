{
 "cells": [
  {
   "cell_type": "code",
   "execution_count": null,
   "metadata": {},
   "outputs": [],
   "source": [
    "def AvgxMM(TotalList):\n",
    "    maxTotal = max(TotalList)\n",
    "    minTotal = min(TotalList)\n",
    "    print(maxTotal, minTotal)\n",
    "\n",
    "    del TotalList[TotalList.index(maxTotal)]\n",
    "    del TotalList[TotalList.index(minTotal)]\n",
    "\n",
    "    sum1 = sum(TotalList)\n",
    "    length_sum1 = len(TotalList)\n",
    "    average = sum1 / length_sum1\n",
    "    return average"
   ]
  }
 ],
 "metadata": {
  "kernelspec": {
   "display_name": "Python 3",
   "language": "python",
   "name": "python3"
  },
  "language_info": {
   "codemirror_mode": {
    "name": "ipython",
    "version": 3
   },
   "file_extension": ".py",
   "mimetype": "text/x-python",
   "name": "python",
   "nbconvert_exporter": "python",
   "pygments_lexer": "ipython3",
   "version": "3.6.4"
  }
 },
 "nbformat": 4,
 "nbformat_minor": 2
}
