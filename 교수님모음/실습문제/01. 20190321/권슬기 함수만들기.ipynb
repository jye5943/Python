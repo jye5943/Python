{
 "cells": [
  {
   "cell_type": "code",
   "execution_count": 1,
   "metadata": {},
   "outputs": [],
   "source": [
    "ListTotal = [1,2,3,4,5,6,9,9,9,9,9,9]"
   ]
  },
  {
   "cell_type": "code",
   "execution_count": 2,
   "metadata": {},
   "outputs": [],
   "source": [
    "def inputList(ListTotal):\n",
    "    MaxMyList = max(ListTotal)\n",
    "    MinMyList = min(ListTotal)\n",
    "## 최소값 최대값 구하기\n",
    "    ListTotal.remove(MaxMyList)\n",
    "    ListTotal.remove(MinMyList)\n",
    "## 리스트에서 최대값 최소값을 빼기\n",
    "    average = sum(ListTotal)/len(ListTotal)\n",
    "## 평균을 구한다.\n",
    "    return average\n",
    "## return step3"
   ]
  },
  {
   "cell_type": "code",
   "execution_count": 3,
   "metadata": {},
   "outputs": [
    {
     "data": {
      "text/plain": [
       "6.5"
      ]
     },
     "execution_count": 3,
     "metadata": {},
     "output_type": "execute_result"
    }
   ],
   "source": [
    "inputList(ListTotal)"
   ]
  }
 ],
 "metadata": {
  "kernelspec": {
   "display_name": "Python 3",
   "language": "python",
   "name": "python3"
  },
  "language_info": {
   "codemirror_mode": {
    "name": "ipython",
    "version": 3
   },
   "file_extension": ".py",
   "mimetype": "text/x-python",
   "name": "python",
   "nbconvert_exporter": "python",
   "pygments_lexer": "ipython3",
   "version": "3.6.4"
  }
 },
 "nbformat": 4,
 "nbformat_minor": 2
}
