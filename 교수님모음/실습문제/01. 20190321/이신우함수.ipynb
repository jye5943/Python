{
 "cells": [
  {
   "cell_type": "code",
   "execution_count": 1,
   "metadata": {},
   "outputs": [],
   "source": [
    "import pandas as pd"
   ]
  },
  {
   "cell_type": "code",
   "execution_count": 2,
   "metadata": {},
   "outputs": [],
   "source": [
    "def Ave(L):   ## 함수만들기 이름이 Ave 임\n",
    "    \n",
    "    del L[L.index(min(L))]  ## L 이라는 놈의 최소값의 인덱스값을 구해서 삭제해줌\n",
    "    del L[L.index(max(L))]  ## L 이라는 놈의 최대값의 인덱스값을 구해서 삭제해줌\n",
    "\n",
    "    average = sum(L)/len(L)   ## 평균을 구하기위해 L 이라는놈의 합을 개수로 나눠줌\n",
    "    \n",
    "    return average   ## 해당 함수(Ave)를 호출하면 average 값을 돌려줌(리턴)"
   ]
  },
  {
   "cell_type": "code",
   "execution_count": 3,
   "metadata": {},
   "outputs": [],
   "source": [
    "kk1 = [1,2,3,4,5,6,7,8,9,10]              ## 테스트를 위해 kk1 이라는 리스트\n",
    "kk2 = [10,20,30,40,50,60,70,80,90,100]"
   ]
  },
  {
   "cell_type": "code",
   "execution_count": 4,
   "metadata": {},
   "outputs": [
    {
     "data": {
      "text/plain": [
       "5.5"
      ]
     },
     "execution_count": 4,
     "metadata": {},
     "output_type": "execute_result"
    }
   ],
   "source": [
    "Ave(kk1)    ## Ave 함수 호출, 인자값으로 kk1 이라는 놈을 불러올꺼야!!"
   ]
  },
  {
   "cell_type": "code",
   "execution_count": 5,
   "metadata": {},
   "outputs": [
    {
     "data": {
      "text/plain": [
       "55.0"
      ]
     },
     "execution_count": 5,
     "metadata": {},
     "output_type": "execute_result"
    }
   ],
   "source": [
    "Ave(kk2)   ## Ave 함수 호출, 인자값으로 kk2 이라는 놈을 불러올꺼야!!"
   ]
  },
  {
   "cell_type": "code",
   "execution_count": null,
   "metadata": {},
   "outputs": [],
   "source": []
  }
 ],
 "metadata": {
  "kernelspec": {
   "display_name": "Python 3",
   "language": "python",
   "name": "python3"
  },
  "language_info": {
   "codemirror_mode": {
    "name": "ipython",
    "version": 3
   },
   "file_extension": ".py",
   "mimetype": "text/x-python",
   "name": "python",
   "nbconvert_exporter": "python",
   "pygments_lexer": "ipython3",
   "version": "3.7.1"
  }
 },
 "nbformat": 4,
 "nbformat_minor": 2
}
