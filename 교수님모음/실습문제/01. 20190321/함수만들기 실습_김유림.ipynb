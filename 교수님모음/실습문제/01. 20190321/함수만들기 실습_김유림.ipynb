{
 "cells": [
  {
   "cell_type": "code",
   "execution_count": null,
   "metadata": {},
   "outputs": [],
   "source": [
    "def listAverage (listValue):\n",
    "    #리스트를 정렬해야지(del쓸때만 해당)\n",
    "    #step1 = listValue.sort()\n",
    "    #리스트 최솟값최대값구하기\n",
    "    step2 = min(listValue)\n",
    "    #리스트에서 최소값대값빼기\n",
    "    step3 = max(listValue)\n",
    "    #평균구하기\n",
    "    step4 = listValue.remove(step2)\n",
    "    step5 = listValue.remove(step3)\n",
    "    #평균출력하기\n",
    "    step6 = sum(listValue)/len(listValue)\n",
    "    return step6"
   ]
  }
 ],
 "metadata": {
  "kernelspec": {
   "display_name": "Python 3",
   "language": "python",
   "name": "python3"
  },
  "language_info": {
   "codemirror_mode": {
    "name": "ipython",
    "version": 3
   },
   "file_extension": ".py",
   "mimetype": "text/x-python",
   "name": "python",
   "nbconvert_exporter": "python",
   "pygments_lexer": "ipython3",
   "version": "3.6.4"
  }
 },
 "nbformat": 4,
 "nbformat_minor": 2
}
