{
 "cells": [
  {
   "cell_type": "code",
   "execution_count": 18,
   "metadata": {},
   "outputs": [],
   "source": [
    "step1 = [52,654,84,54,231,54,1,2,3,4,5,100]"
   ]
  },
  {
   "cell_type": "code",
   "execution_count": 19,
   "metadata": {},
   "outputs": [],
   "source": [
    "def avgFunction (step1):\n",
    "\n",
    "    #step1. 리스트를 받는다\n",
    "    # import pandas as pd\n",
    "    # DataList= pd.      (\"../      \")\n",
    "    # step1 = DataList[\"       \"].tolist()\n",
    "\n",
    "    #step2. 최대값, 최솟값 찾는다 => 최대+최소\n",
    "    step2= max(step1) + min(step1)\n",
    "\n",
    "    #step3. 최대값, 최솟값 빼고 평균\n",
    "    step3 = (sum(step1) - step2) / (len(step1)-2)\n",
    "\n",
    "    return(step3)"
   ]
  },
  {
   "cell_type": "code",
   "execution_count": 20,
   "metadata": {},
   "outputs": [
    {
     "data": {
      "text/plain": [
       "58.9"
      ]
     },
     "execution_count": 20,
     "metadata": {},
     "output_type": "execute_result"
    }
   ],
   "source": [
    "avgFunction(step1)"
   ]
  },
  {
   "cell_type": "code",
   "execution_count": null,
   "metadata": {},
   "outputs": [],
   "source": []
  }
 ],
 "metadata": {
  "kernelspec": {
   "display_name": "Python 3",
   "language": "python",
   "name": "python3"
  },
  "language_info": {
   "codemirror_mode": {
    "name": "ipython",
    "version": 3
   },
   "file_extension": ".py",
   "mimetype": "text/x-python",
   "name": "python",
   "nbconvert_exporter": "python",
   "pygments_lexer": "ipython3",
   "version": "3.7.1"
  }
 },
 "nbformat": 4,
 "nbformat_minor": 2
}
