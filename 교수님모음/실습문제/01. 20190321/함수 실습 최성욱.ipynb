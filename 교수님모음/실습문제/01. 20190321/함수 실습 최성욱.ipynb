{
 "cells": [
  {
   "cell_type": "code",
   "execution_count": 8,
   "metadata": {},
   "outputs": [],
   "source": [
    "def avrList(numList):\n",
    "    step1 = numList.sort()\n",
    "    minValue = min(numList)\n",
    "    maxValue = max(numList)\n",
    "    numList.remove(minValue)\n",
    "    numList.remove(maxValue)\n",
    "    step3 = sum(numList) / len(numList)\n",
    "    return step3"
   ]
  },
  {
   "cell_type": "code",
   "execution_count": 17,
   "metadata": {},
   "outputs": [],
   "source": [
    "def averageList(numList):\n",
    "    #numList = [5,3,4,8,6]\n",
    "    step1 = numList.sort()\n",
    "    minValue = min(numList)\n",
    "    maxValue = max(numList)\n",
    "    numList.remove(minValue)\n",
    "    numList.remove(maxValue)\n",
    "    step3 = sum(numList) / len(numList)\n",
    "    return step3"
   ]
  },
  {
   "cell_type": "code",
   "execution_count": 22,
   "metadata": {},
   "outputs": [],
   "source": [
    "testList1 = [1,2,34,554,45,4]\n",
    "testList2 = [2,3,4,5,76,7]"
   ]
  }
 ],
 "metadata": {
  "kernelspec": {
   "display_name": "Python 3",
   "language": "python",
   "name": "python3"
  },
  "language_info": {
   "codemirror_mode": {
    "name": "ipython",
    "version": 3
   },
   "file_extension": ".py",
   "mimetype": "text/x-python",
   "name": "python",
   "nbconvert_exporter": "python",
   "pygments_lexer": "ipython3",
   "version": "3.6.4"
  }
 },
 "nbformat": 4,
 "nbformat_minor": 2
}
