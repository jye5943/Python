{
 "cells": [
  {
   "cell_type": "markdown",
   "metadata": {},
   "source": [
    "### 리스트를 받아서 최소값 최대값을 뺀 평균"
   ]
  },
  {
   "cell_type": "code",
   "execution_count": 1,
   "metadata": {},
   "outputs": [],
   "source": [
    "def averageFix(value):\n",
    "    minData = min(value)\n",
    "    maxData = max(value)\n",
    "    \n",
    "    while (value.count(minData) > 0):\n",
    "        value.remove(minData)\n",
    "    while (value.count(maxData) > 0):    \n",
    "        value.remove(maxData)\n",
    "    dataLen = len(value)\n",
    "    sumData = sum(value)\n",
    "    averageData = sumData / dataLen\n",
    "    return averageData"
   ]
  },
  {
   "cell_type": "code",
   "execution_count": 3,
   "metadata": {},
   "outputs": [],
   "source": [
    "import pandas as pd"
   ]
  },
  {
   "cell_type": "code",
   "execution_count": 4,
   "metadata": {},
   "outputs": [
    {
     "data": {
      "text/plain": [
       "35248.91490376756"
      ]
     },
     "execution_count": 4,
     "metadata": {},
     "output_type": "execute_result"
    }
   ],
   "source": [
    "customerData = pd.read_csv(\"./dataset/kopo_customerdata.csv\")\n",
    "customerDataList = customerData[\"TOTAL_AMOUNT\"].tolist()\n",
    "averageFix(customerDataList)"
   ]
  },
  {
   "cell_type": "code",
   "execution_count": 2,
   "metadata": {},
   "outputs": [
    {
     "data": {
      "text/plain": [
       "120.0"
      ]
     },
     "execution_count": 2,
     "metadata": {},
     "output_type": "execute_result"
    }
   ],
   "source": [
    "List = [100,100,100,110,120,130,150,150,150,]\n",
    "averageFix(List)"
   ]
  },
  {
   "cell_type": "code",
   "execution_count": null,
   "metadata": {},
   "outputs": [],
   "source": []
  }
 ],
 "metadata": {
  "kernelspec": {
   "display_name": "Python 3",
   "language": "python",
   "name": "python3"
  },
  "language_info": {
   "codemirror_mode": {
    "name": "ipython",
    "version": 3
   },
   "file_extension": ".py",
   "mimetype": "text/x-python",
   "name": "python",
   "nbconvert_exporter": "python",
   "pygments_lexer": "ipython3",
   "version": "3.7.1"
  }
 },
 "nbformat": 4,
 "nbformat_minor": 2
}
