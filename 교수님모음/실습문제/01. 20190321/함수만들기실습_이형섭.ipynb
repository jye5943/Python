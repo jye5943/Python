{
 "cells": [
  {
   "cell_type": "code",
   "execution_count": null,
   "metadata": {},
   "outputs": [],
   "source": [
    "#리스트를 인수로 받아서 최대,최소값을뺀 평균을 구하는 함수 만들기\n",
    "def listMx_MnAverage(listValue):\n",
    "    #1단계 : 리스트에서 최대값 최소값 뽑기\n",
    "    Max= max(listValue)\n",
    "    Min= min(listValue)\n",
    "    #2단계 : 리스트에서 최대값 최소값 제거하기\n",
    "    listValue.remove(Max)\n",
    "    listValue.remove(Min)\n",
    "    #3단계 : 최대,최소값 제거한 리스트에서 평균 구하기\n",
    "    step3 = sum(listValue)/len(listValue) # = average\n",
    "    return step3"
   ]
  }
 ],
 "metadata": {
  "kernelspec": {
   "display_name": "Python 3",
   "language": "python",
   "name": "python3"
  },
  "language_info": {
   "codemirror_mode": {
    "name": "ipython",
    "version": 3
   },
   "file_extension": ".py",
   "mimetype": "text/x-python",
   "name": "python",
   "nbconvert_exporter": "python",
   "pygments_lexer": "ipython3",
   "version": "3.6.4"
  }
 },
 "nbformat": 4,
 "nbformat_minor": 2
}
