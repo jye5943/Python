{
 "cells": [
  {
   "cell_type": "code",
   "execution_count": 6,
   "metadata": {},
   "outputs": [
    {
     "data": {
      "text/plain": [
       "['LEDTV_UN40En001',\n",
       " 'LEDTV_UN40En002',\n",
       " 'LEDTV_UN40En003',\n",
       " 'LEDTV_UN40En004',\n",
       " 'LEDTV_UN40En005']"
      ]
     },
     "execution_count": 6,
     "metadata": {},
     "output_type": "execute_result"
    }
   ],
   "source": [
    "preFix = \"LEDTV_\"\n",
    "tvList2 = [\"UN40En001\", \"LEDTV_UN40En002\", \"LEDTV_LEDTV_UN40En003\", \"UN40En004\", \"LEDTV_LEDTV_LEDTV_UN40En005\"]\n",
    "for i in range(0,len(tvList2)):\n",
    "    preFixCount = tvList2[i].count(preFix)\n",
    "    if(preFixCount == 0):\n",
    "        tvList2[i] = preFix + tvList2[i]\n",
    "    elif(preFixCount >= 2):\n",
    "        tvList2[i] = tvList2[i].replace(preFix, \"\")\n",
    "        tvList2[i] = preFix + tvList2[i]            \n",
    "    else:\n",
    "       continue\n",
    "tvList2"
   ]
  }
 ],
 "metadata": {
  "kernelspec": {
   "display_name": "Python 3",
   "language": "python",
   "name": "python3"
  },
  "language_info": {
   "codemirror_mode": {
    "name": "ipython",
    "version": 3
   },
   "file_extension": ".py",
   "mimetype": "text/x-python",
   "name": "python",
   "nbconvert_exporter": "python",
   "pygments_lexer": "ipython3",
   "version": "3.7.1"
  }
 },
 "nbformat": 4,
 "nbformat_minor": 2
}
